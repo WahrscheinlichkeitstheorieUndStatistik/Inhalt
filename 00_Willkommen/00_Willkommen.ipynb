{
 "cells": [
  {
   "cell_type": "markdown",
   "metadata": {},
   "source": [
    "# Willkommen ins Wahrscheinlichkeitstheorie und Statistik"
   ]
  },
  {
   "cell_type": "markdown",
   "metadata": {},
   "source": [
    "## Introduction to the course"
   ]
  },
  {
   "cell_type": "markdown",
   "metadata": {},
   "source": [
    "** TO BE FILLED**"
   ]
  },
  {
   "cell_type": "markdown",
   "metadata": {},
   "source": [
    "The course will make use of jupyter notebook and python. An introduction to jupyter notebooks is provided in this notebook. An introduction to the basics of python is provided using simple solved excercies in the notebook named \"00_intro_to_python.ipynb.\" "
   ]
  },
  {
   "cell_type": "markdown",
   "metadata": {},
   "source": [
    "## Introduction to jupyter notebook"
   ]
  },
  {
   "cell_type": "markdown",
   "metadata": {},
   "source": [
    "### What is a Jupyter notebook?"
   ]
  },
  {
   "cell_type": "markdown",
   "metadata": {},
   "source": [
    "Jupyter notebook integrates code and its output into a single document that combines visualizations, narrative texts, mathematical equations, and other rich media. Jupyter notebook could be opened from any folder and the notebook page on the browser lists all the files in the current folder. A new notebook could be created from the required folder or an existing folder could be opened just by clicking the notebook file (typically with a prefix of .ipynb) from the list. \n",
    "\n",
    "A typical view of Jupyter notebook dashboard would look like the diagram below"
   ]
  },
  {
   "cell_type": "markdown",
   "metadata": {},
   "source": [
    "<img src=\"images/dashboard.png\">"
   ]
  },
  {
   "cell_type": "markdown",
   "metadata": {},
   "source": [
    "And a new notebook could be opened by clicking the \"new\" button found on the right top corner as shown in the pic below."
   ]
  },
  {
   "cell_type": "markdown",
   "metadata": {},
   "source": [
    "<img src=\"images/new_notebook.png\">"
   ]
  },
  {
   "cell_type": "markdown",
   "metadata": {
    "heading_collapsed": true
   },
   "source": [
    "### Notebook interface"
   ]
  },
  {
   "cell_type": "markdown",
   "metadata": {
    "hidden": true
   },
   "source": [
    "The whole notebook interface could be devided into three different types of cells namely code, markdown, and Raw NB convert. Out of these, the most important ones would be code cells and markdown cells.\n",
    "\n",
    "Code cells - Contents would be sent for execution and the output will be displayed in the footer cell. This cell is used for coding. Given below is a code cell with a small Python code executed in it."
   ]
  },
  {
   "cell_type": "code",
   "execution_count": 11,
   "metadata": {
    "hidden": true
   },
   "outputs": [
    {
     "data": {
      "text/plain": [
       "7"
      ]
     },
     "execution_count": 11,
     "metadata": {},
     "output_type": "execute_result"
    }
   ],
   "source": [
    "a = 3\n",
    "b = 4\n",
    "\n",
    "a + b"
   ]
  },
  {
   "cell_type": "markdown",
   "metadata": {
    "hidden": true
   },
   "source": [
    "Markdown cells - Contents would be rendered as HTML and serves as an explanatory text. This can be used to display images, tables, graphs, formulaes, questions, and other text contents. Given below is a rendered example of a markdown cell which has a math equation written in latex. Feel free to double-click the cell to see the latex code behind it."
   ]
  },
  {
   "cell_type": "markdown",
   "metadata": {
    "hidden": true
   },
   "source": [
    "$\\frac{e^x}{2}$\n",
    "\n",
    "<br>\n",
    "\n",
    "\n",
    "|            | rainy | sunny |\n",
    "|------------|-------|-------|\n",
    "| cloudy     | 0.45  | 0.1   |\n",
    "| not cloudy | 0.05  | 0.4   |"
   ]
  },
  {
   "cell_type": "markdown",
   "metadata": {
    "hidden": true
   },
   "source": [
    "To execute a code or markdown cell, press SHIFT+ENTER or click the RUN button in the toolbar. It will execute the current cell and produce a new cell below. You can edit the type of new cell in the Cell > Cell Type in the menu. "
   ]
  },
  {
   "cell_type": "markdown",
   "metadata": {},
   "source": [
    "### Kernels"
   ]
  },
  {
   "cell_type": "markdown",
   "metadata": {},
   "source": [
    "When you run code cell, the code is executed within the kernel and any output produced by the code will be returned back to the cell to be displayed. A screenshot of the kernel menu is shown below:"
   ]
  },
  {
   "cell_type": "markdown",
   "metadata": {},
   "source": [
    "<img src=\"images/kernel_menu.png\">"
   ]
  },
  {
   "cell_type": "markdown",
   "metadata": {},
   "source": [
    "There are various options in the Kernel menu that includes \n",
    "\n",
    "Restart - restarts the kernel, thus clearing all the variables that were defined\n",
    "\n",
    "Restart & clear output - Same as above, but also clears the output of all the code cells\n",
    "\n",
    "Restart & run all - Same as above, and also runs all the cells from the start to the end.\n",
    "\n",
    "P.S: if the kernel is stuck on any computations, it can be stopped by using the 'Interrupt' option in the 'Kernel' menu."
   ]
  },
  {
   "cell_type": "markdown",
   "metadata": {},
   "source": [
    "### Save and checkpoint"
   ]
  },
  {
   "cell_type": "markdown",
   "metadata": {},
   "source": [
    "This option is found under 'File' menu in the notebook. CTRL + S will save the notebook by calling 'Save and checkpoint\". File > Revert to checkpoint helps to recover the unsaved work. Every 120 seconds, a checkpoint will be created automatically to facilitate recovery. "
   ]
  },
  {
   "cell_type": "markdown",
   "metadata": {},
   "source": [
    "### Keyboard shortcuts"
   ]
  },
  {
   "cell_type": "markdown",
   "metadata": {},
   "source": [
    "**Esc** followed by **H** shows all available shorcuts. \n",
    "\n",
    "Two types of shortcuts are:\n",
    "> **Command mode shortcuts**: Enabled by pressing **Esc**. These shorcuts are useful to organize the notebook contents.\n",
    "\n",
    "> **Edit mode shortcuts**: Enabled by pressing **Enter**. These shortcuts are useful to write and edit code.\n"
   ]
  },
  {
   "cell_type": "markdown",
   "metadata": {},
   "source": [
    "## Submitting assignments"
   ]
  },
  {
   "cell_type": "markdown",
   "metadata": {},
   "source": [
    "After every lab class an assignment will be made available under the \"materials-ws2018\". Once the assignment is complete, a zip of the folder can be downloaded using the compress and download button as shown below:"
   ]
  },
  {
   "cell_type": "markdown",
   "metadata": {},
   "source": [
    "<img src=\"images/download_zip.png\">"
   ]
  },
  {
   "cell_type": "markdown",
   "metadata": {},
   "source": [
    "The downloaded assignment zip file can be submitted through LEA."
   ]
  },
  {
   "cell_type": "code",
   "execution_count": null,
   "metadata": {},
   "outputs": [],
   "source": []
  }
 ],
 "metadata": {
  "kernelspec": {
   "display_name": "Python 3",
   "language": "python",
   "name": "python3"
  },
  "language_info": {
   "codemirror_mode": {
    "name": "ipython",
    "version": 3
   },
   "file_extension": ".py",
   "mimetype": "text/x-python",
   "name": "python",
   "nbconvert_exporter": "python",
   "pygments_lexer": "ipython3",
   "version": "3.6.4"
  }
 },
 "nbformat": 4,
 "nbformat_minor": 2
}
