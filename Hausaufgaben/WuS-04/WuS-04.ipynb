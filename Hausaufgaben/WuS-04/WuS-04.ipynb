{
 "cells": [
  {
   "cell_type": "markdown",
   "metadata": {
    "deletable": false,
    "editable": false,
    "nbgrader": {
     "checksum": "02a183b4d1c321cba25c0f470c0dbefd",
     "grade": false,
     "grade_id": "cell-eef5f36d1068ace5",
     "locked": true,
     "schema_version": 1,
     "solution": false
    }
   },
   "source": [
    "# Aufgabe - 4"
   ]
  },
  {
   "cell_type": "markdown",
   "metadata": {},
   "source": [
    "<div class=\"alert alert-block alert-danger\">\n",
    "\n",
    "### Student Nutzername 1: ---------\n",
    "\n",
    "### Student Nutzername 2: ---------\n",
    "\n",
    "</div>"
   ]
  },
  {
   "cell_type": "markdown",
   "metadata": {
    "deletable": false,
    "editable": false,
    "nbgrader": {
     "checksum": "27388c06fe8fd97c84ffd1644f5e6eae",
     "grade": false,
     "grade_id": "cell-3160d9bf0825ed0c",
     "locked": true,
     "schema_version": 1,
     "solution": false
    }
   },
   "source": [
    "Assume : you are the TEACHER of this lecture and you want to check, how good the students understood the last lecture. Formulate 5 questions and 5 expected answers by which you check how well the students did understand the lecture. \n",
    "In each cell below type one question and answer <br>\n",
    "<b>(10 points )</b> 2 points for each question and answer"
   ]
  },
  {
   "cell_type": "markdown",
   "metadata": {},
   "source": [
    "Qn1:"
   ]
  },
  {
   "cell_type": "markdown",
   "metadata": {
    "deletable": false,
    "nbgrader": {
     "checksum": "cda1d3336cc03afc0439d6ddd1e5498d",
     "grade": true,
     "grade_id": "cell-6de0b9cb75f3ae45",
     "locked": false,
     "points": 2,
     "schema_version": 1,
     "solution": true
    }
   },
   "source": [
    "YOUR ANSWER HERE"
   ]
  },
  {
   "cell_type": "markdown",
   "metadata": {},
   "source": [
    "Qn2:"
   ]
  },
  {
   "cell_type": "markdown",
   "metadata": {
    "deletable": false,
    "nbgrader": {
     "checksum": "3236229c55100b24b725b002418ae23a",
     "grade": true,
     "grade_id": "cell-38e6087b9b658cd3",
     "locked": false,
     "points": 2,
     "schema_version": 1,
     "solution": true
    }
   },
   "source": [
    "YOUR ANSWER HERE"
   ]
  },
  {
   "cell_type": "markdown",
   "metadata": {},
   "source": [
    "Qn3:"
   ]
  },
  {
   "cell_type": "markdown",
   "metadata": {
    "deletable": false,
    "nbgrader": {
     "checksum": "7bd385f521d383529f56c777bd2175f1",
     "grade": true,
     "grade_id": "cell-182f84cba82dafc5",
     "locked": false,
     "points": 2,
     "schema_version": 1,
     "solution": true
    }
   },
   "source": [
    "YOUR ANSWER HERE"
   ]
  },
  {
   "cell_type": "markdown",
   "metadata": {},
   "source": [
    "Qn4:"
   ]
  },
  {
   "cell_type": "markdown",
   "metadata": {
    "deletable": false,
    "nbgrader": {
     "checksum": "4096464f52ec7f2a8732a78350caa795",
     "grade": true,
     "grade_id": "cell-430f6db254d57228",
     "locked": false,
     "points": 2,
     "schema_version": 1,
     "solution": true
    }
   },
   "source": [
    "YOUR ANSWER HERE"
   ]
  },
  {
   "cell_type": "markdown",
   "metadata": {},
   "source": [
    "Qn5:"
   ]
  },
  {
   "cell_type": "markdown",
   "metadata": {
    "deletable": false,
    "nbgrader": {
     "checksum": "3ab8860863e36c797053b26810a95f81",
     "grade": true,
     "grade_id": "cell-90f3abef68529f49",
     "locked": false,
     "points": 2,
     "schema_version": 1,
     "solution": true
    }
   },
   "source": [
    "YOUR ANSWER HERE"
   ]
  },
  {
   "cell_type": "markdown",
   "metadata": {},
   "source": [
    "<div class=\"alert alert-block alert-success\">\n",
    "<h1>Application cases from Correlation Coefficient,Least Mean Squares, sampled RVs, Tschebyscheff</h1>\n",
    "<h2>Topics:</h2>\n",
    "<h3>goodness of fit for the least mean sqaure line, distortion by an outlier, estimates of Tschebyscheff, non-standard distribution of distances</h3>\n",
    "</div>\n",
    "<div class=\"alert alert-block alert-info\">\n",
    "<h4> python: plt.scatter(...), plt.plot(), np.linspace(...)</h4>\n",
    "</div>"
   ]
  },
  {
   "cell_type": "markdown",
   "metadata": {
    "deletable": false,
    "editable": false,
    "nbgrader": {
     "checksum": "7464946d7e839180a73458df76d53e49",
     "grade": false,
     "grade_id": "cell-e4b221417e872d2f",
     "locked": true,
     "schema_version": 1,
     "solution": false
    }
   },
   "source": [
    "## Task 1:\n",
    "\n",
    "In lecture \"Mehrere ZV: Korrelation\", slide \"Beide Regressionsgerade\" there is a second line, which shows the size as function of the weight.\n",
    "\n",
    "1. calculate this function $x(y)= cy+d$ using the formulas given in the lecture\n",
    "1. draw this line together with $y(x)$ in one diagram like on slide 26 \n",
    "1. determine the opening angle $\\alpha$ between the two lines\n",
    "1. validate that $\\cos(\\alpha) ==$ ```np.corrcoef(myweight,mysize)```\n"
   ]
  },
  {
   "cell_type": "code",
   "execution_count": null,
   "metadata": {
    "deletable": false,
    "nbgrader": {
     "checksum": "4338e0f192f1afbc910b803b211db210",
     "grade": true,
     "grade_id": "cell-2f820e01a7ec874a",
     "locked": false,
     "points": 5,
     "schema_version": 1,
     "solution": true
    }
   },
   "outputs": [],
   "source": [
    "import numpy as np\n",
    "import matplotlib.pyplot as plt\n",
    "import math\n",
    "\n",
    "\n",
    "# this function is for y(x) = ax + b\n",
    "def get_ab(x_data,y_data):\n",
    "    \n",
    "    mytmp=np.cov(m=x_data,y=y_data)\n",
    "    mya = mytmp[0,1]/x_data.var()\n",
    "    myb = y_data.mean() - mya*x_data.mean()\n",
    "    return mya,myb\n",
    "    \n",
    "# similar to the above function implement for 𝑥(𝑦)=𝑐𝑦+𝑑  \n",
    "def get_cd(x_data,y_data):\n",
    "    \"\"\"\n",
    "    This function should return the slope and intercept. i.e c and d in our case\n",
    "    \"\"\"\n",
    "    \n",
    "    # YOUR CODE HERE\n",
    "    raise NotImplementedError()\n",
    "    \n",
    "    return myc,myd\n",
    "\n",
    "\n",
    "mysize = np.array([155,155,157,159,159,162,163,163,163,163,163,\\\n",
    "164,164,166,167,167,168,168,168,168,169,169,170,170,172,172,174])\n",
    "\n",
    "myweight = np.array([47,49,47,50,52,50,45,47,50,55,57,52,65,49,\\\n",
    "53,56,52,58,58,67,55,64,53,61,61,68,66])  \n",
    "\n",
    "mya,myb = get_ab(mysize,myweight)\n",
    "myc,myd = get_cd(mysize,myweight)"
   ]
  },
  {
   "cell_type": "markdown",
   "metadata": {
    "deletable": false,
    "editable": false,
    "nbgrader": {
     "checksum": "b39f00c00b8b6f48985bee3416533c1c",
     "grade": false,
     "grade_id": "cell-11b5afe19165f706",
     "locked": true,
     "schema_version": 1,
     "solution": false
    }
   },
   "source": [
    "Use the below cell for plotting"
   ]
  },
  {
   "cell_type": "code",
   "execution_count": null,
   "metadata": {
    "deletable": false,
    "nbgrader": {
     "checksum": "655697d0f7db6cbed99232ad859cb50d",
     "grade": true,
     "grade_id": "cell-8c3a8bec6355629e",
     "locked": false,
     "points": 5,
     "schema_version": 1,
     "solution": true
    }
   },
   "outputs": [],
   "source": [
    "def plotting(mya,myb,myc,myd):\n",
    "    \n",
    "    \"\"\"\n",
    "    Use this function to plot the two lines\n",
    "    \"\"\"\n",
    "    # YOUR CODE HERE\n",
    "    raise NotImplementedError()\n",
    "\n",
    "plotting(mya,myb,myc,myd)   "
   ]
  },
  {
   "cell_type": "markdown",
   "metadata": {
    "deletable": false,
    "editable": false,
    "nbgrader": {
     "checksum": "cbfbe783685f15e93e579d9f76e49c3f",
     "grade": false,
     "grade_id": "cell-d1fc8f5b2d303e4c",
     "locked": true,
     "schema_version": 1,
     "solution": false
    }
   },
   "source": [
    "Use the below cell to compute the opening angles"
   ]
  },
  {
   "cell_type": "code",
   "execution_count": null,
   "metadata": {
    "deletable": false,
    "nbgrader": {
     "checksum": "6350eeaca911163d15524bac30610591",
     "grade": true,
     "grade_id": "cell-e4885f90b459f957",
     "locked": false,
     "points": 5,
     "schema_version": 1,
     "solution": true
    }
   },
   "outputs": [],
   "source": [
    "def compute_angle():\n",
    "    \"\"\"\n",
    "    This function is used to compute and return the opening angle \n",
    "    \"\"\"\n",
    "    # YOUR CODE HERE\n",
    "    raise NotImplementedError()\n",
    "    return alpha\n",
    "alpha = compute_angle()\n",
    "print(np.cos(alpha))"
   ]
  },
  {
   "cell_type": "markdown",
   "metadata": {
    "deletable": false,
    "editable": false,
    "nbgrader": {
     "checksum": "99e6ca0b14fc1d06af00bfaeb9beebe4",
     "grade": false,
     "grade_id": "cell-5ec97a88300c95e0",
     "locked": true,
     "schema_version": 1,
     "solution": false
    }
   },
   "source": [
    "Use the below cell to validate that cos(𝛼)== np.corrcoef(myweight,mysize)"
   ]
  },
  {
   "cell_type": "code",
   "execution_count": null,
   "metadata": {
    "deletable": false,
    "nbgrader": {
     "checksum": "4a0db1593936feb1d6aea657f5f9a2c8",
     "grade": true,
     "grade_id": "cell-8132567fc09b2327",
     "locked": false,
     "points": 3,
     "schema_version": 1,
     "solution": true
    }
   },
   "outputs": [],
   "source": [
    "# YOUR CODE HERE\n",
    "raise NotImplementedError()"
   ]
  },
  {
   "cell_type": "markdown",
   "metadata": {
    "deletable": false,
    "editable": false,
    "nbgrader": {
     "checksum": "60015521698d74aa44f6999ab07e44fc",
     "grade": false,
     "grade_id": "cell-2a81dea9316ea1b7",
     "locked": true,
     "schema_version": 1,
     "solution": false
    }
   },
   "source": [
    "## Task 2:\n",
    "\n",
    "From lecture \"Bienayme-Tschebyscheff\" slide 22 \"Outlier Algorithm\" implement the code in python. Then adding the data point (180cm, 150kg) to the weight / size data from \"Mehrere ZV: Korrelation\", slide \"Hängt G von S ab?\".\n",
    "\n",
    "\n"
   ]
  },
  {
   "cell_type": "code",
   "execution_count": null,
   "metadata": {
    "deletable": false,
    "nbgrader": {
     "checksum": "7d031caf533bb1aef6cd604cf863a124",
     "grade": true,
     "grade_id": "cell-c3fa41b188a0a8ca",
     "locked": false,
     "points": 12,
     "schema_version": 1,
     "solution": true
    }
   },
   "outputs": [],
   "source": [
    "# YOUR CODE HERE\n",
    "raise NotImplementedError()"
   ]
  },
  {
   "cell_type": "markdown",
   "metadata": {},
   "source": [
    "How to choose the function parameters ```Pp1,Pp2``` to filter out the new point as an outlier?"
   ]
  },
  {
   "cell_type": "markdown",
   "metadata": {
    "deletable": false,
    "nbgrader": {
     "checksum": "7fbd95248b6bc226276ea87e79db0831",
     "grade": true,
     "grade_id": "cell-c32ad34a913f810e",
     "locked": false,
     "points": 6,
     "schema_version": 1,
     "solution": true
    }
   },
   "source": [
    "YOUR ANSWER HERE"
   ]
  },
  {
   "cell_type": "markdown",
   "metadata": {
    "deletable": false,
    "editable": false,
    "nbgrader": {
     "checksum": "2a20c590b4cb1f40a560265fd94972dc",
     "grade": false,
     "grade_id": "cell-fcc3600380c673f9",
     "locked": true,
     "schema_version": 1,
     "solution": false
    }
   },
   "source": [
    "## Task 3:\n",
    "\n",
    "1. determine the sum of errors on slide 26 in \"Mehrere ZV: Korrelation\", i.e. build the residual  sum<br>\n",
    "$res = \\sum \\epsilon^2_i$\n",
    "1. add an outlier to the weight / size data, namely add the datapoint (180cm, 150kg) and observe how ***ALL*** local residues increase sigificantly\n",
    "1. draw the new line into the function plot from Task 1."
   ]
  },
  {
   "cell_type": "code",
   "execution_count": null,
   "metadata": {
    "deletable": false,
    "nbgrader": {
     "checksum": "5b226ee7f45a2e20c049b17d3594de11",
     "grade": true,
     "grade_id": "cell-1e29f3225245da6b",
     "locked": false,
     "points": 6,
     "schema_version": 1,
     "solution": true
    }
   },
   "outputs": [],
   "source": [
    "def get_res(mysize,myweight,slope,intercept):\n",
    "    \"\"\"\n",
    "    This function should return the residual sum\n",
    "    \"\"\"\n",
    "    # YOUR CODE HERE\n",
    "    raise NotImplementedError()\n",
    "    return res\n",
    "\n",
    "res1 = get_res(mysize,myweight,mya,myb)\n",
    "print (\"Residual sum:\",res)"
   ]
  },
  {
   "cell_type": "markdown",
   "metadata": {
    "deletable": false,
    "editable": false,
    "nbgrader": {
     "checksum": "e18f24ea887135fdfa349149f7fd0f3d",
     "grade": false,
     "grade_id": "cell-ca0ce0c1f2563132",
     "locked": true,
     "schema_version": 1,
     "solution": false
    }
   },
   "source": [
    "Use the below cell to compute the new residual sum"
   ]
  },
  {
   "cell_type": "code",
   "execution_count": null,
   "metadata": {
    "deletable": false,
    "nbgrader": {
     "checksum": "e28eee61626dfbe049cef3e3fac965a9",
     "grade": true,
     "grade_id": "cell-ec431c45b325d122",
     "locked": false,
     "points": 6,
     "schema_version": 1,
     "solution": true
    }
   },
   "outputs": [],
   "source": [
    "# YOUR CODE HERE\n",
    "raise NotImplementedError()"
   ]
  },
  {
   "cell_type": "markdown",
   "metadata": {
    "deletable": false,
    "editable": false,
    "nbgrader": {
     "checksum": "ffa06e4537dfd72d8b65a3dfeb49e3fb",
     "grade": false,
     "grade_id": "cell-050c17d2865d8473",
     "locked": true,
     "schema_version": 1,
     "solution": false
    }
   },
   "source": [
    " Use the below cell for plotting"
   ]
  },
  {
   "cell_type": "code",
   "execution_count": null,
   "metadata": {
    "deletable": false,
    "nbgrader": {
     "checksum": "22140c7d87330622bedfcabd0191bc3f",
     "grade": true,
     "grade_id": "cell-9cd1478bffda3a0f",
     "locked": false,
     "points": 6,
     "schema_version": 1,
     "solution": true
    }
   },
   "outputs": [],
   "source": [
    "# YOUR CODE HERE\n",
    "raise NotImplementedError()"
   ]
  },
  {
   "cell_type": "markdown",
   "metadata": {
    "deletable": false,
    "editable": false,
    "nbgrader": {
     "checksum": "18622aea4d0b0292ef814d3753bdd5c6",
     "grade": false,
     "grade_id": "cell-a5d5aa1bb1d38c29",
     "locked": true,
     "schema_version": 1,
     "solution": false
    }
   },
   "source": [
    "## Task 4:\n",
    "\n",
    "Let the RV be defined by \"$H_{100}$ is the ratio of $6$'s appearing when throwing a die 100 times\".\n",
    "\n",
    "Calculate the probability for $P(|H_{100} - \\frac{1}{6}|)$ exactly. "
   ]
  },
  {
   "cell_type": "markdown",
   "metadata": {
    "deletable": false,
    "nbgrader": {
     "checksum": "eecae863b489a707c648616fd02bac79",
     "grade": true,
     "grade_id": "cell-97fbd3d41f890a4f",
     "locked": false,
     "points": 9,
     "schema_version": 1,
     "solution": true
    }
   },
   "source": [
    "YOUR ANSWER HERE"
   ]
  },
  {
   "cell_type": "markdown",
   "metadata": {
    "deletable": false,
    "editable": false,
    "nbgrader": {
     "checksum": "33bf8a9fb3b6b7dd629828c290df5528",
     "grade": false,
     "grade_id": "cell-0c5ab82b955a0b04",
     "locked": true,
     "schema_version": 1,
     "solution": false
    }
   },
   "source": [
    "Compare this result to the estimate produced when using the Bienayme-Tschebyscheff theorem."
   ]
  },
  {
   "cell_type": "markdown",
   "metadata": {
    "deletable": false,
    "nbgrader": {
     "checksum": "980cab2bca14160d2b7ed70556706a56",
     "grade": true,
     "grade_id": "cell-5058d8a9741f8d52",
     "locked": false,
     "points": 9,
     "schema_version": 1,
     "solution": true
    }
   },
   "source": [
    "YOUR ANSWER HERE"
   ]
  },
  {
   "cell_type": "markdown",
   "metadata": {
    "deletable": false,
    "editable": false,
    "nbgrader": {
     "checksum": "4c6662bdb32eb68c698a1dda93d15e56",
     "grade": false,
     "grade_id": "cell-5931e0ca56ab69c7",
     "locked": true,
     "schema_version": 1,
     "solution": false
    }
   },
   "source": [
    "## Task 5:\n",
    "\n",
    "Assume two robots are placed at on a indoor soccer field of size 8m X 12m. What is their expected distance?\n",
    "\n",
    "HINT: model the robots as the two data tuples $D1 = (x_1,y_1)$ and $D2 =(x_2,y_2)$. Sample these distances by sampling at random many different robot positions. Then use the euclidian distance between them as $d(D1,D2)= \\sqrt{(x_1-x_2)^2+(y_1-y_2)^2}$. \n",
    "\n",
    "After storing the observed distances print a histogram like shown below using 100 bins."
   ]
  },
  {
   "cell_type": "markdown",
   "metadata": {
    "deletable": false,
    "editable": false,
    "nbgrader": {
     "checksum": "b4d34b87ff02ae7e793752ab116bed1f",
     "grade": false,
     "grade_id": "cell-2e91a90bbad247fb",
     "locked": true,
     "schema_version": 1,
     "solution": false
    }
   },
   "source": [
    "Use the below cell to compute distances after sampling the robot positions"
   ]
  },
  {
   "cell_type": "code",
   "execution_count": null,
   "metadata": {
    "deletable": false,
    "nbgrader": {
     "checksum": "9167688862c54fe0bfc8bb85ee9c9af1",
     "grade": true,
     "grade_id": "cell-b6fd535c7ecee1af",
     "locked": false,
     "points": 10,
     "schema_version": 1,
     "solution": true
    }
   },
   "outputs": [],
   "source": [
    "# YOUR CODE HERE\n",
    "raise NotImplementedError()"
   ]
  },
  {
   "cell_type": "markdown",
   "metadata": {
    "deletable": false,
    "editable": false,
    "nbgrader": {
     "checksum": "37edc0dd5ce970a036da401748d392cd",
     "grade": false,
     "grade_id": "cell-5853aa8883b7f03d",
     "locked": true,
     "schema_version": 1,
     "solution": false
    }
   },
   "source": [
    "Use the below cell for plotting the histogram"
   ]
  },
  {
   "cell_type": "code",
   "execution_count": null,
   "metadata": {
    "deletable": false,
    "nbgrader": {
     "checksum": "be34dd76798150dbfce634c3ff8c1096",
     "grade": true,
     "grade_id": "cell-0ecd07ee560584e5",
     "locked": false,
     "points": 8,
     "schema_version": 1,
     "solution": true
    }
   },
   "outputs": [],
   "source": [
    "# YOUR CODE HERE\n",
    "raise NotImplementedError()"
   ]
  },
  {
   "cell_type": "markdown",
   "metadata": {
    "deletable": false,
    "editable": false,
    "nbgrader": {
     "checksum": "67a825c9df65d1ef0b52007b8f5ff733",
     "grade": false,
     "grade_id": "cell-ac639b1c1bc903d4",
     "locked": true,
     "schema_version": 1,
     "solution": false
    }
   },
   "source": [
    "## How to draw a histogram"
   ]
  },
  {
   "cell_type": "markdown",
   "metadata": {
    "deletable": false,
    "editable": false,
    "nbgrader": {
     "checksum": "f5d9e80e21b4495cea21080f4a14944e",
     "grade": false,
     "grade_id": "cell-f574729e2bf58a0b",
     "locked": true,
     "schema_version": 1,
     "solution": false
    }
   },
   "source": [
    "Use the following sample code for drawing a histogram"
   ]
  },
  {
   "cell_type": "code",
   "execution_count": 1,
   "metadata": {
    "deletable": false,
    "editable": false,
    "nbgrader": {
     "checksum": "36d19d1af26e50e500399b89d9e29197",
     "grade": false,
     "grade_id": "cell-f293ee08426add97",
     "locked": true,
     "schema_version": 1,
     "solution": false
    }
   },
   "outputs": [],
   "source": [
    "import numpy as np\n",
    "import math\n",
    "from scipy import stats\n",
    "import matplotlib.pyplot as plt\n",
    "%matplotlib inline"
   ]
  },
  {
   "cell_type": "code",
   "execution_count": 2,
   "metadata": {
    "deletable": false,
    "editable": false,
    "nbgrader": {
     "checksum": "1720a9debc6cdc66e162a03c1856e476",
     "grade": false,
     "grade_id": "cell-7129939407694f54",
     "locked": true,
     "schema_version": 1,
     "solution": false
    }
   },
   "outputs": [
    {
     "data": {
      "image/png": "[encoded data removed]",
      "text/plain": [
       "<matplotlib.figure.Figure at 0x7f7bc08e0b38>"
      ]
     },
     "metadata": {},
     "output_type": "display_data"
    }
   ],
   "source": [
    "mu, sigma = 100, 15\n",
    "x = mu + sigma * np.random.randn(10000)\n",
    "hist, bins = np.histogram(x, bins=50)\n",
    "width = .90 * (bins[1] - bins[0])\n",
    "center = (bins[:-1] + bins[1:]) / 2\n",
    "fig,ax = plt.subplots(ncols=1,nrows=1,figsize=(8,5))\n",
    "plt.bar(center, hist, align='center', width=width)\n",
    "ax.grid(True)"
   ]
  },
  {
   "cell_type": "code",
   "execution_count": null,
   "metadata": {},
   "outputs": [],
   "source": []
  }
 ],
 "metadata": {
  "kernelspec": {
   "display_name": "Python 3",
   "language": "python",
   "name": "python3"
  },
  "language_info": {
   "codemirror_mode": {
    "name": "ipython",
    "version": 3
   },
   "file_extension": ".py",
   "mimetype": "text/x-python",
   "name": "python",
   "nbconvert_exporter": "python",
   "pygments_lexer": "ipython3",
   "version": "3.5.2"
  },
  "nbTranslate": {
   "displayLangs": [
    "de",
    "en"
   ],
   "hotkey": "alt-t",
   "langInMainMenu": true,
   "sourceLang": "en",
   "targetLang": "de",
   "useGoogleTranslate": true
  }
 },
 "nbformat": 4,
 "nbformat_minor": 2
}
