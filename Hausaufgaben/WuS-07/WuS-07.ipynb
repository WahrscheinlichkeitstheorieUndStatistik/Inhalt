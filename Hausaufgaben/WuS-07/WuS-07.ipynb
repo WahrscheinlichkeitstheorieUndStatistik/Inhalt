{
 "cells": [
  {
   "cell_type": "markdown",
   "metadata": {
    "deletable": false,
    "editable": false,
    "nbgrader": {
     "checksum": "406994ba016ca0255c3feba7d71c65fd",
     "grade": false,
     "grade_id": "cell-82dc4c5f01133258",
     "locked": true,
     "schema_version": 1,
     "solution": false
    }
   },
   "source": [
    "# Aufgabe - 7"
   ]
  },
  {
   "cell_type": "markdown",
   "metadata": {},
   "source": [
    "<div class=\"alert alert-block alert-danger\">\n",
    "\n",
    "### Student Nutzername 1: ---------\n",
    "\n",
    "### Student Nutzername 2: ---------\n",
    "\n",
    "</div>"
   ]
  },
  {
   "cell_type": "markdown",
   "metadata": {
    "deletable": false,
    "editable": false,
    "nbgrader": {
     "checksum": "0723436d2877d7a64b020e180c674cd4",
     "grade": false,
     "grade_id": "cell-cbdeffea8b50b753",
     "locked": true,
     "schema_version": 1,
     "solution": false
    }
   },
   "source": [
    "Assume : you are the TEACHER of this lecture and you want to check, how good the students understood the last lecture. Formulate 5 questions and 5 expected answers by which you check how well the students did understand the lecture. \n",
    "In each cell below type one question and answer <br>\n",
    "<b>(10 points )</b> 2 points for each question and answer"
   ]
  },
  {
   "cell_type": "markdown",
   "metadata": {},
   "source": [
    "Qn1:"
   ]
  },
  {
   "cell_type": "markdown",
   "metadata": {
    "deletable": false,
    "nbgrader": {
     "checksum": "06960339751c62cfa430d304a3495de0",
     "grade": true,
     "grade_id": "cell-cc980ed7735fe1bg",
     "locked": false,
     "points": 2,
     "schema_version": 1,
     "solution": true
    }
   },
   "source": [
    "YOUR ANSWER HERE"
   ]
  },
  {
   "cell_type": "markdown",
   "metadata": {},
   "source": [
    "Qn2:"
   ]
  },
  {
   "cell_type": "markdown",
   "metadata": {
    "deletable": false,
    "nbgrader": {
     "checksum": "e7311d2c0f9a1030b588dc78f116a6b8",
     "grade": true,
     "grade_id": "cell-9e46944d3361ce24",
     "locked": false,
     "points": 2,
     "schema_version": 1,
     "solution": true
    }
   },
   "source": [
    "YOUR ANSWER HERE"
   ]
  },
  {
   "cell_type": "markdown",
   "metadata": {},
   "source": [
    "Qn3:"
   ]
  },
  {
   "cell_type": "markdown",
   "metadata": {
    "deletable": false,
    "nbgrader": {
     "checksum": "96ed393492a9dde6b994eb67b84c7d92",
     "grade": true,
     "grade_id": "cell-d35b34afe2cba4ag",
     "locked": false,
     "points": 2,
     "schema_version": 1,
     "solution": true
    }
   },
   "source": [
    "YOUR ANSWER HERE"
   ]
  },
  {
   "cell_type": "markdown",
   "metadata": {},
   "source": [
    "Qn4:"
   ]
  },
  {
   "cell_type": "markdown",
   "metadata": {
    "deletable": false,
    "nbgrader": {
     "checksum": "ca7e00461f9d86b1fe4867c55228140c",
     "grade": true,
     "grade_id": "cell-4b94be80a5a09bcf",
     "locked": false,
     "points": 2,
     "schema_version": 1,
     "solution": true
    }
   },
   "source": [
    "YOUR ANSWER HERE"
   ]
  },
  {
   "cell_type": "markdown",
   "metadata": {},
   "source": [
    "Qn5:"
   ]
  },
  {
   "cell_type": "markdown",
   "metadata": {
    "deletable": false,
    "nbgrader": {
     "checksum": "213f69c620b867422f1e0fdafaeddb47",
     "grade": true,
     "grade_id": "cell-38a7f1eac3ac34eef",
     "locked": false,
     "points": 2,
     "schema_version": 1,
     "solution": true
    }
   },
   "source": [
    "YOUR ANSWER HERE"
   ]
  },
  {
   "cell_type": "code",
   "execution_count": null,
   "metadata": {},
   "outputs": [],
   "source": [
    "import pandas as pd\n",
    "import random\n",
    "import numpy as np\n",
    "import scipy\n",
    "from scipy import stats\n",
    "import matplotlib.pyplot as plt\n",
    "from sklearn import linear_model\n",
    "%matplotlib inline"
   ]
  },
  {
   "cell_type": "markdown",
   "metadata": {
    "deletable": false,
    "editable": false,
    "nbgrader": {
     "checksum": "8d312c6d1adcd5d95eed57cdb56c1441",
     "grade": false,
     "grade_id": "cell-03da8f793616b6e4",
     "locked": true,
     "schema_version": 1,
     "solution": false
    }
   },
   "source": [
    "## Question 1:"
   ]
  },
  {
   "cell_type": "markdown",
   "metadata": {
    "deletable": false,
    "editable": false,
    "nbgrader": {
     "checksum": "081eeef4577600b4a0c12599979ba9fe",
     "grade": false,
     "grade_id": "cell-898bf2edfb9fc7af",
     "locked": true,
     "schema_version": 1,
     "solution": false
    }
   },
   "source": [
    "The task is to relate Age and Coronary Heart Disease (CHD).\n",
    "\n",
    "1) Read in the data from the excel file \"CoronaryHeartDisease_CHD_.xlsx\" using pandas (or anything else you prefer)\n",
    "\n",
    "2) do a Scatterplot of CHD by AGE for 100 subjects.\n",
    "\n",
    "3) build a new table: namely a Freguency Table of Age-Group by CHD.\n",
    "The to-be-constructed table has 5 columns: \"age-Group\",\"count n\",\"CHD-absent\",\"CHD-present\", \"mean\".\n",
    "\n",
    "So a typical row would look like:\n",
    "\n",
    "40-44 15 10 5 0.33\n",
    "\n",
    "meaning: in the age group 40-44 years we find 15 subjects, 10 healthy and 5 with heart problems, giving a condiotional class mean E(Y|x) of 0.33 = 5/(10 +5)\n",
    "\n",
    "4) Plot of the percentage of subjects with CHD in each age\n",
    "group.\n",
    "\n",
    "5) do a logistic regression on the tabled data (by hand, i.e. like on the slide \"Logistische Regression: Logit-Transformation\". What intercept and slope do you find?\n",
    "\n",
    "6) do a full logistic regression using the sklearn\n",
    "\n",
    "linear_model.LogisticRegression as was given in class.\n",
    "\n",
    "7) draw both results in one diagram, compare the results."
   ]
  },
  {
   "cell_type": "markdown",
   "metadata": {
    "deletable": false,
    "editable": false,
    "nbgrader": {
     "checksum": "9059d89758338d82d9d402613aaa5751",
     "grade": false,
     "grade_id": "cell-ae944bcf2caf7913",
     "locked": true,
     "schema_version": 1,
     "solution": false
    }
   },
   "source": [
    " 1) Read in the data from the excel file \"CoronaryHeartDisease_CHD_.xlsx\" using pandas"
   ]
  },
  {
   "cell_type": "code",
   "execution_count": null,
   "metadata": {
    "deletable": false,
    "nbgrader": {
     "checksum": "e4b7ef96c56647ce8b72d9ca95802cfd",
     "grade": true,
     "grade_id": "cell-b3669d2233dd2d31",
     "locked": false,
     "points": 2,
     "schema_version": 1,
     "solution": true
    }
   },
   "outputs": [],
   "source": [
    "## read the data in pandas as df\n",
    "\n",
    "# YOUR CODE HERE\n",
    "raise NotImplementedError()\n",
    "df.head()"
   ]
  },
  {
   "cell_type": "markdown",
   "metadata": {
    "deletable": false,
    "editable": false,
    "nbgrader": {
     "checksum": "cbfb40d270f8ffd7e500aef1421ba95e",
     "grade": false,
     "grade_id": "cell-824528fb050f3301",
     "locked": true,
     "schema_version": 1,
     "solution": false
    }
   },
   "source": [
    "2) do a Scatterplot of CHD by AGE for 100 subjects."
   ]
  },
  {
   "cell_type": "code",
   "execution_count": null,
   "metadata": {
    "deletable": false,
    "nbgrader": {
     "checksum": "2cab1cd4b83319cc39f03c27d263edc3",
     "grade": true,
     "grade_id": "cell-a207367344ced2d9",
     "locked": false,
     "points": 3,
     "schema_version": 1,
     "solution": true
    }
   },
   "outputs": [],
   "source": [
    "def scatter_plot(myxdata,myydata): \n",
    "    \n",
    "    \"\"\"\n",
    "    This function should get age data as myxdata and CHD data as myydata and should plot the scatter plot\n",
    "    \"\"\"\n",
    "    # YOUR CODE HERE\n",
    "    raise NotImplementedError()\n",
    "myxdata = df['AGE'].values\n",
    "myydata = df['CHD'].values\n",
    "scatter_plot(myxdata,myydata)"
   ]
  },
  {
   "cell_type": "markdown",
   "metadata": {},
   "source": [
    "3) build a new table: namely a Freguency Table of Age-Group by CHD. The to-be-constructed table has 5 columns: \"age-Group\",\"count n\",\"CHD-absent\",\"CHD-present\", \"mean\".\n",
    "\n",
    "So a typical row would look like:\n",
    "\n",
    "40-44 15 10 5 0.33\n",
    "\n",
    "meaning: in the age group 40-44 years we find 15 subjects, 10 healthy and 5 with heart problems, giving a conditional class mean E(Y|x) of 0.33 = 5/(10 +5)\n"
   ]
  },
  {
   "cell_type": "code",
   "execution_count": null,
   "metadata": {
    "deletable": false,
    "nbgrader": {
     "checksum": "2d9f1f1a46c27e56da7118c66e3dc441",
     "grade": true,
     "grade_id": "cell-9a776b2eabe0fc76",
     "locked": false,
     "points": 8,
     "schema_version": 1,
     "solution": true
    }
   },
   "outputs": [],
   "source": [
    "def new_table(df):\n",
    "    \"\"\"\n",
    "    This function should get the dataframe and should return the new dataframe with\n",
    "    columns \"interval\",\"age-Group\",\"count\",\"CHD_absent\",\"CHD_present\", \"mean\".\n",
    "    \n",
    "    Eg.\n",
    "    \n",
    "         interval    count CHD_absent CHD_present   mean\n",
    "    0    (20, 25]     4        3            1       0.25\n",
    "    1    (25, 30]     11      10            1       0.09\n",
    "    2    (30, 35]     11      10            1       0.09\n",
    "    \"\"\"\n",
    "    # YOUR CODE HERE\n",
    "    raise NotImplementedError()\n",
    "\n",
    "new_df"
   ]
  },
  {
   "cell_type": "markdown",
   "metadata": {
    "deletable": false,
    "editable": false,
    "nbgrader": {
     "checksum": "628e9a57d6e45d35aa4f556b7641bdae",
     "grade": false,
     "grade_id": "cell-b827f418f9fbeb08",
     "locked": true,
     "schema_version": 1,
     "solution": false
    }
   },
   "source": [
    "4) Plot of the percentage of subjects with CHD in each age group."
   ]
  },
  {
   "cell_type": "code",
   "execution_count": null,
   "metadata": {
    "deletable": false,
    "nbgrader": {
     "checksum": "742a6ae81ce0baf81e93fac0f08c17a9",
     "grade": true,
     "grade_id": "cell-413bc2123cd5548d",
     "locked": false,
     "points": 2,
     "schema_version": 1,
     "solution": true
    }
   },
   "outputs": [],
   "source": [
    "def plot_percentage_of_subjects(new_df):\n",
    "    \"\"\"\n",
    "    This function should get the new dataframe and should \n",
    "    plot the percentage of subjects with CHD in each age group.\n",
    "    \"\"\"\n",
    "    # YOUR CODE HERE\n",
    "    raise NotImplementedError()\n",
    "plot_percentage_of_subjects(new_df)"
   ]
  },
  {
   "cell_type": "code",
   "execution_count": null,
   "metadata": {},
   "outputs": [],
   "source": [
    "\n",
    "# logit function\n",
    "logit = lambda z: np.log(z/(1-z))\n",
    "\n",
    "\n",
    "\n",
    "my_age_data = np.array([ i+2 for i in np.arange(20,70,5)])\n",
    "my_y_logit = logit(new_df['mean'].values)\n",
    "\n",
    "my_age_data,my_y_logit"
   ]
  },
  {
   "cell_type": "markdown",
   "metadata": {
    "deletable": false,
    "editable": false,
    "nbgrader": {
     "checksum": "4ff2e77305a603a15c69f344e6eda34f",
     "grade": false,
     "grade_id": "cell-73d38fd7a043bc47",
     "locked": true,
     "schema_version": 1,
     "solution": false
    }
   },
   "source": [
    "5) do a logistic regression on the tabled data (by hand, i.e. like on the slide \"Logistische Regression: Logit-Transformation\". What intercept and slope do you find?"
   ]
  },
  {
   "cell_type": "code",
   "execution_count": null,
   "metadata": {
    "deletable": false,
    "nbgrader": {
     "checksum": "5ec59ea4418226f0e10b823da95f20ee",
     "grade": false,
     "grade_id": "cell-a6706079648a1e10",
     "locked": false,
     "schema_version": 1,
     "solution": true
    }
   },
   "outputs": [],
   "source": [
    "def hand_cal_mya_myb(x,y):\n",
    "    \n",
    "    \"\"\"\n",
    "    This function should get the my_age_data and my_y_logit and should \n",
    "    return hand calculated mya,myb as explained in slide Logistische Regression\n",
    "    \"\"\"\n",
    "    # YOUR CODE HERE\n",
    "    raise NotImplementedError()\n",
    "\n",
    "hand_mya,hand_myb = hand_cal_mya_myb(my_age_data,my_y_logit)\n",
    "print(\"Slope:\",hand_mya)\n",
    "print(\"Intercept:\",hand_myb)"
   ]
  },
  {
   "cell_type": "code",
   "execution_count": null,
   "metadata": {
    "deletable": false,
    "editable": false,
    "nbgrader": {
     "checksum": "9b00d9eecaf90230e444896d3133f7e3",
     "grade": true,
     "grade_id": "cell-f602f9c03880a275",
     "locked": true,
     "points": 10,
     "schema_version": 1,
     "solution": false
    }
   },
   "outputs": [],
   "source": [
    "# This cell is for grading purpose . Please ignore it."
   ]
  },
  {
   "cell_type": "code",
   "execution_count": null,
   "metadata": {
    "deletable": false,
    "nbgrader": {
     "checksum": "3b6fde6f83b44f040484b49ace2792ec",
     "grade": false,
     "grade_id": "cell-9041de7cd2ff73d3",
     "locked": false,
     "schema_version": 1,
     "solution": true
    }
   },
   "outputs": [],
   "source": [
    "def sklearn_cal_mya_myb(myxdata,myydata):\n",
    "    \n",
    "    \"\"\"\n",
    "    This function should get the myxdata and myydata and should \n",
    "    return sklearn calculated mya,myb\n",
    "    \"\"\"\n",
    "    # YOUR CODE HERE\n",
    "    raise NotImplementedError()\n",
    "\n",
    "sklearn_mya,sklearn_myb = sklearn_cal_mya_myb(myxdata,myydata)\n",
    "print(\"Slope:\",sklearn_mya)\n",
    "print(\"Intercept:\",sklearn_myb)"
   ]
  },
  {
   "cell_type": "code",
   "execution_count": null,
   "metadata": {
    "deletable": false,
    "editable": false,
    "nbgrader": {
     "checksum": "f8fd1550ae6a7df82da74846845aac4a",
     "grade": true,
     "grade_id": "cell-fd733bc16a1ae4ea",
     "locked": true,
     "points": 10,
     "schema_version": 1,
     "solution": false
    }
   },
   "outputs": [],
   "source": [
    "# This cell is for grading purpose . Please ignore it."
   ]
  },
  {
   "cell_type": "code",
   "execution_count": null,
   "metadata": {
    "deletable": false,
    "nbgrader": {
     "checksum": "cb3d4e65b8e868a31f63484c1ed83720",
     "grade": true,
     "grade_id": "cell-42b792319e3e19ef",
     "locked": false,
     "points": 5,
     "schema_version": 1,
     "solution": true
    }
   },
   "outputs": [],
   "source": [
    "def plot_combined(hand_mya,hand_myb,sklearn_mya,sklearn_myb,myxdata,myydata):\n",
    "\n",
    "    \"\"\"\n",
    "    this function should input hand_mya,hand_myb,sklearn_mya,sklearn_myb,myxdata,myydata and plot the \n",
    "    comparision plot as shown in the slide Logistische Regression slide no:27\n",
    "    \"\"\"\n",
    "    # YOUR CODE HERE\n",
    "    raise NotImplementedError()\n",
    "plot_combined(hand_mya,hand_myb,sklearn_mya,sklearn_myb,myxdata,myydata)"
   ]
  },
  {
   "cell_type": "markdown",
   "metadata": {
    "deletable": false,
    "editable": false,
    "nbgrader": {
     "checksum": "a6ec37d3322b9407c2702c566082cbad",
     "grade": false,
     "grade_id": "cell-15c7fcb76a53cbba",
     "locked": true,
     "schema_version": 1,
     "solution": false
    }
   },
   "source": [
    "# Question 2"
   ]
  },
  {
   "cell_type": "markdown",
   "metadata": {
    "deletable": false,
    "editable": false,
    "nbgrader": {
     "checksum": "682feb4c25db22afd31d02287f00e325",
     "grade": false,
     "grade_id": "cell-0c30bf0ba6464e34",
     "locked": true,
     "schema_version": 1,
     "solution": false
    }
   },
   "source": [
    "Consider a standard package of milk chocolate M&Ms. There are six different colors: red, orange, yellow, green, blue and brown. Suppose that we are curious about the distribution of these colors and ask, do all six colors occur in equal proportion?\n",
    "Suppose that we have a simple random sample of 600 M&M candies with the following distribution:\n",
    "\n",
    "212 of the candies are blue.\n",
    "147 of the candies are orange.\n",
    "103 of the candies are green.\n",
    "50 of the candies are red.\n",
    "46 of the candies are yellow.\n",
    "42 of the candies are brown.\n",
    "\n",
    "1) formulate your H_0 hypothesis!\n",
    "\n",
    "2) reject (or not reject) H_0 with significance of alpha = 1% using chi2 test."
   ]
  },
  {
   "cell_type": "markdown",
   "metadata": {
    "deletable": false,
    "editable": false,
    "nbgrader": {
     "checksum": "8804d5c5bc5a471344196ce4a9bc82a5",
     "grade": false,
     "grade_id": "cell-918a143e10159513",
     "locked": true,
     "schema_version": 1,
     "solution": false
    }
   },
   "source": [
    "1) formulate your H_0 hypothesis!"
   ]
  },
  {
   "cell_type": "markdown",
   "metadata": {
    "deletable": false,
    "nbgrader": {
     "checksum": "04ab18bc1fe7c1653ffdacace1dd2449",
     "grade": true,
     "grade_id": "cell-11e73b2ed235c032",
     "locked": false,
     "points": 10,
     "schema_version": 1,
     "solution": true
    }
   },
   "source": [
    "YOUR ANSWER HERE"
   ]
  },
  {
   "cell_type": "markdown",
   "metadata": {
    "deletable": false,
    "editable": false,
    "nbgrader": {
     "checksum": "97ef169b8eb7749118eb29a315836395",
     "grade": false,
     "grade_id": "cell-08f38e002ef170e8",
     "locked": true,
     "schema_version": 1,
     "solution": false
    }
   },
   "source": [
    "2) reject (or not reject) H_0 with significance of alpha = 1% using chi2 test."
   ]
  },
  {
   "cell_type": "code",
   "execution_count": null,
   "metadata": {
    "deletable": false,
    "nbgrader": {
     "checksum": "c828bec71d612d5d2fecd19124304d19",
     "grade": false,
     "grade_id": "cell-bbb399f1e6f48783",
     "locked": false,
     "schema_version": 1,
     "solution": true
    }
   },
   "outputs": [],
   "source": [
    "def reject_or_notreject(candies_count,alpha):\n",
    "    \n",
    "    \"\"\"\n",
    "    This function inputs the candies count and alpha value to decide whether \n",
    "    to reject the null hypothesis or not.\n",
    "    \n",
    "    return 0 if rejectec else return 1.\n",
    "    \n",
    "    hint: stats.chi2.cdf to compute the p_value from the chi_square_statistic\n",
    "    \n",
    "    \"\"\"\n",
    "    # YOUR CODE HERE\n",
    "    raise NotImplementedError()\n",
    "\n",
    "\n",
    "candies_count = [212,147,103,50,46,42]\n",
    "alpha = 0.01\n",
    "\n",
    "\n",
    "if reject_or_notreject(candies_count,alpha) == 0:\n",
    "    print(\"Null hypothesis is rejected\")\n",
    "else:\n",
    "    print(\"Null hypothesis is not rejected\")"
   ]
  },
  {
   "cell_type": "code",
   "execution_count": null,
   "metadata": {
    "deletable": false,
    "editable": false,
    "nbgrader": {
     "checksum": "49ad3e66cfab5d3e443bda3aa0a66420",
     "grade": true,
     "grade_id": "cell-2063cb96bc606414",
     "locked": true,
     "points": 20,
     "schema_version": 1,
     "solution": false
    }
   },
   "outputs": [],
   "source": [
    "# This cell is for grading purpose . Please ignore it."
   ]
  }
 ],
 "metadata": {
  "kernelspec": {
   "display_name": "Python 3",
   "language": "python",
   "name": "python3"
  },
  "language_info": {
   "codemirror_mode": {
    "name": "ipython",
    "version": 3
   },
   "file_extension": ".py",
   "mimetype": "text/x-python",
   "name": "python",
   "nbconvert_exporter": "python",
   "pygments_lexer": "ipython3",
   "version": "3.6.6"
  }
 },
 "nbformat": 4,
 "nbformat_minor": 2
}
