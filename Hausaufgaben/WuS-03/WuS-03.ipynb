{
 "cells": [
  {
   "cell_type": "markdown",
   "metadata": {
    "deletable": false,
    "editable": false,
    "nbgrader": {
     "checksum": "5e5a18011aa01761b0fb185c9bf8f173",
     "grade": false,
     "grade_id": "cell-3a351da6a8a2a3d7",
     "locked": true,
     "schema_version": 1,
     "solution": false
    }
   },
   "source": [
    "# Aufgabe - 3"
   ]
  },
  {
   "cell_type": "markdown",
   "metadata": {},
   "source": [
    "<div class=\"alert alert-block alert-danger\">\n",
    "\n",
    "### Student Nutzername 1: ---------\n",
    "\n",
    "### Student Nutzername 2: ---------\n",
    "\n",
    "</div>\n"
   ]
  },
  {
   "cell_type": "markdown",
   "metadata": {
    "deletable": false,
    "editable": false,
    "nbgrader": {
     "checksum": "b37caeb414c63be9ef03a7695d3c75d7",
     "grade": false,
     "grade_id": "cell-ba89f67cd0bc72ca",
     "locked": true,
     "schema_version": 1,
     "solution": false
    }
   },
   "source": [
    "Assume : you are the TEACHER of this lecture and you want to check, how good the students understood the last lecture. Formulate 5 questions and 5 expected answers by which you check how well the students did understand the lecture. \n",
    "In each cell below type one question and answer <br>\n",
    "<b>(10 points )</b> 2 points for each question and answer"
   ]
  },
  {
   "cell_type": "markdown",
   "metadata": {},
   "source": [
    "Qn1: "
   ]
  },
  {
   "cell_type": "markdown",
   "metadata": {
    "deletable": false,
    "nbgrader": {
     "checksum": "5b92067bb54fb24781e891ef2df221de",
     "grade": true,
     "grade_id": "cell-2c4a74a7c9667d58",
     "locked": false,
     "points": 2,
     "schema_version": 1,
     "solution": true
    }
   },
   "source": [
    "YOUR ANSWER HERE"
   ]
  },
  {
   "cell_type": "markdown",
   "metadata": {},
   "source": [
    "Qn2: "
   ]
  },
  {
   "cell_type": "markdown",
   "metadata": {
    "deletable": false,
    "nbgrader": {
     "checksum": "9457e316388ba0a55e2b89f24c92787f",
     "grade": true,
     "grade_id": "cell-360e6e74a6226a7f",
     "locked": false,
     "points": 2,
     "schema_version": 1,
     "solution": true
    }
   },
   "source": [
    "YOUR ANSWER HERE"
   ]
  },
  {
   "cell_type": "markdown",
   "metadata": {},
   "source": [
    "Qn3: "
   ]
  },
  {
   "cell_type": "markdown",
   "metadata": {
    "deletable": false,
    "nbgrader": {
     "checksum": "667b81dee46677a1a4a27db41257d1a9",
     "grade": true,
     "grade_id": "cell-0207187f09bd3596",
     "locked": false,
     "points": 2,
     "schema_version": 1,
     "solution": true
    }
   },
   "source": [
    "YOUR ANSWER HERE"
   ]
  },
  {
   "cell_type": "markdown",
   "metadata": {},
   "source": [
    "Qn4: "
   ]
  },
  {
   "cell_type": "markdown",
   "metadata": {
    "deletable": false,
    "nbgrader": {
     "checksum": "8fb2d65c778772ed24a58443f76513f3",
     "grade": true,
     "grade_id": "cell-c282b6f3b31395a5",
     "locked": false,
     "points": 2,
     "schema_version": 1,
     "solution": true
    }
   },
   "source": [
    "YOUR ANSWER HERE"
   ]
  },
  {
   "cell_type": "markdown",
   "metadata": {},
   "source": [
    "Qn5: "
   ]
  },
  {
   "cell_type": "markdown",
   "metadata": {
    "deletable": false,
    "nbgrader": {
     "checksum": "a13404a420ff46636d7742150e9f076d",
     "grade": true,
     "grade_id": "cell-70d1a53cb488a99f",
     "locked": false,
     "points": 2,
     "schema_version": 1,
     "solution": true
    }
   },
   "source": [
    "YOUR ANSWER HERE"
   ]
  },
  {
   "cell_type": "markdown",
   "metadata": {
    "deletable": false,
    "editable": false,
    "nbgrader": {
     "checksum": "488c34d37084b3d00d16023785336437",
     "grade": false,
     "grade_id": "cell-33a08268f3c5e389",
     "locked": true,
     "schema_version": 1,
     "solution": false
    }
   },
   "source": [
    "<div class=\"alert alert-block alert-success\">\n",
    "<h1>Binomial Distribution application cases</h1>\n",
    "<h2>Topics:</h2>\n",
    "<h3>Bionomial distributions as such (plot, P(X=k) values), interprete it's meanings</h3>\n",
    "<h3>use cumulated Binomial distributios </h3>\n",
    "<h3>use mean and variance of Binomial distributios</h3>\n",
    "<h3>determine the length of a Bernoulli chain </h3>\n",
    "<h3>determine the hits k for a Bernoulli chain </h3>\n",
    "</div>\n",
    "<div class=\"alert alert-block alert-info\">\n",
    "<h4> python: stats.binom.pmf(...), stats.binom.cdf(...), stats.binom.std(...), stats.binom.mean(...)</h4>\n",
    "</div>"
   ]
  },
  {
   "cell_type": "code",
   "execution_count": null,
   "metadata": {},
   "outputs": [],
   "source": [
    "import numpy as np\n",
    "import math\n",
    "from scipy import stats\n",
    "import matplotlib.pyplot as plt\n",
    "%matplotlib inline\n"
   ]
  },
  {
   "cell_type": "markdown",
   "metadata": {
    "deletable": false,
    "editable": false,
    "nbgrader": {
     "checksum": "7f6b29fb303e608fd51fd3069ba78e68",
     "grade": false,
     "grade_id": "cell-7b83e68b5f5dbc14",
     "locked": true,
     "schema_version": 1,
     "solution": false
    }
   },
   "source": [
    "## Task 1: basic binomal\n",
    "\n",
    "Model the follwing experiment:\n",
    "\n",
    "if you throw a fair die 50 times, how likely will you get 20 times a \"1\" OR a \"6\"?"
   ]
  },
  {
   "cell_type": "markdown",
   "metadata": {
    "deletable": false,
    "editable": false,
    "nbgrader": {
     "checksum": "8f618e9539ceceafbd0310b393fe9da8",
     "grade": false,
     "grade_id": "cell-d7210e737955dc5c",
     "locked": true,
     "schema_version": 1,
     "solution": false
    }
   },
   "source": [
    "## Task (Partial) Solution 1:\n",
    "\n",
    "Let $D=\\{1,2,3,4,5,6\\}$ the sample space of a fair die. \n",
    "\n",
    "Define the random event of interest $X = \\{\\omega \\in D^{50} | count(\\{1\\} \\cup\\{6\\} \\in \\omega) == 20\\}$ <br>these are those tuples of length 50, which contain exactly 20 success cases.\n",
    "\n",
    "This is a Bernoulli Experiment (Yes / No type ) with $p=\\frac{1}{3}$, for a Bernoulli chain length of $n=50$. \n",
    "\n",
    "Thus we are interested in $B(n=50,k=20,p=1/3)$. This number is one proabililty value from the full distribution \n",
    "\n",
    "If we call ```stats.binom```, we get a random variable object, which offers some methods to us."
   ]
  },
  {
   "cell_type": "code",
   "execution_count": null,
   "metadata": {
    "deletable": false,
    "editable": false,
    "nbgrader": {
     "checksum": "c80a8a8562cd832768a178b7b5540284",
     "grade": false,
     "grade_id": "cell-8e476df7b451b5ad",
     "locked": true,
     "schema_version": 1,
     "solution": false
    }
   },
   "outputs": [],
   "source": [
    "help(stats.binom)"
   ]
  },
  {
   "cell_type": "markdown",
   "metadata": {
    "deletable": false,
    "editable": false,
    "nbgrader": {
     "checksum": "7f6fcdedfa101c4ecb04909e8deb5b3c",
     "grade": false,
     "grade_id": "cell-8ed13fe77cb9e87a",
     "locked": true,
     "schema_version": 1,
     "solution": false
    }
   },
   "source": [
    "So $n,p$ can be used as parameters and we need the method <br>\n",
    "\n",
    "```stats.binom.pmf()``` (probability mass function (PMF) == \"Zähldichte\"). \n",
    "\n",
    "We furthermore provide the argument ```k=20``` for the wanted number of success cases."
   ]
  },
  {
   "cell_type": "code",
   "execution_count": null,
   "metadata": {
    "deletable": false,
    "editable": false,
    "nbgrader": {
     "checksum": "d0e05c287e0be79f480474c69b70d3e4",
     "grade": true,
     "grade_id": "cell-ff3b98eddfa0e63b",
     "locked": true,
     "points": 0,
     "schema_version": 1,
     "solution": false
    }
   },
   "outputs": [],
   "source": [
    "myresu = stats.binom.pmf(n=50,p=1/3,k=20)\n",
    "print(myresu)"
   ]
  },
  {
   "cell_type": "markdown",
   "metadata": {
    "deletable": false,
    "editable": false,
    "nbgrader": {
     "checksum": "50e2330992905065ce2697fd07d5ae57",
     "grade": false,
     "grade_id": "cell-b207f94d8235b0bc",
     "locked": true,
     "schema_version": 1,
     "solution": false
    }
   },
   "source": [
    "We find roughly 7% of all cases to contain 20 times the events \"1's or 6's\". Now take a look at the distributions of values => use a variable k (take is a range)\n",
    "\n",
    "NOTE: since we used the parameter values with their apropriate ***names p=.., k=..., n=...*** , we can call them in ANY (!) order"
   ]
  },
  {
   "cell_type": "code",
   "execution_count": null,
   "metadata": {
    "deletable": false,
    "editable": false,
    "nbgrader": {
     "checksum": "dfd9724ac3d24e20ae4f02fb5da11f4e",
     "grade": false,
     "grade_id": "cell-ff0fd48d396d13ec",
     "locked": true,
     "schema_version": 1,
     "solution": false
    }
   },
   "outputs": [],
   "source": [
    "#observe the changed order\n",
    "my20cases = stats.binom.pmf(p=1/3,k=20,n=50)\n",
    "print(my20cases)"
   ]
  },
  {
   "cell_type": "markdown",
   "metadata": {
    "deletable": false,
    "editable": false,
    "nbgrader": {
     "checksum": "f101ce2eb339339354c8d24b65149bab",
     "grade": false,
     "grade_id": "cell-886bc7e07bd7cc7f",
     "locked": true,
     "schema_version": 1,
     "solution": false
    }
   },
   "source": [
    "### Sub-Task A: validate (10 pts)\n",
    "\n",
    "***Validate the result of about 7% numerically by hand by using the definition of $B(n,k,p)$ as given in the lecture.***"
   ]
  },
  {
   "cell_type": "markdown",
   "metadata": {
    "deletable": false,
    "nbgrader": {
     "checksum": "bffeaca7e70851a7156ff7a059622512",
     "grade": true,
     "grade_id": "cell-7fd0807833dee80c",
     "locked": false,
     "points": 10,
     "schema_version": 1,
     "solution": true
    }
   },
   "source": [
    "YOUR ANSWER HERE"
   ]
  },
  {
   "cell_type": "markdown",
   "metadata": {
    "deletable": false,
    "editable": false,
    "nbgrader": {
     "checksum": "9c2007278804839e9cb786a426baf338",
     "grade": false,
     "grade_id": "cell-a05bc2fb379ad08a",
     "locked": true,
     "schema_version": 1,
     "solution": false
    }
   },
   "source": [
    "### Sub-Task B: draw the distribution  (10 pts)\n",
    "\n",
    "***Now inspect the full distribution by varying ```k``` for all between 0,...,50 and plot it.***"
   ]
  },
  {
   "cell_type": "code",
   "execution_count": null,
   "metadata": {
    "deletable": false,
    "nbgrader": {
     "checksum": "ecabb9e7db919bed6f8448d88f0a982d",
     "grade": true,
     "grade_id": "cell-b085f6f341ee3165",
     "locked": false,
     "points": 10,
     "schema_version": 1,
     "solution": true
    }
   },
   "outputs": [],
   "source": [
    "# YOUR CODE HERE\n",
    "raise NotImplementedError()"
   ]
  },
  {
   "cell_type": "markdown",
   "metadata": {
    "deletable": false,
    "editable": false,
    "nbgrader": {
     "checksum": "f6cff5a06c32a9486e8a3fd21adf5239",
     "grade": false,
     "grade_id": "cell-37d3a532fe498ab8",
     "locked": true,
     "schema_version": 1,
     "solution": false
    }
   },
   "source": [
    "### Sub-Task C: find characteristic parameters E, M, $\\sigma$ of the distribution and plot them (15 pts)\n",
    "Which ```k``` is most likely (call this M), what is the expected value E\\[X\\], what is the standard deviation $\\sigma$?\n",
    "\n",
    "Hint: $\\sigma = \\sqrt{n \\cdot p \\cdot (1-p)}$ or use ```stats.binom.std()```\n",
    "\n",
    "Add vertical lines to your plotting to indicate M, E\\[X\\] and two lines for E\\[X\\] $\\pm \\sigma$.<br> Hint use the ```.std()``` and ```.vlines()``` methods."
   ]
  },
  {
   "cell_type": "markdown",
   "metadata": {
    "deletable": false,
    "editable": false,
    "nbgrader": {
     "checksum": "a8e1b246760b11900d21082e5bb1afa7",
     "grade": false,
     "grade_id": "cell-72fc31001ba61f90",
     "locked": true,
     "schema_version": 1,
     "solution": false
    }
   },
   "source": [
    "WRITE THE CODE IN THE BELOW CELL TO CALCULATE THE PARAMETERS"
   ]
  },
  {
   "cell_type": "code",
   "execution_count": null,
   "metadata": {
    "deletable": false,
    "nbgrader": {
     "checksum": "b435b47039da113dfecd4b73cf5fa547",
     "grade": true,
     "grade_id": "cell-88c3205e5e48b956",
     "locked": false,
     "points": 10,
     "schema_version": 1,
     "solution": true
    }
   },
   "outputs": [],
   "source": [
    "# YOUR CODE HERE\n",
    "raise NotImplementedError()"
   ]
  },
  {
   "cell_type": "markdown",
   "metadata": {
    "deletable": false,
    "editable": false,
    "nbgrader": {
     "checksum": "7d770b13a9ccc65710d83dfeb11e8b9e",
     "grade": false,
     "grade_id": "cell-0a95dd9fed9b60a3",
     "locked": true,
     "schema_version": 1,
     "solution": false
    }
   },
   "source": [
    "WRITE THE CODE IN THE BELOW CELL FOR PLOTTING"
   ]
  },
  {
   "cell_type": "code",
   "execution_count": null,
   "metadata": {
    "deletable": false,
    "nbgrader": {
     "checksum": "759c6e0c8a1d6719cb2d8c0d2025205c",
     "grade": true,
     "grade_id": "cell-51e3f1791b93860d",
     "locked": false,
     "points": 5,
     "schema_version": 1,
     "solution": true
    }
   },
   "outputs": [],
   "source": [
    "# YOUR CODE HERE\n",
    "raise NotImplementedError()"
   ]
  },
  {
   "cell_type": "markdown",
   "metadata": {
    "deletable": false,
    "editable": false,
    "nbgrader": {
     "checksum": "69828bb1ff84cbe2d0e9da85c697823c",
     "grade": false,
     "grade_id": "cell-147e7d8327ae589d",
     "locked": true,
     "schema_version": 1,
     "solution": false
    }
   },
   "source": [
    "### Sub-Task D: compare masses and relative location (10 pts)\n",
    "\n",
    "***1. how much of the total mass is found between the two lines (E +/- $\\sigma$) ? (hint: use a method \"stats.binom.cdf(..)\"***\n",
    "\n",
    "\n",
    "<img src = \"images/image.png\" >"
   ]
  },
  {
   "cell_type": "markdown",
   "metadata": {},
   "source": [
    "WRITE THE CODE IN THE BELOW CELL TO CALCULATE THE TOTAL MASS  FOUND BETWEEN THE TWO LINES "
   ]
  },
  {
   "cell_type": "code",
   "execution_count": null,
   "metadata": {
    "deletable": false,
    "nbgrader": {
     "checksum": "04622de2f07c433ca64dde78faa0a2e9",
     "grade": true,
     "grade_id": "cell-84215c58574b8469",
     "locked": false,
     "points": 5,
     "schema_version": 1,
     "solution": true
    }
   },
   "outputs": [],
   "source": [
    "# YOUR CODE HERE\n",
    "raise NotImplementedError()"
   ]
  },
  {
   "cell_type": "markdown",
   "metadata": {
    "deletable": false,
    "editable": false,
    "nbgrader": {
     "checksum": "9f72b87902ff22c74662b8b034520dbb",
     "grade": false,
     "grade_id": "cell-71034065e3178f09",
     "locked": true,
     "schema_version": 1,
     "solution": false
    }
   },
   "source": [
    "***2. comparing the values of ```E[X]``` $\\pm \\sigma$ to our value for k==20 can consider our count as frequent or rare?***"
   ]
  },
  {
   "cell_type": "markdown",
   "metadata": {
    "deletable": false,
    "nbgrader": {
     "checksum": "cd2da4d8b51b67cc8dcf25a502528ef8",
     "grade": true,
     "grade_id": "cell-c9157c071c5919ad",
     "locked": false,
     "points": 5,
     "schema_version": 1,
     "solution": true
    }
   },
   "source": [
    "YOUR ANSWER HERE"
   ]
  },
  {
   "cell_type": "markdown",
   "metadata": {
    "deletable": false,
    "editable": false,
    "nbgrader": {
     "checksum": "1554978ef0b81c22e5995e2e46a996e3",
     "grade": false,
     "grade_id": "cell-9e29f0f7170e4ace",
     "locked": true,
     "schema_version": 1,
     "solution": false
    }
   },
   "source": [
    "## Task 2: Binomal application (25 pts)\n",
    "An aircraft which flies Frankfurt to New York has 300 seats.\n",
    "\n",
    "By experience the airline company knows the 5% of passengers will ***not*** check-in to the flight. Thus the airline usually accepts 320 bookings for this connection.\n",
    "\n",
    "***1. Calculate the probability that too many bookings have been accepted. (10 pts)***\n",
    "\n",
    "Hint:\n",
    "\n",
    "* model using a Bernoulli chain, what is it's length n , what are the case k of interest, what is p?\n",
    "* what interval for the random variable is of interest?\n",
    "* Hint: maybe the cumulative distrubution function ```.cdf()```is of use. \n"
   ]
  },
  {
   "cell_type": "code",
   "execution_count": null,
   "metadata": {
    "deletable": false,
    "nbgrader": {
     "checksum": "00ce25c850a2800484c539bd5458ec9c",
     "grade": false,
     "grade_id": "cell-db2dc8ddbb195da3",
     "locked": false,
     "schema_version": 1,
     "solution": true
    }
   },
   "outputs": [],
   "source": [
    "def p_atleast301():\n",
    "    \"\"\"\n",
    "    The function should return the probability that too many bookings have been accepted.\n",
    "    \"\"\"\n",
    "    # YOUR CODE HERE\n",
    "    raise NotImplementedError()\n",
    "    return atleast301    "
   ]
  },
  {
   "cell_type": "code",
   "execution_count": null,
   "metadata": {},
   "outputs": [],
   "source": [
    "p_atleast301()"
   ]
  },
  {
   "cell_type": "code",
   "execution_count": null,
   "metadata": {
    "deletable": false,
    "editable": false,
    "nbgrader": {
     "checksum": "6e7d3ec7477a0c84794f5a122431195e",
     "grade": true,
     "grade_id": "cell-18880158c3f38760",
     "locked": true,
     "points": 10,
     "schema_version": 1,
     "solution": false
    }
   },
   "outputs": [],
   "source": [
    "# This cell is for grading purpose . Please ignore it.\n"
   ]
  },
  {
   "cell_type": "markdown",
   "metadata": {
    "deletable": false,
    "editable": false,
    "nbgrader": {
     "checksum": "f0f5fec6bbb06037a67086479821ca6a",
     "grade": false,
     "grade_id": "cell-711733f01f1e5eff",
     "locked": true,
     "schema_version": 1,
     "solution": false
    }
   },
   "source": [
    "***2. Determine the number of bookings the airline should accept to ensure that the likelihood that too many bookings have been accepted is at most 5% (15 pts)***"
   ]
  },
  {
   "cell_type": "code",
   "execution_count": null,
   "metadata": {
    "deletable": false,
    "nbgrader": {
     "checksum": "20ad5eb720996ef5a2740ff5117d9f75",
     "grade": false,
     "grade_id": "cell-8874e37030d8e671",
     "locked": false,
     "schema_version": 1,
     "solution": true
    }
   },
   "outputs": [],
   "source": [
    "def num_bookings(likelihood, criticalNum):\n",
    "    \"\"\"\n",
    "    This function should get the likelihood that too many bookings have been accepted \n",
    "    and the range of critical numbers to check. The function should return the minimum number \n",
    "    of bookings the airline should accept. \n",
    "    \"\"\"\n",
    "    # YOUR CODE HERE\n",
    "    raise NotImplementedError()\n",
    "    return n_min_book"
   ]
  },
  {
   "cell_type": "code",
   "execution_count": null,
   "metadata": {},
   "outputs": [],
   "source": [
    "likelihood_bound = 0.05\n",
    "criticalNum = range(300,321)\n",
    "\n",
    "print (\"the company should not sell more than \", num_bookings(likelihood_bound, criticalNum), \" tickets.\")"
   ]
  },
  {
   "cell_type": "code",
   "execution_count": null,
   "metadata": {
    "deletable": false,
    "editable": false,
    "nbgrader": {
     "checksum": "ffb9a09a74155a823fda55f79ee9b855",
     "grade": true,
     "grade_id": "cell-56774149f1d56bbf",
     "locked": true,
     "points": 15,
     "schema_version": 1,
     "solution": false
    }
   },
   "outputs": [],
   "source": [
    "# This cell is for grading purpose . Please ignore it.\n"
   ]
  },
  {
   "cell_type": "markdown",
   "metadata": {
    "deletable": false,
    "editable": false,
    "nbgrader": {
     "checksum": "e8dbf3fc46a4dd808b44451a4f8a43e1",
     "grade": false,
     "grade_id": "cell-6e3be5d45dbbcaaf",
     "locked": true,
     "schema_version": 1,
     "solution": false
    }
   },
   "source": [
    "## Task 2: Binomial application Taxi pool (20 pts)\n",
    "\n",
    "A taxi rank is provided for 10 taxis.\n",
    "\n",
    "Experience has shown that a car spends on average of 12 minutes per hour at the stand.\n",
    "\n",
    "***1. Is it enough to set up the stand for 3 waiting cars, without this causing more than 15% of all taxi to find no free spot any more? (10 pts)***"
   ]
  },
  {
   "cell_type": "markdown",
   "metadata": {
    "deletable": false,
    "editable": false,
    "nbgrader": {
     "checksum": "f068493ccdf753d5d2ea4dcc5ae2fefd",
     "grade": false,
     "grade_id": "cell-01bc2112fde666e8",
     "locked": true,
     "schema_version": 1,
     "solution": false
    }
   },
   "source": [
    "Explain how you will model this problem here and answer the question. Hint: check how likely is 4 or more taxis wait using 1 - stats.binom.cdf(p,n,k)"
   ]
  },
  {
   "cell_type": "markdown",
   "metadata": {
    "deletable": false,
    "nbgrader": {
     "checksum": "e3b0589ed4164c2707fbeae7baecdd98",
     "grade": true,
     "grade_id": "cell-45847d931f61ac2c",
     "locked": false,
     "points": 10,
     "schema_version": 1,
     "solution": true
    }
   },
   "source": [
    "YOUR ANSWER HERE"
   ]
  },
  {
   "cell_type": "code",
   "execution_count": null,
   "metadata": {},
   "outputs": [],
   "source": [
    "#you can use this cell to find the likelihood. Replace None with appropriate values\n",
    "p = None\n",
    "n = None\n",
    "k = None\n",
    "myPZ = 1 - stats.binom.cdf(p=p,n=n,k=k)\n",
    "print(myPZ)"
   ]
  },
  {
   "cell_type": "markdown",
   "metadata": {
    "deletable": false,
    "editable": false,
    "nbgrader": {
     "checksum": "40fed6006f94d7026c5de71fadcb5236",
     "grade": false,
     "grade_id": "cell-3488e14930949696",
     "locked": true,
     "schema_version": 1,
     "solution": false
    }
   },
   "source": [
    "***2. Which number of taxis will you find most often at the stand? (10 pts)***"
   ]
  },
  {
   "cell_type": "code",
   "execution_count": null,
   "metadata": {
    "deletable": false,
    "nbgrader": {
     "checksum": "2587dcf07b71fdc5ff33f300ba796a07",
     "grade": false,
     "grade_id": "cell-134a2b2baf4b81da",
     "locked": false,
     "schema_version": 1,
     "solution": true
    }
   },
   "outputs": [],
   "source": [
    "def num_taxis(p,n,k):\n",
    "    \"\"\"\n",
    "    This function should get the probability that the taxi will wait for full time, \n",
    "    the total number of taxis and the range of number of taxis that will wait for the full time. \n",
    "    It should return the number of taxis you find most often at the stand.\n",
    "    \"\"\"\n",
    "    # YOUR CODE HERE\n",
    "    raise NotImplementedError()\n",
    "    return n_taxi"
   ]
  },
  {
   "cell_type": "code",
   "execution_count": null,
   "metadata": {},
   "outputs": [],
   "source": [
    "num_taxis(1/5,10, range(11))"
   ]
  },
  {
   "cell_type": "code",
   "execution_count": null,
   "metadata": {
    "deletable": false,
    "editable": false,
    "nbgrader": {
     "checksum": "ecf80186628639ce908378dadf5885ad",
     "grade": true,
     "grade_id": "cell-1e353b6779e9c3dd",
     "locked": true,
     "points": 10,
     "schema_version": 1,
     "solution": false
    }
   },
   "outputs": [],
   "source": [
    "# This cell is for grading purpose . Please ignore it.\n"
   ]
  },
  {
   "cell_type": "markdown",
   "metadata": {
    "deletable": false,
    "editable": false,
    "nbgrader": {
     "checksum": "6ef3314973cc138ae2fb58f788febcfa",
     "grade": false,
     "grade_id": "cell-71e78543c9c569f8",
     "locked": true,
     "schema_version": 1,
     "solution": false
    }
   },
   "source": [
    "<div class=\"alert alert-block alert-success\">\n",
    "<h1>Poisson Distribution application cases</h1>\n",
    "<h2>Topics:</h2>\n",
    "<h3>Bionomial distributions can be approximated by Poisson</h3>\n",
    "</div>\n",
    "<div class=\"alert alert-block alert-info\">\n",
    "<h4> python: stats.poisson.pmf(...), stats.poisson.cdf(...), stats.poisson.std(...), stats.poisson.mean(...)</h4>\n",
    "</div>"
   ]
  },
  {
   "cell_type": "code",
   "execution_count": null,
   "metadata": {
    "deletable": false,
    "editable": false,
    "nbgrader": {
     "checksum": "64b574779b8375afd7cd16c8dea62d94",
     "grade": false,
     "grade_id": "cell-f82c9038b0d5eef4",
     "locked": true,
     "schema_version": 1,
     "solution": false
    }
   },
   "outputs": [],
   "source": [
    "help(stats.poisson)"
   ]
  },
  {
   "cell_type": "markdown",
   "metadata": {
    "deletable": false,
    "editable": false,
    "nbgrader": {
     "checksum": "f60d6c173e666b97641ea24d59607029",
     "grade": false,
     "grade_id": "cell-c715eff97a7bbbca",
     "locked": true,
     "schema_version": 1,
     "solution": false
    }
   },
   "source": [
    "## Explanation: binomal versus poisson, Task 1: (10 pts)\n",
    "\n",
    "If one considers the values of binomial distributions $B(n, p)$, it is noticeable that the\n",
    "Tables of binomial distributions with the same expectation $\\mu = np$ in\n",
    "their values are similar and that this similarity increases with increasing $n$.\n",
    "\n",
    "Create a table that shows this as an example for the expected value $\\mu = 2$. For example, form the values for $B(10, k, 1/5), B(20,k,1/10), B(50,k,1/25), B(100,k,1/50), B(200,k, 1/100), B(500, k, 1/250)$ as columns and the rows correspond to the different values of $k = 0,..., 10$."
   ]
  },
  {
   "cell_type": "code",
   "execution_count": null,
   "metadata": {
    "deletable": false,
    "nbgrader": {
     "checksum": "1e9faeab68f7f44a353989acf929dd6f",
     "grade": true,
     "grade_id": "cell-4783a55486004b9d",
     "locked": false,
     "points": 10,
     "schema_version": 1,
     "solution": true
    }
   },
   "outputs": [],
   "source": [
    "# YOUR CODE HERE\n",
    "raise NotImplementedError()"
   ]
  },
  {
   "cell_type": "markdown",
   "metadata": {
    "deletable": false,
    "editable": false,
    "nbgrader": {
     "checksum": "32a6ca50348f02b55aaea39e9544a0c7",
     "grade": false,
     "grade_id": "cell-ae83adba9b82625b",
     "locked": true,
     "schema_version": 1,
     "solution": false
    }
   },
   "source": [
    "## Application example\n",
    "\n",
    "This Poisson approximation of a binomial distribution may be used e.g.in the following way:\n",
    "\n",
    "In a dough, 250 raisins are kneaded and then baked into 200 rolls.\n",
    "We choose one roll by chance. With what probability does it contain exactly 2 raisins?\n",
    "\n",
    "Solution: We can assume that when mixing the dough for each of the 250\n",
    "raisins the same probability of $\\frac{1}{200}$ to land in the selected bun. In addition, the raisins should not affect each other by sticking together. Then one can look at it as a Bernoulli chain\n",
    "of length 250; the success event is \"hit at the i-th place\"\n",
    "which reads as »raisin no. i is in the selected roll«. \n",
    "\n",
    "Now the searched probability $B(250,2,\\frac{1}{200})$ is calculated either as 0.22448, or \n",
    "the Poisson approximation yields $P(\\frac{250}{200},2) = e^{-1.15} \\frac{1.25^2}{2!}= 0.22383$."
   ]
  },
  {
   "cell_type": "markdown",
   "metadata": {
    "deletable": false,
    "editable": false,
    "nbgrader": {
     "checksum": "70a6e8868f45539af19b15b50b17dc19",
     "grade": false,
     "grade_id": "cell-36d2f3c2eef1319f",
     "locked": true,
     "schema_version": 1,
     "solution": false
    }
   },
   "source": [
    "## Task 2: (10 pts)\n",
    "Assume a book has 400 pages, and contains 600 misprint.\n",
    "\n",
    "How likely is it, that we find exactly one misprint on page one and one misprint on page 2. Also do an exact calculation using the binomial distribution and compare the numbers \n",
    "\n",
    "Hint: pages are rolls, misprints are rasins.\n"
   ]
  },
  {
   "cell_type": "code",
   "execution_count": null,
   "metadata": {
    "deletable": false,
    "nbgrader": {
     "checksum": "55dc617a3ee73683e694e759fa9468be",
     "grade": false,
     "grade_id": "cell-11cc9c4ad4031934",
     "locked": false,
     "schema_version": 1,
     "solution": true
    }
   },
   "outputs": [],
   "source": [
    "def likelihood_poisson(errCnt, pageCnt):\n",
    "    \"\"\"\n",
    "    This function should get the number of misprints and the number of pages. \n",
    "    It should return the likelihood of the 1 misprint on page 1 and 1 misprint\n",
    "    on page 2. Calculate the likelihood using Poisson distribution (stats.poisson.pmf()).\n",
    "    \"\"\"\n",
    "    # YOUR CODE HERE\n",
    "    raise NotImplementedError()\n",
    "    return myP*myP    "
   ]
  },
  {
   "cell_type": "code",
   "execution_count": null,
   "metadata": {},
   "outputs": [],
   "source": [
    "errCnt = 600\n",
    "pageCnt = 400\n",
    "print('The probability to have two single missprints on each page \\\n",
    "1 and 2 using Poisson is: {0:10.8g}'.format(likelihood_poisson(errCnt, pageCnt)))"
   ]
  },
  {
   "cell_type": "code",
   "execution_count": null,
   "metadata": {
    "deletable": false,
    "editable": false,
    "nbgrader": {
     "checksum": "6608dddc25f0c1a99d4c5df5f322ece1",
     "grade": true,
     "grade_id": "cell-ec7a6cdcecc769e0",
     "locked": true,
     "points": 5,
     "schema_version": 1,
     "solution": false
    }
   },
   "outputs": [],
   "source": [
    "# This cell is for grading purpose . Please ignore it.\n"
   ]
  },
  {
   "cell_type": "markdown",
   "metadata": {
    "deletable": false,
    "editable": false,
    "nbgrader": {
     "checksum": "2a90341c41c052afbe2bdb9741a33430",
     "grade": false,
     "grade_id": "cell-d265982c53f4cd53",
     "locked": true,
     "schema_version": 1,
     "solution": false
    }
   },
   "source": [
    "Write how you will model the problem using binomial distribution."
   ]
  },
  {
   "cell_type": "markdown",
   "metadata": {
    "deletable": false,
    "nbgrader": {
     "checksum": "7cfa5723ebfa8420b5b7e9bee35e58f2",
     "grade": true,
     "grade_id": "cell-a9b76f256ccca0bc",
     "locked": false,
     "points": 2,
     "schema_version": 1,
     "solution": true
    }
   },
   "source": [
    "YOUR ANSWER HERE"
   ]
  },
  {
   "cell_type": "code",
   "execution_count": null,
   "metadata": {
    "deletable": false,
    "nbgrader": {
     "checksum": "afec47dbc5b3fdcd4faff4383c1a1476",
     "grade": false,
     "grade_id": "cell-ae2093eae0c02423",
     "locked": false,
     "schema_version": 1,
     "solution": true
    }
   },
   "outputs": [],
   "source": [
    "def likelihood_binom(errCnt, pageCnt, errpage1, errpage2):\n",
    "    \"\"\"\n",
    "    This function should get the number of misprints,the number of pages, number of misprints in\n",
    "    eah page. It should return the likelihood of the 1 misprint on page 1 and 1 misprint\n",
    "    on page 2. Calculate the likelihood using Binomial distribution (stats.binom.pmf()).\n",
    "    \"\"\"\n",
    "    # YOUR CODE HERE\n",
    "    raise NotImplementedError()\n",
    "    return PA_1*PA_2"
   ]
  },
  {
   "cell_type": "code",
   "execution_count": null,
   "metadata": {},
   "outputs": [],
   "source": [
    "errCnt = 600\n",
    "pageCnt = 400\n",
    "errpage1 = 1\n",
    "errpage2 = 1\n",
    "\n",
    "print('The probability to have two single missprints on each \\\n",
    "  page 1 and 2 is: {0:10.8g}'.format(likelihood_binom(errCnt, pageCnt, errpage1, errpage2)))"
   ]
  },
  {
   "cell_type": "code",
   "execution_count": null,
   "metadata": {
    "deletable": false,
    "editable": false,
    "nbgrader": {
     "checksum": "ec7c040a86e50a990ee9289902b1424a",
     "grade": true,
     "grade_id": "cell-91f1b5aa3ba805af",
     "locked": true,
     "points": 3,
     "schema_version": 1,
     "solution": false
    }
   },
   "outputs": [],
   "source": [
    "# This cell is for grading purpose . Please ignore it.\n"
   ]
  }
 ],
 "metadata": {
  "kernelspec": {
   "display_name": "Python 3",
   "language": "python",
   "name": "python3"
  },
  "language_info": {
   "codemirror_mode": {
    "name": "ipython",
    "version": 3
   },
   "file_extension": ".py",
   "mimetype": "text/x-python",
   "name": "python",
   "nbconvert_exporter": "python",
   "pygments_lexer": "ipython3",
   "version": "3.6.6"
  }
 },
 "nbformat": 4,
 "nbformat_minor": 2
}
