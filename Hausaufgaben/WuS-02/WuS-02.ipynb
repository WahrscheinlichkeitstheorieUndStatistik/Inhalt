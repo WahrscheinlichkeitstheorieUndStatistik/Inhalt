{
 "cells": [
  {
   "cell_type": "markdown",
   "metadata": {
    "deletable": false,
    "editable": false,
    "nbgrader": {
     "checksum": "538fca5dc85d87644eca51c4b7cda58a",
     "grade": false,
     "grade_id": "cell-d1747d9bfde60765",
     "locked": true,
     "schema_version": 1,
     "solution": false
    }
   },
   "source": [
    "# Aufgabe - 2"
   ]
  },
  {
   "cell_type": "markdown",
   "metadata": {
    "deletable": false,
    "editable": false,
    "nbgrader": {
     "checksum": "a6aa814275b9a74f649f504bd2c99ab6",
     "grade": false,
     "grade_id": "cell-ce82293910150991",
     "locked": true,
     "schema_version": 1,
     "solution": false
    }
   },
   "source": [
    "<div class=\"alert alert-block alert-danger\">\n",
    "\n",
    "### Student Nutzername 1: ---------\n",
    "\n",
    "### Student Nutzername 2: ---------\n",
    "\n",
    "</div>\n"
   ]
  },
  {
   "cell_type": "markdown",
   "metadata": {
    "deletable": false,
    "nbgrader": {
     "checksum": "9ba3bbc27b3a5b9d112e566ec9680575",
     "grade": true,
     "grade_id": "cell-f349147af093008d",
     "locked": false,
     "points": 10,
     "schema_version": 1,
     "solution": true
    }
   },
   "source": [
    "YOUR ANSWER HERE"
   ]
  },
  {
   "cell_type": "markdown",
   "metadata": {},
   "source": [
    "Qn1: "
   ]
  },
  {
   "cell_type": "markdown",
   "metadata": {},
   "source": [
    "Ans1:"
   ]
  },
  {
   "cell_type": "markdown",
   "metadata": {},
   "source": [
    "Qn 2:"
   ]
  },
  {
   "cell_type": "markdown",
   "metadata": {},
   "source": [
    "Ans2:"
   ]
  },
  {
   "cell_type": "markdown",
   "metadata": {},
   "source": [
    "Qn 3:"
   ]
  },
  {
   "cell_type": "markdown",
   "metadata": {},
   "source": [
    "Ans3:"
   ]
  },
  {
   "cell_type": "markdown",
   "metadata": {},
   "source": [
    "Qn 4 :"
   ]
  },
  {
   "cell_type": "markdown",
   "metadata": {},
   "source": [
    "Ans4:"
   ]
  },
  {
   "cell_type": "markdown",
   "metadata": {},
   "source": [
    "Qn 5 :"
   ]
  },
  {
   "cell_type": "markdown",
   "metadata": {},
   "source": [
    "Ans5:"
   ]
  },
  {
   "cell_type": "code",
   "execution_count": null,
   "metadata": {
    "deletable": false,
    "editable": false,
    "nbgrader": {
     "checksum": "0eaa0dc26c55bf7723917e4708a00325",
     "grade": false,
     "grade_id": "cell-3af589cb40a9a599",
     "locked": true,
     "schema_version": 1,
     "solution": false
    }
   },
   "outputs": [],
   "source": [
    "import numpy as np\n",
    "from math import factorial\n",
    "from fractions import Fraction\n",
    "from scipy.special import comb"
   ]
  },
  {
   "cell_type": "markdown",
   "metadata": {
    "deletable": false,
    "editable": false,
    "nbgrader": {
     "checksum": "7ce10e3cec0165d831a62facc5ea2719",
     "grade": false,
     "grade_id": "cell-3d2d32bd5e41f4ae",
     "locked": true,
     "schema_version": 1,
     "solution": false
    }
   },
   "source": [
    "## Question 1:(10 points)\n",
    "\n",
    "We are given three coins: one has heads in both faces, the second has tails in both faces, and the third has a head in one face and a tail in the other. We choose a coin at random, toss it, and the result is heads. What is the probability that the opposite face is tails?"
   ]
  },
  {
   "cell_type": "markdown",
   "metadata": {
    "deletable": false,
    "editable": false,
    "nbgrader": {
     "checksum": "17f86d7484e0fbf283cfdc533ac4beb1",
     "grade": false,
     "grade_id": "cell-8631d46abafce015",
     "locked": true,
     "schema_version": 1,
     "solution": false
    }
   },
   "source": [
    "Write your solution in the cell below. (8 points)"
   ]
  },
  {
   "cell_type": "markdown",
   "metadata": {
    "deletable": false,
    "nbgrader": {
     "checksum": "7608d3a886ab1a455e26c47cde538efa",
     "grade": true,
     "grade_id": "cell-60ec9fce7bdea771",
     "locked": false,
     "points": 8,
     "schema_version": 1,
     "solution": true
    }
   },
   "source": [
    "YOUR ANSWER HERE"
   ]
  },
  {
   "cell_type": "markdown",
   "metadata": {
    "deletable": false,
    "editable": false,
    "nbgrader": {
     "checksum": "bb4b672f31e196cf71e32c44c9861da9",
     "grade": false,
     "grade_id": "cell-888205e37c087752",
     "locked": true,
     "schema_version": 1,
     "solution": false
    }
   },
   "source": [
    "In the following code, return the probability that the opposite face is tails using Fraction. e.g. if the answer is 2/5 return Fraction(2,5)<br>\n",
    "\n",
    "(2 points)"
   ]
  },
  {
   "cell_type": "code",
   "execution_count": null,
   "metadata": {
    "deletable": false,
    "nbgrader": {
     "checksum": "c604ced734876c9e6fd8460cb88e2263",
     "grade": false,
     "grade_id": "cell-c74bc8696580e21e",
     "locked": false,
     "schema_version": 1,
     "solution": true
    }
   },
   "outputs": [],
   "source": [
    "def prob_opposite_side_tail():\n",
    "    # YOUR CODE HERE\n",
    "    raise NotImplementedError()"
   ]
  },
  {
   "cell_type": "code",
   "execution_count": null,
   "metadata": {
    "deletable": false,
    "editable": false,
    "nbgrader": {
     "checksum": "8a8f11d154e739d1bf5f196226429176",
     "grade": true,
     "grade_id": "cell-7ec16f604fe73cb6",
     "locked": true,
     "points": 2,
     "schema_version": 1,
     "solution": false
    }
   },
   "outputs": [],
   "source": [
    "# This cell is for grading purpose . Please ignore it.\n",
    "\n"
   ]
  },
  {
   "cell_type": "markdown",
   "metadata": {
    "deletable": false,
    "editable": false,
    "nbgrader": {
     "checksum": "a9b0caa54cfdacefc5ad1b7fd4fad57d",
     "grade": false,
     "grade_id": "cell-7a7ac224d59e591e",
     "locked": true,
     "schema_version": 1,
     "solution": false
    }
   },
   "source": [
    "## Question 2:(15 points)\n",
    "\n",
    "#### Communication through a noisy channel.\n",
    "\n",
    "A source transmits a message (a string of symbols) through a noisy communication channel. Each symbol is\n",
    "0 or 1 with probability $p$ and $1 - p$, respectively, and is received incorrectly with probability $\\epsilon_0$ and $\\epsilon_1$, respectively (see figure). Errors in different symbol transmissions are independent.\n",
    "\n",
    "![Figure 1.18 Error probabilities in a binary communication channel.](image/prob1-31.png)\n",
    "\n",
    "1. What is the probability that the $k$-th symbol is received correctly?\n",
    "2. What is the probability that the string of symbols 1011 is received correctly?\n",
    "3. In an effort to improve reliability, each symbol is transmitted three times and the received string is decoded by majority rule. In other words, a 0 (or 1) is transmitted as 000 (or 111, respectively), and it is decoded at the receiver as a 0 (or 1) if and only if the received three-symbol string contains at least two 0's (or 1's, respectively). What is the probability that a 0 is correctly decoded?\n",
    "4. For what values of $\\epsilon_0$ is there an improvement in the probability of correct decoding of a 0 when the scheme of part (3) is used?\n",
    "5. Suppose that the scheme of part (3) is used. What is the probability that a symbol was 0 given that the received string is 101?\n"
   ]
  },
  {
   "cell_type": "markdown",
   "metadata": {
    "deletable": false,
    "editable": false,
    "nbgrader": {
     "checksum": "f30bc027f1f82dcb26a04f6649baea6b",
     "grade": false,
     "grade_id": "cell-57ed3d0a7fe99268",
     "locked": true,
     "schema_version": 1,
     "solution": false
    }
   },
   "source": [
    "Write your solution in the cell below. (15 points)"
   ]
  },
  {
   "cell_type": "markdown",
   "metadata": {
    "deletable": false,
    "nbgrader": {
     "checksum": "cff593d37ea922de6d1c20a17f162e38",
     "grade": true,
     "grade_id": "cell-aa6f8c5aed8f9e01",
     "locked": false,
     "points": 15,
     "schema_version": 1,
     "solution": true
    }
   },
   "source": [
    "YOUR ANSWER HERE"
   ]
  },
  {
   "cell_type": "markdown",
   "metadata": {
    "deletable": false,
    "editable": false,
    "nbgrader": {
     "checksum": "cd5d460ed1950978148cb6f7bf5f1223",
     "grade": false,
     "grade_id": "cell-4f67718d3b8f2183",
     "locked": true,
     "schema_version": 1,
     "solution": false
    }
   },
   "source": [
    "## Question 3:(10 points)\n",
    "\n",
    "#### Reliability of a $k$-out-of-$n$ system.\n",
    "A system consists of $n$ identical components, each of which is operational with probability $p$. independent of other components. The system is operational if at least $k$ out of the $n$ components are operational. What is the probability that the system is operational?\n"
   ]
  },
  {
   "cell_type": "markdown",
   "metadata": {
    "deletable": false,
    "editable": false,
    "nbgrader": {
     "checksum": "6319f0e1b7e007bad852f1f2b6e5ea77",
     "grade": false,
     "grade_id": "cell-5de9e0f90afadf74",
     "locked": true,
     "schema_version": 1,
     "solution": false
    }
   },
   "source": [
    "Write your solution in the cell below. (10 points)"
   ]
  },
  {
   "cell_type": "markdown",
   "metadata": {
    "deletable": false,
    "nbgrader": {
     "checksum": "99e648c486817e3819000344cc2d405d",
     "grade": true,
     "grade_id": "cell-42d135ce6f4268d5",
     "locked": false,
     "points": 10,
     "schema_version": 1,
     "solution": true
    }
   },
   "source": [
    "YOUR ANSWER HERE"
   ]
  },
  {
   "cell_type": "markdown",
   "metadata": {
    "deletable": false,
    "editable": false,
    "nbgrader": {
     "checksum": "85c7bf52b5c8c9ea19e1ca8dd4bd5ed1",
     "grade": false,
     "grade_id": "cell-0b24c4b3b70bfdcc",
     "locked": true,
     "schema_version": 1,
     "solution": false
    }
   },
   "source": [
    "## Question 4:(10 points)\n",
    "\n",
    "#### De Mere's puzzle.\n",
    "\n",
    "A six-sided die is rolled three times independently. Which is more likely: a sum of 11 or a sum of 12? (This question was posed by the French nobleman de Mere to his friend Pascal in the 17th century.)\n"
   ]
  },
  {
   "cell_type": "markdown",
   "metadata": {
    "deletable": false,
    "editable": false,
    "nbgrader": {
     "checksum": "8e1cc47da235a921062e8abc53ca6f82",
     "grade": false,
     "grade_id": "cell-03656b8100fbc565",
     "locked": true,
     "schema_version": 1,
     "solution": false
    }
   },
   "source": [
    "Hint: Use the comb function to compute the combination. For e.g. Choosing k out of n combinations could be calculated as comb(n,k)"
   ]
  },
  {
   "cell_type": "code",
   "execution_count": null,
   "metadata": {
    "deletable": false,
    "editable": false,
    "nbgrader": {
     "checksum": "30f2bc55046ecd256f004c18f5c367f5",
     "grade": false,
     "grade_id": "cell-9ea9028748c30c0f",
     "locked": true,
     "schema_version": 1,
     "solution": false
    }
   },
   "outputs": [],
   "source": [
    "help(comb)"
   ]
  },
  {
   "cell_type": "code",
   "execution_count": null,
   "metadata": {
    "deletable": false,
    "editable": false,
    "nbgrader": {
     "checksum": "ee34dea7f65945a38a823c81ae5305fd",
     "grade": false,
     "grade_id": "cell-00fb23e6213d5b0d",
     "locked": true,
     "schema_version": 1,
     "solution": false
    }
   },
   "outputs": [],
   "source": [
    "## EXAMPLE\n",
    "comb(5,2)"
   ]
  },
  {
   "cell_type": "markdown",
   "metadata": {},
   "source": [
    "Please write your solution in the  cell below (10 Points) "
   ]
  },
  {
   "cell_type": "markdown",
   "metadata": {
    "deletable": false,
    "nbgrader": {
     "checksum": "ca94e03c5fc1b27ad5ac937976457493",
     "grade": true,
     "grade_id": "cell-e67b7e1109836392",
     "locked": false,
     "points": 10,
     "schema_version": 1,
     "solution": true
    }
   },
   "source": [
    "YOUR ANSWER HERE"
   ]
  },
  {
   "cell_type": "markdown",
   "metadata": {
    "deletable": false,
    "editable": false,
    "nbgrader": {
     "checksum": "44108c864de8273ddb24c1d7d3ced79f",
     "grade": false,
     "grade_id": "cell-75561e327ea3acbd",
     "locked": true,
     "schema_version": 1,
     "solution": false
    }
   },
   "source": [
    "## Question 5:(10 points)\n",
    "#### The birthday problem.\n",
    "Consider $n$ people who are attending a party. We assume that every person has an equal probability of being born on any day during the year, independent of everyone else, and ignore the additional complication presented by leap years (i.e., assume that nobody is born on February 29). What is the probability that each person has a distinct birthday?"
   ]
  },
  {
   "cell_type": "markdown",
   "metadata": {
    "deletable": false,
    "editable": false,
    "nbgrader": {
     "checksum": "088942bfff3f97edb9497be950d6a028",
     "grade": false,
     "grade_id": "cell-648dfd53aded5e39",
     "locked": true,
     "schema_version": 1,
     "solution": false
    }
   },
   "source": [
    "Write your solution in the cell below. (5 POINTS)"
   ]
  },
  {
   "cell_type": "markdown",
   "metadata": {
    "deletable": false,
    "nbgrader": {
     "checksum": "951877934221cc5288e371025be63b24",
     "grade": true,
     "grade_id": "cell-43821a766be95bd4",
     "locked": false,
     "points": 5,
     "schema_version": 1,
     "solution": true
    }
   },
   "source": [
    "YOUR ANSWER HERE"
   ]
  },
  {
   "cell_type": "markdown",
   "metadata": {
    "deletable": false,
    "editable": false,
    "nbgrader": {
     "checksum": "a734ec1f4e6102c121616aa560e8c773",
     "grade": false,
     "grade_id": "cell-8382a66cc928774a",
     "locked": true,
     "schema_version": 1,
     "solution": false
    }
   },
   "source": [
    "The function probability_no_same_birthday() should get the number of people attending the party as input and return the probability that each person has a distinct birthday. \n",
    "(5 POINTS)"
   ]
  },
  {
   "cell_type": "code",
   "execution_count": null,
   "metadata": {
    "deletable": false,
    "nbgrader": {
     "checksum": "c5592770d95741271482f0d74629c459",
     "grade": false,
     "grade_id": "cell-cd9b6aeb8efe9903",
     "locked": false,
     "schema_version": 1,
     "solution": true
    }
   },
   "outputs": [],
   "source": [
    "def probability_no_same_birthday(n):\n",
    "    # YOUR CODE HERE\n",
    "    raise NotImplementedError()\n",
    "\n"
   ]
  },
  {
   "cell_type": "code",
   "execution_count": null,
   "metadata": {
    "deletable": false,
    "editable": false,
    "nbgrader": {
     "checksum": "d04d9e37ac6d08b3561327c9fd4db76c",
     "grade": true,
     "grade_id": "cell-04dd3fc865fadbd1",
     "locked": true,
     "points": 5,
     "schema_version": 1,
     "solution": false
    }
   },
   "outputs": [],
   "source": [
    "# This cell is for grading purpose . Please ignore it.\n",
    "\n"
   ]
  },
  {
   "cell_type": "markdown",
   "metadata": {
    "deletable": false,
    "editable": false,
    "nbgrader": {
     "checksum": "1ca8d55b99af4a3123794d46cfca0658",
     "grade": false,
     "grade_id": "cell-0df6a52e7b123661",
     "locked": true,
     "schema_version": 1,
     "solution": false
    }
   },
   "source": [
    "## Question 6:(10 points)\n",
    "\n",
    "Ninety students, including Joe and Jane, are to be split into three classes of equal size, and this is to be done at random. What is the probability that Joe and Jane end up in the same class?"
   ]
  },
  {
   "cell_type": "markdown",
   "metadata": {
    "deletable": false,
    "editable": false,
    "nbgrader": {
     "checksum": "5ae8b986ed667fd14d64d7be9b4da10a",
     "grade": false,
     "grade_id": "cell-1a8d6cb1779b41f7",
     "locked": true,
     "schema_version": 1,
     "solution": false
    }
   },
   "source": [
    "Hint: Use the comb function to compute the combination. For e.g. Choosing k out of n combinations could be calculated as comb(n,k)"
   ]
  },
  {
   "cell_type": "markdown",
   "metadata": {
    "deletable": false,
    "editable": false,
    "nbgrader": {
     "checksum": "b521ede788b0485343e53ede8db52719",
     "grade": false,
     "grade_id": "cell-df9e5217e25b4854",
     "locked": true,
     "schema_version": 1,
     "solution": false
    }
   },
   "source": [
    "Write your solution in the cell below. (10 POINTS)"
   ]
  },
  {
   "cell_type": "markdown",
   "metadata": {
    "deletable": false,
    "nbgrader": {
     "checksum": "ddf8257a91392bd4c17d05baf9017059",
     "grade": true,
     "grade_id": "cell-72613a441e066266",
     "locked": false,
     "points": 10,
     "schema_version": 1,
     "solution": true
    }
   },
   "source": [
    "YOUR ANSWER HERE"
   ]
  },
  {
   "cell_type": "markdown",
   "metadata": {
    "deletable": false,
    "editable": false,
    "nbgrader": {
     "checksum": "baa0f5b40c97db341665f4823f988950",
     "grade": false,
     "grade_id": "cell-a794e0599b2cd6e6",
     "locked": true,
     "schema_version": 1,
     "solution": false
    }
   },
   "source": [
    "## Question 7:(10 points)\n",
    "\n",
    "How many 6-word sentences can be made using each of the 26 letters of the alphabet exactly once? A word is defined as a nonempty (possibly jibberish) sequence of letters."
   ]
  },
  {
   "cell_type": "markdown",
   "metadata": {
    "deletable": false,
    "editable": false,
    "nbgrader": {
     "checksum": "ec9e249bd1018fc42b958a739045e6e0",
     "grade": false,
     "grade_id": "cell-b42dc428d1a4473e",
     "locked": true,
     "schema_version": 1,
     "solution": false
    }
   },
   "source": [
    "Hint: use factorial(n) to find the factorial of a number."
   ]
  },
  {
   "cell_type": "code",
   "execution_count": null,
   "metadata": {
    "deletable": false,
    "editable": false,
    "nbgrader": {
     "checksum": "0ca76099f18d9615c3167c1e6d87accd",
     "grade": false,
     "grade_id": "cell-f7f6c03ab6612ed6",
     "locked": true,
     "schema_version": 1,
     "solution": false
    }
   },
   "outputs": [],
   "source": [
    "help(factorial)"
   ]
  },
  {
   "cell_type": "code",
   "execution_count": null,
   "metadata": {
    "deletable": false,
    "editable": false,
    "nbgrader": {
     "checksum": "3466523ff78d2cf293091502e023e70d",
     "grade": false,
     "grade_id": "cell-82cc9c8bdbb39cb0",
     "locked": true,
     "schema_version": 1,
     "solution": false
    }
   },
   "outputs": [],
   "source": [
    "## Example\n",
    "factorial(5)"
   ]
  },
  {
   "cell_type": "markdown",
   "metadata": {
    "deletable": false,
    "editable": false,
    "nbgrader": {
     "checksum": "121f97c7ec236b5935e3f35e37ff9ea9",
     "grade": false,
     "grade_id": "cell-575bd60d6de6eaad",
     "locked": true,
     "schema_version": 1,
     "solution": false
    }
   },
   "source": [
    "Write your solution in the cell below. (5 POINTS)"
   ]
  },
  {
   "cell_type": "markdown",
   "metadata": {
    "deletable": false,
    "nbgrader": {
     "checksum": "ca00d4a1d1015c2c15006f589a8af40c",
     "grade": true,
     "grade_id": "cell-6f7fb543cafe6a52",
     "locked": false,
     "points": 5,
     "schema_version": 1,
     "solution": true
    }
   },
   "source": [
    "YOUR ANSWER HERE"
   ]
  },
  {
   "cell_type": "markdown",
   "metadata": {
    "deletable": false,
    "editable": false,
    "nbgrader": {
     "checksum": "e004d8a2c9aacd48662d854a7f769e2e",
     "grade": false,
     "grade_id": "cell-f39ed259cf6f02b9",
     "locked": true,
     "schema_version": 1,
     "solution": false
    }
   },
   "source": [
    "The function should get inputs number of letters and number of word. It should return the final answer. \n",
    "\n",
    "(5 POINTS)"
   ]
  },
  {
   "cell_type": "code",
   "execution_count": null,
   "metadata": {
    "deletable": false,
    "nbgrader": {
     "checksum": "88ae0898d511ed825206dc6cfae1bc59",
     "grade": false,
     "grade_id": "cell-4d7c1eacdd8de03b",
     "locked": false,
     "schema_version": 1,
     "solution": true
    }
   },
   "outputs": [],
   "source": [
    "def get_num_sentences(num_letter, num_word):\n",
    "    # YOUR CODE HERE\n",
    "    raise NotImplementedError()\n",
    "\n",
    "num_letter = None\n",
    "num_word = None\n",
    "get_num_sentences(num_letter, num_word) "
   ]
  },
  {
   "cell_type": "code",
   "execution_count": null,
   "metadata": {
    "deletable": false,
    "editable": false,
    "nbgrader": {
     "checksum": "0e60106277edab9ccb938611abff18cb",
     "grade": true,
     "grade_id": "cell-44de8260fbcaa305",
     "locked": true,
     "points": 5,
     "schema_version": 1,
     "solution": false
    }
   },
   "outputs": [],
   "source": [
    "\n",
    "# This cell is for grading purpose . Please ignore it.\n",
    "\n",
    "\n"
   ]
  },
  {
   "cell_type": "markdown",
   "metadata": {
    "deletable": false,
    "editable": false,
    "nbgrader": {
     "checksum": "95efb1c1656b1511e447d6fe1dc06bfe",
     "grade": false,
     "grade_id": "cell-89f69a1ac87108f9",
     "locked": true,
     "schema_version": 1,
     "solution": false
    }
   },
   "source": [
    "## Question 8:(15 points)\n",
    "\n",
    "We draw the top 5 cards from a well-shuffled standard 52-card deck. Find the probability that:\n",
    "1. The 5 cards include exactly 3 aces.\n",
    "2. The 5 cards include exactly 2 kings.\n",
    "3. The probability that the 5 cards include exactly 3 aces. or exactly 2 kings, or both."
   ]
  },
  {
   "cell_type": "markdown",
   "metadata": {
    "deletable": false,
    "editable": false,
    "nbgrader": {
     "checksum": "49aa9a779c9c17a48dd327fd7870c65a",
     "grade": false,
     "grade_id": "cell-7e5a9fd908069be5",
     "locked": true,
     "schema_version": 1,
     "solution": false
    }
   },
   "source": [
    "Write your solution in the cell below. (9 POINTS)"
   ]
  },
  {
   "cell_type": "markdown",
   "metadata": {
    "deletable": false,
    "nbgrader": {
     "checksum": "fedada856f5aedede396b38882276cf8",
     "grade": true,
     "grade_id": "cell-19eb4d4ada1a9a76",
     "locked": false,
     "points": 9,
     "schema_version": 1,
     "solution": true
    }
   },
   "source": [
    "YOUR ANSWER HERE"
   ]
  },
  {
   "cell_type": "markdown",
   "metadata": {
    "deletable": false,
    "editable": false,
    "nbgrader": {
     "checksum": "6ac8700473996c3fee73183dd9e98790",
     "grade": false,
     "grade_id": "cell-550537a95486e07c",
     "locked": true,
     "schema_version": 1,
     "solution": false
    }
   },
   "source": [
    "The function <b>comb_count_same_card_num () </b>could be used to calculate the possible combination of drawing n cards and getting 'k' cards of the same type. <br>\n",
    "inputs : <br>\n",
    "num_card_total - number of total cards drawn <br>\n",
    "num_same_type - number of drawn cards of same type <br>\n",
    "\n",
    "The function <b> probability_draw_cards() </b> should return the answer for the third question(The probability that the 5 cards include exactly 3 aces. or exactly 2 kings, or both.)\n",
    "\n",
    "(6 POINTS)"
   ]
  },
  {
   "cell_type": "code",
   "execution_count": null,
   "metadata": {
    "deletable": false,
    "nbgrader": {
     "checksum": "3b90fff367ebeb9cc2c578517f6b49e0",
     "grade": false,
     "grade_id": "cell-cd1dd2407dbc8ca9",
     "locked": false,
     "schema_version": 1,
     "solution": true
    }
   },
   "outputs": [],
   "source": [
    "def comb_count_same_card_num(num_same_type, num_card_total):\n",
    "    \"\"\"\n",
    "    Count the possible combinations of drawing 'num_card_total' and getting\n",
    "    'num_same_type' cards of the same type\n",
    "    \"\"\"\n",
    "    # YOUR CODE HERE\n",
    "    raise NotImplementedError()\n",
    "    \n",
    "\n",
    "def probability_draw_cards(num_kings, num_aces, num_card_total):\n",
    "    # YOUR CODE HERE\n",
    "    raise NotImplementedError()\n"
   ]
  },
  {
   "cell_type": "code",
   "execution_count": null,
   "metadata": {
    "deletable": false,
    "editable": false,
    "nbgrader": {
     "checksum": "758123b4953b02051b274805088790fb",
     "grade": true,
     "grade_id": "cell-24c975cd22040361",
     "locked": true,
     "points": 6,
     "schema_version": 1,
     "solution": false
    }
   },
   "outputs": [],
   "source": [
    "# This cell is for grading purpose . Please ignore it.\n",
    "\n"
   ]
  }
 ],
 "metadata": {
  "kernelspec": {
   "display_name": "Python 3",
   "language": "python",
   "name": "python3"
  },
  "language_info": {
   "codemirror_mode": {
    "name": "ipython",
    "version": 3
   },
   "file_extension": ".py",
   "mimetype": "text/x-python",
   "name": "python",
   "nbconvert_exporter": "python",
   "pygments_lexer": "ipython3",
   "version": "3.6.6"
  }
 },
 "nbformat": 4,
 "nbformat_minor": 2
}
