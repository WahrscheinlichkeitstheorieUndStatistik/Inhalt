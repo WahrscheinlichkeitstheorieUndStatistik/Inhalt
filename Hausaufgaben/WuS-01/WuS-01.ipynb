{
 "cells": [
  {
   "cell_type": "markdown",
   "metadata": {
    "deletable": false,
    "editable": false,
    "nbgrader": {
     "checksum": "c095d9d8c8caea15767aa85048c7ddd8",
     "grade": false,
     "grade_id": "cell-861fa620256131ae",
     "locked": true,
     "schema_version": 1,
     "solution": false
    }
   },
   "source": [
    "# Anhalt\n",
    "![](image/logo.png)\n",
    "<div class=\"alert alert-block alert-info\">\n",
    "</div>\n",
    "\n",
    "\n"
   ]
  },
  {
   "cell_type": "markdown",
   "metadata": {
    "deletable": false,
    "editable": false,
    "nbgrader": {
     "checksum": "b7495dd1e1de7c0d3d7232ed9ba76868",
     "grade": false,
     "grade_id": "cell-9aafa2621a266742",
     "locked": true,
     "schema_version": 1,
     "solution": false
    }
   },
   "source": [
    "## Intoduction to Probability\n",
    "\n",
    "To do as per slides"
   ]
  },
  {
   "cell_type": "markdown",
   "metadata": {
    "deletable": false,
    "editable": false,
    "nbgrader": {
     "checksum": "68567bb912505a7eb1debe1269b36d7d",
     "grade": false,
     "grade_id": "cell-756cc10fe39631b8",
     "locked": true,
     "schema_version": 1,
     "solution": false
    }
   },
   "source": [
    "## <center> Grundlagen der Wahrscheinlichkeitsrechnung </center><br>\n",
    "<center> Was ist Wahrscheinlichkeit ? </center><br>\n",
    "<center> P.G.Plöger </center><br>"
   ]
  },
  {
   "cell_type": "markdown",
   "metadata": {
    "deletable": false,
    "editable": false,
    "nbgrader": {
     "checksum": "34e18cdb1aec1087339a72264b712888",
     "grade": false,
     "grade_id": "cell-3c9a21a6584e9a7e",
     "locked": true,
     "schema_version": 1,
     "solution": false
    }
   },
   "source": [
    "<center>Quellen / Zitate</center>\n",
    "<table><tr><td><img src=\"image/image1.png\" width=\"200\"></td><td><img src=\"image/image2.png\" width=\"200\"></td></tr></table>"
   ]
  },
  {
   "cell_type": "markdown",
   "metadata": {
    "deletable": false,
    "editable": false,
    "nbgrader": {
     "checksum": "15a925a7cceaf42ecef72aace874245b",
     "grade": false,
     "grade_id": "cell-fd1593d9a4643df5",
     "locked": true,
     "schema_version": 1,
     "solution": false
    }
   },
   "source": [
    "* Wie wahrscheinlich ist eine „6“ beim nächsten Wurf? <br>\n",
    "* Wenn Sie eine E-Mail erhalten, die die Wörter \"frei\", \"Geld\", \"billig\", \"Kredit\" enthält, mit welcher Sicherheit wird es in den Spam-Ordner gefiltert? => Machine Learning <br>\n",
    "* Wird das Pferd No. 8 gewinnen? <br>\n",
    "* Morgen regnet es mit 80% Wahrscheinlichk. <br>\n",
    "* Steigen die Börsenkurse morgen? <br>\n",
    "* Wie wahrscheinlich sind Aliens im Universum? <br>"
   ]
  },
  {
   "cell_type": "markdown",
   "metadata": {
    "deletable": false,
    "editable": false,
    "nbgrader": {
     "checksum": "06fbab6fed2311cec6ceaf196ffc704c",
     "grade": false,
     "grade_id": "cell-c0b290127037a311",
     "locked": true,
     "schema_version": 1,
     "solution": false
    }
   },
   "source": [
    "## <center>Probability Theory </center>"
   ]
  },
  {
   "cell_type": "markdown",
   "metadata": {
    "deletable": false,
    "editable": false,
    "nbgrader": {
     "checksum": "5bdc80fcd570dc037419516c01dd9125",
     "grade": false,
     "grade_id": "cell-9c50d4e27a1ac382",
     "locked": true,
     "schema_version": 1,
     "solution": false
    }
   },
   "source": [
    "<center>\n",
    "<img src=\"image/image3.png\"   width=\"500\" >\n",
    "</center>\n"
   ]
  },
  {
   "cell_type": "markdown",
   "metadata": {
    "deletable": false,
    "editable": false,
    "nbgrader": {
     "checksum": "56e770856b4b813aee46304735d86c03",
     "grade": false,
     "grade_id": "cell-be7c83f1ca6a3538",
     "locked": true,
     "schema_version": 1,
     "solution": false
    }
   },
   "source": [
    "All diese Fragen werden unter einen Hut gebracht (erst 1931 (de Finetti), dann 1933 (Kolmogoroff), dann \n",
    "1946 (Cox)) <br>\n",
    ".. und das hat alles bloß ca 300 Jahre gedauert.. <br>"
   ]
  },
  {
   "cell_type": "markdown",
   "metadata": {
    "deletable": false,
    "editable": false,
    "nbgrader": {
     "checksum": "80653f7725aabc18c7372a39dade0d0b",
     "grade": false,
     "grade_id": "cell-e6471fb785af859f",
     "locked": true,
     "schema_version": 1,
     "solution": false
    }
   },
   "source": [
    "## <center> Outline </center></h1>\n",
    "* <b> Studiere Modell Fälle <br>\n",
    "* Formalisiere (etwas....) <br> </b>\n",
    "* Bilde Begriffe <br>\n",
    "* Bilde Axiome (Kolmogoroff im Original) <br>\n",
    "* Zeige: die funktionieren (einfache Folgen..) <br>\n",
    "* Probleme und Erweiterungen <br>"
   ]
  },
  {
   "cell_type": "markdown",
   "metadata": {
    "deletable": false,
    "editable": false,
    "nbgrader": {
     "checksum": "695e416b6ec56d76dfdc012d3339255c",
     "grade": false,
     "grade_id": "cell-52a8cd762476dd32",
     "locked": true,
     "schema_version": 1,
     "solution": false
    }
   },
   "source": [
    "## <center> Mengen + Venn Diagr. </center>\n",
    "<center>\n",
    "<img src=\"image/image4.png\"  width=\"800\">\n",
    "</center>"
   ]
  },
  {
   "cell_type": "markdown",
   "metadata": {
    "deletable": false,
    "editable": false,
    "nbgrader": {
     "checksum": "34305144a1d513f3ca03710b954e4f01",
     "grade": false,
     "grade_id": "cell-0eae889baa63b12e",
     "locked": true,
     "schema_version": 1,
     "solution": false
    }
   },
   "source": [
    "## <center> Was haben diese „Modelle“ gemeinsam? </center></h1>\n",
    "\n",
    "<center>\n",
    "<img src=\"image/image16.png\"  width=\"500\">\n",
    "</center>"
   ]
  },
  {
   "cell_type": "markdown",
   "metadata": {
    "deletable": false,
    "editable": false,
    "nbgrader": {
     "checksum": "b127bf7acf475fcc5ea0afec15efc52c",
     "grade": false,
     "grade_id": "cell-135241ba4f36bc79",
     "locked": true,
     "schema_version": 1,
     "solution": false
    }
   },
   "source": [
    "## <center> Übersetzungen: {} -- Events </center>\n",
    "<center>\n",
    "<img src=\"image/image5.png\" width=\"600\" >\n",
    "</center>\n"
   ]
  },
  {
   "cell_type": "markdown",
   "metadata": {
    "deletable": false,
    "editable": false,
    "nbgrader": {
     "checksum": "9e179b27f4b78ff2bf5025612e68fd1c",
     "grade": false,
     "grade_id": "cell-0bddb6bc6d23e89b",
     "locked": true,
     "schema_version": 1,
     "solution": false
    }
   },
   "source": [
    "<center>\n",
    "<img src=\"image/image6.png\" width=\"600\">\n",
    "</center>"
   ]
  },
  {
   "cell_type": "markdown",
   "metadata": {
    "deletable": false,
    "editable": false,
    "nbgrader": {
     "checksum": "bfe0d80ff4ec679032b18c93b8a1287b",
     "grade": false,
     "grade_id": "cell-01ea49d59caee761",
     "locked": true,
     "schema_version": 1,
     "solution": false
    }
   },
   "source": [
    "## <center> W-Generator Schema </center>\n",
    "<center>\n",
    "<img src=\"image/image17.png\" width=\"600\">\n",
    "</center>"
   ]
  },
  {
   "cell_type": "markdown",
   "metadata": {
    "deletable": false,
    "editable": false,
    "nbgrader": {
     "checksum": "171284495727770aaa644b19e81f6211",
     "grade": false,
     "grade_id": "cell-6982997f8e5e3d20",
     "locked": true,
     "schema_version": 1,
     "solution": false
    }
   },
   "source": [
    "## <center> Outline </center>\n",
    "* Studiere Modell Fälle\n",
    "* Formalisiere (etwas....)\n",
    "* <b> Bilde Begriffe </b>\n",
    "* Bilde Axiome (Kolmogoroff im Original)\n",
    "* Zeige: die funktionieren (einfache Folgen..)\n",
    "* Probleme und Erweiterungen"
   ]
  },
  {
   "cell_type": "markdown",
   "metadata": {
    "deletable": false,
    "editable": false,
    "nbgrader": {
     "checksum": "99e18bba1618faf4fd29100ee8993995",
     "grade": false,
     "grade_id": "cell-fb09f0490a696c70",
     "locked": true,
     "schema_version": 1,
     "solution": false
    }
   },
   "source": [
    "## <center> Begriffe der Wahrscheinlickeit </center>\n",
    "Ein <b>Ereignis</b> ist der Ausgang / das Resultat eines Experiments. <br>\n",
    "Es kann als Menge A, B, O, I, E_i .... dargestellt werden. <br>\n",
    "\n",
    "Ein <b>Elementar Ereignis</b> (oder Atom) E_i ist ein  \n",
    "unteilbares Ereignis, d.h. es gibt KEINE Mengen A, B mit Ei=A+B und Ei≠A und Ei≠B).  <br>\n"
   ]
  },
  {
   "cell_type": "markdown",
   "metadata": {
    "deletable": false,
    "editable": false,
    "nbgrader": {
     "checksum": "35a402127219a8a6b25c580e0af249db",
     "grade": false,
     "grade_id": "cell-aa5ee8c02a34cf91",
     "locked": true,
     "schema_version": 1,
     "solution": false
    }
   },
   "source": [
    "## <center> Begriffe der Wahrscheinlickeit  </center>\n",
    "\n",
    "Der <b>Ereignisraum</b>  enthält die Menge aller möglichen Elementar Ereignisse.<br>\n",
    "Die Potenzmenge von Ω enthält \n",
    "dann alle Vereinigungsmengen,Komplemente und Schnittmengen der Elementar-ereignisse und bildet damit die sogenannte <b>Ereignis-Algebra</b> 𝕱. <br>\n",
    "Sie enhält ALLE Ereignisse. <br>\n",
    "Zwei Spezial-Ereignisse: <br>\n",
    "Ω nennt man auch das <b>sichere Ereignis</b>, ∅ das <b>unmögliche Ereignis.</b>\n"
   ]
  },
  {
   "cell_type": "markdown",
   "metadata": {
    "deletable": false,
    "editable": false,
    "nbgrader": {
     "checksum": "0252adfc44e362245f928b25cbc3cc9b",
     "grade": false,
     "grade_id": "cell-fc31b3b1d7be3ea7",
     "locked": true,
     "schema_version": 1,
     "solution": false
    }
   },
   "source": [
    "## <center> Darstellungen  </center>\n",
    "\n",
    "<center>\n",
    "<img src=\"image/image8.png\" width=\"500\" >\n",
    "</center>\n",
    "\n",
    "* Geordnete Paare (i,j) für zwei 4-Seiten-Würfel\n",
    "* der Baum auf der rechten Seite die spiegelt den sequenzieller Charakter des Experiments.\n",
    "* graues Ereignis: {(1, 1), (1, 2), (1, 3), (1, 4)}\n",
    "* 1 Knoten des Baums == 1 Ereignis == Menge aller Blätter, die diesem Knoten nachgeschaltet sind"
   ]
  },
  {
   "cell_type": "markdown",
   "metadata": {
    "deletable": false,
    "editable": false,
    "nbgrader": {
     "checksum": "f58ad3e215bbe0f782562fabe7eb10c9",
     "grade": false,
     "grade_id": "cell-efaabc8259d281b9",
     "locked": true,
     "schema_version": 1,
     "solution": false
    }
   },
   "source": [
    "## <center> Bäume für allgemeine A, B  </center>\n",
    "<center>\n",
    "<img src=\"image/image18.png\" width=\"300\" >\n",
    "</center>\n",
    "<br>\n",
    "\n",
    "Gestufter Verlauf: <br>\n",
    "erst A dann B <br>\n",
    "An den Blättern: <br>\n",
    "* alle Kombinationen <br>\n",
    "* Das Ereignis steckt <br>\n",
    "im Pfad zum Blatt <br>\n",
    "(A,B) oder (A,$B^c$) etc. "
   ]
  },
  {
   "cell_type": "markdown",
   "metadata": {
    "deletable": false,
    "editable": false,
    "nbgrader": {
     "checksum": "1a590f85a13662b646cfb2b9c8a2fd2b",
     "grade": false,
     "grade_id": "cell-11edd68e281552af",
     "locked": true,
     "schema_version": 1,
     "solution": false
    }
   },
   "source": [
    "## <center> W-Generator Schema  </center>\n",
    "<center>\n",
    "<img src=\"image/image19.png\" width=\"500\" >\n",
    "</center>\n",
    "<br>\n",
    "Beispiele für Ω: beim Würfeln: <br>\n",
    "Seitenflächen eines Würfels => {1,2,3,4,5,6} <br>\n",
    "Seitenflächen zweier Würfel => {(1,1),(1,2),(2,1),...,(6,6)} <br>\n",
    "Summe zweier Würfel => {2,3,...,7,..., 12} <br>"
   ]
  },
  {
   "cell_type": "markdown",
   "metadata": {
    "deletable": false,
    "editable": false,
    "nbgrader": {
     "checksum": "e506b9119368f94f4b2ef1a684e20089",
     "grade": false,
     "grade_id": "cell-9bd1f9d7e67eadf9",
     "locked": true,
     "schema_version": 1,
     "solution": false
    }
   },
   "source": [
    "## <center> Elemente eines probabilistischen Models </center>\n",
    "\n",
    "1. die Wahrscheinlichkeitsfunktion, die jedem Ereignis A ∈  𝕱 eine nichtnegative Zahl P(A) zuordnet, \n",
    "=> genannt die/das Wahrscheinlichkeit(smaß) von A. \n",
    "\n",
    "2. P(A) bündelt unser Wissen oder unsere Überzeugungen über die \"Wahrscheinlichkeit\" des Ereignisses A. \n",
    "\n",
    "Eine Wahrscheinlichkeitsfunktion muss bestimmten Axiomen genügen."
   ]
  },
  {
   "cell_type": "markdown",
   "metadata": {
    "deletable": false,
    "editable": false,
    "nbgrader": {
     "checksum": "8379c321b0ebaee938b25cdf3e917901",
     "grade": false,
     "grade_id": "cell-70082b4b3c22ddd5",
     "locked": true,
     "schema_version": 1,
     "solution": false
    }
   },
   "source": [
    "## <center> Outline </center>\n",
    "\n",
    "* Studiere Modell Fälle\n",
    "* Formalisiere (etwas....)\n",
    "* Bilde Begriffe\n",
    "* **Bilde Axiome (Kolmogoroff im Original)**\n",
    "* Zeige: die funktionieren (einfache Folgen..)\n",
    "* Probleme und Erweiterungen"
   ]
  },
  {
   "cell_type": "markdown",
   "metadata": {
    "deletable": false,
    "editable": false,
    "nbgrader": {
     "checksum": "2d0e90807fc8826582dea8d1d2070e00",
     "grade": false,
     "grade_id": "cell-612625d5949b5eec",
     "locked": true,
     "schema_version": 1,
     "solution": false
    }
   },
   "source": [
    "## <center> Axiome der Wahrscheinlickeit (Kolmogoroff 1933) (Zitat) </center>\n",
    "\n",
    "\n",
    "III. $0 \\leqslant P(E_i)$\n",
    "\n",
    "IV. $P(E_i) =1 $\n",
    "\n",
    "V. If A$\\cap$B = ∅ then P(A$\\cup$B) = P(A)+ P(B)\n",
    "\n",
    "\n",
    "NB: die Kolmogoroff Original-Axiome I. und II. beziehen sich auf die Ereignis-Algebra <br>\n",
    "NB: Im Fall V. nennt man A und B disjunkt"
   ]
  },
  {
   "cell_type": "markdown",
   "metadata": {
    "deletable": false,
    "editable": false,
    "nbgrader": {
     "checksum": "cd7c1102d11f34f41949cbf72d921b90",
     "grade": false,
     "grade_id": "cell-8a8e64e2412e9ebf",
     "locked": true,
     "schema_version": 1,
     "solution": false
    }
   },
   "source": [
    "## <center> Die Ereignis Algebra 1 </center>\n",
    "<b>Begriffe: </b> <br>\n",
    "\n",
    "<b>Experiment: </b>  werfen einer Münze <br>\n",
    "<b>Ereignis: </b>  H, T (elementary events) <br>\n",
    "<b>Algebra: </b>  {H,T},{H},{T},∅ <br>\n",
    "<b>Wahrscheinlk.: </b>  P({H})= P({T})=1/2, <br>\n",
    "P({H,T})=1, <br>\n",
    "P(∅)see below… <br>\n",
    "Bemerkung: die korrekte Notation P({H}) wird\n",
    "fast immer durch die „schlampigere“ Schreibweise\n",
    "P(H) ersetzt!"
   ]
  },
  {
   "cell_type": "markdown",
   "metadata": {
    "deletable": false,
    "editable": false,
    "nbgrader": {
     "checksum": "fcbe52c34193db6b4506532557fae7c0",
     "grade": false,
     "grade_id": "cell-deaf91cc37145d3d",
     "locked": true,
     "schema_version": 1,
     "solution": false
    }
   },
   "source": [
    "## <center> Die Ereignis Algebra 2 </center>\n",
    "<b>Begriffe: </b> <br>\n",
    "<b>Experiment: </b> toss two 4-sided dice. <br>\n",
    "<b>Elm. Ereigniss: </b> (1,1),(1,2),…(4,4) <br>\n",
    "<b>Ereignisse: </b> {(i,j)| i=j },<br>\n",
    "{(i,j)| i=4 ∨ j=4},\n",
    "<center>\n",
    "<img src=\"image/image20.png\" width=\"300\" >\n",
    "</center>"
   ]
  },
  {
   "cell_type": "markdown",
   "metadata": {
    "deletable": false,
    "editable": false,
    "nbgrader": {
     "checksum": "f3a0d46ba2ea58f76f8690001fbd2214",
     "grade": false,
     "grade_id": "cell-a37e096a094c3398",
     "locked": true,
     "schema_version": 1,
     "solution": false
    }
   },
   "source": [
    "## <center> Outline </center>\n",
    "* Studiere Modell Fälle\n",
    "* Formalisiere (etwas....)\n",
    "* Bilde Begriffe\n",
    "* Bilde Axiome (Kolmogoroff im Original)\n",
    "* **Zeige: die funktionieren (einfache Folgen..)**\n",
    "* Probleme und Erweiterungen"
   ]
  },
  {
   "cell_type": "markdown",
   "metadata": {
    "deletable": false,
    "editable": false,
    "nbgrader": {
     "checksum": "6608d63b42f6833b5ae212a6936f1c6f",
     "grade": false,
     "grade_id": "cell-7e3905c8cc483ae8",
     "locked": true,
     "schema_version": 1,
     "solution": false
    }
   },
   "source": [
    "## <center> Einige direkte Folgerungen </center>\n",
    "\n",
    "<center>\n",
    "<img src=\"image/image21.png\" width=\"500\" >\n",
    "</center>"
   ]
  },
  {
   "cell_type": "markdown",
   "metadata": {
    "deletable": false,
    "editable": false,
    "nbgrader": {
     "checksum": "a803bf0dc394fba191784ad1c405dd84",
     "grade": false,
     "grade_id": "cell-b6e07b9a3bdcff89",
     "locked": true,
     "schema_version": 1,
     "solution": false
    }
   },
   "source": [
    "## <center> Nutze die Axiome für weitere einfache Folgerugen </center>\n",
    "<center>\n",
    "<img src=\"image/image22.png\" width=\"500\" >\n",
    "</center>\n",
    "<br>\n",
    "NB: diese „harmlose“ Regel ist ein häufig verwendeter <br>\n",
    "Rechentrick: berechne statt der direkten Wahrscheinlichkeit <br>\n",
    "die Wahrscheinlichkeit des Komplements <br>"
   ]
  },
  {
   "cell_type": "markdown",
   "metadata": {
    "deletable": false,
    "editable": false,
    "nbgrader": {
     "checksum": "25d461d9ed134f717a8c2d9732e2608c",
     "grade": false,
     "grade_id": "cell-b7d4c19fb54a6e12",
     "locked": true,
     "schema_version": 1,
     "solution": false
    }
   },
   "source": [
    "## <center> Example </center>\n",
    "<center>\n",
    "<img src=\"image/image23.png\" width=\"500\" >\n",
    "</center>\n",
    "<br>\n",
    "* Man kann das Wahrscheinlichkeitsmaß gut durch die Fläche von Mengen veranschaulichen.\n",
    "* Wie hängen Mengenoperationen mit diesen Flächenmassen zusammen?\n",
    "* Beachte: im obigen Beispiel bezeichnet A zweierlei:\n",
    "\n",
    "1. die Menge A und \n",
    "2. das Ereignis, das ein Element aus A auswählt wurde"
   ]
  },
  {
   "cell_type": "markdown",
   "metadata": {
    "deletable": false,
    "editable": false,
    "nbgrader": {
     "checksum": "68af1fe3749e356cc15f11782bee9a48",
     "grade": false,
     "grade_id": "cell-7c0714f64e8ce80e",
     "locked": true,
     "schema_version": 1,
     "solution": false
    }
   },
   "source": [
    "## <center> Outline </center>\n",
    "* Studiere Modell Fälle\n",
    "* Formalisiere (etwas....)\n",
    "* Bilde Begriffe\n",
    "* Bilde Axiome (Kolmogoroff im Original)\n",
    "* Zeige: die funktionieren (einfache\n",
    "* Folgen..)\n",
    "* Probleme und Erweiterungen"
   ]
  },
  {
   "cell_type": "markdown",
   "metadata": {
    "deletable": false,
    "editable": false,
    "nbgrader": {
     "checksum": "8efce05361da9cf9b91926005455afd1",
     "grade": false,
     "grade_id": "cell-5d6a80851ba4b669",
     "locked": true,
     "schema_version": 1,
     "solution": false
    }
   },
   "source": [
    "## <center>Sichten auf Ungewissheit und Wahrscheinlichkeit  </center>\n",
    "\n",
    "Ziel der Wahrscheinlichkeitstheorie ist es, die Unsicherheit zu beschreiben.\n",
    "Quellen / Interpretationen für die Unsicherheit sind:\n",
    "\n",
    "1. <b> Frequentivistisch: </b> <br>\n",
    "Wahrscheinlichkeiten sind relative Häufigkeiten.\n",
    "(z. B. die relative Häufigkeit des Kopfwurfs)\n",
    "\n",
    "2. <b> Objektivistisch: </b>  <br>\n",
    "Wahrscheinlichkeiten sind reale Aspekte der Welt.\n",
    "(z. B. die Wahrscheinlichkeit, dass ein Atom in der nächsten Stunde zerfällt)\n",
    "\n",
    "3. <b> Subjektivistisch: </b> <br>\n",
    "Wahrscheinlichkeiten beschreiben den Grad des Glaubens eines Agenten,\n",
    "(z. B. ist es plausibel, dass Außerirdische existieren)"
   ]
  },
  {
   "cell_type": "markdown",
   "metadata": {
    "deletable": false,
    "editable": false,
    "nbgrader": {
     "checksum": "03c32e1e0b2107e92bd76288b7e3e61c",
     "grade": false,
     "grade_id": "cell-21d4289e68a7e96b",
     "locked": true,
     "schema_version": 1,
     "solution": false
    }
   },
   "source": [
    "## <center>Frequentivistische Sicht: Häufigkeiten   </center>\n",
    "\n",
    "Der Frequentivist interpretiert Wahrscheinlichkeiten als relative Häufigkeiten. <br>\n",
    " \n",
    "* Wenn in einer Folge von n unabhängigen, identisch verteilten (i.i.d.) Experimenten (Versuchen) ein Ereignis k(n) mal auftritt, \n",
    "dann ist die relative Häufigkeit des Ereignisses gegeben durch k(n)/n.\n",
    "also\n",
    "\n",
    "<center>\n",
    "<img src=\"image/image24.png\" width=\"500\" >\n",
    "</center>\n",
    "<br>\n",
    "\n",
    "* die Wahrscheinlichkeit wird dann definiert als \n",
    "der Grenzwert der relativen Häufigkeiten:\n",
    "<center>\n",
    "<img src=\"image/image25.png\" width=\"50\" >\n",
    "</center>\n",
    "<br>\n",
    "* z.B. ist die Wahrscheinlichkeit des Ereignisses „H“ in einer Reihenfolge des wiederholten Werfens einer fairen Münze gleich ½.\n",
    "\n",
    "* Die Frequentivistische Position ist am einfachsten zu verstehen, sie hat aber mehrere signifikante Mängel:\n",
    "     * die Definition ist zirkulär => see image\n",
    "     * sie ist beschränkt auf den Fall i.i.d,\n",
    "     * das Problem der Referenz Klassen"
   ]
  },
  {
   "cell_type": "markdown",
   "metadata": {
    "deletable": false,
    "editable": false,
    "nbgrader": {
     "checksum": "3b18543a05ccc1b20a290889b380169c",
     "grade": false,
     "grade_id": "cell-716cff3c26ff1bcb",
     "locked": true,
     "schema_version": 1,
     "solution": false
    }
   },
   "source": [
    "<h1><center>Was heißt hier Konvergenz (?) </center></h1>\n",
    "<center>\n",
    " <img src=\"image/image10.png\" width=\"500\" >\n",
    "</center>\n",
    "\n"
   ]
  },
  {
   "cell_type": "code",
   "execution_count": null,
   "metadata": {
    "deletable": false,
    "editable": false,
    "nbgrader": {
     "checksum": "b26a7256107abeefb5f35d41871cf5df",
     "grade": false,
     "grade_id": "cell-f85fc1d139c730f7",
     "locked": true,
     "schema_version": 1,
     "solution": false
    }
   },
   "outputs": [],
   "source": [
    "%matplotlib inline\n",
    "import matplotlib.pyplot as plt\n",
    "import numpy as np\n",
    "data = np.random.rand(1000)\n",
    "ax = plt.hist(data)\n",
    "data = np.random.rand(1000)\n",
    "A = np.random.rand(12,1000)\n",
    "#print(A)\n",
    "B = np.mean(A,0)\n",
    "#print(B)\n",
    "plt.hist(B,bins=20000)\n",
    "plt.show()"
   ]
  },
  {
   "cell_type": "markdown",
   "metadata": {
    "deletable": false,
    "editable": false,
    "nbgrader": {
     "checksum": "1704688d7cfc78a383bc43dbf480ac40",
     "grade": false,
     "grade_id": "cell-25c2119bbb0742d8",
     "locked": true,
     "schema_version": 1,
     "solution": false
    }
   },
   "source": [
    "<h1><center>The Reference Class problem </center></h1>\n",
    "Sortierkriterium zu schwach  <br>\n",
    "=> zu viele Proben in jeder Klasse  <br>\n",
    "=> zu wenig Selektivität <br>\n",
    "\n",
    "Sortierkriterium zu stark  <br>\n",
    "=> zu wenig Proben in jeder Klasse, eine viel zu hohe Anzahl von Klassen  <br>\n",
    "=> zu hohe Selektivität <br>\n",
    "\n",
    "Was ist die \"richtige\" Klassengröße, <br>\n",
    "um eine frequentistische Sicht der Wahrscheinlichkeit zu unterstützen? <br>\n",
    "\n",
    "Eine offene Frage ….<br>"
   ]
  },
  {
   "cell_type": "markdown",
   "metadata": {
    "deletable": false,
    "editable": false,
    "nbgrader": {
     "checksum": "fef0c1a46bae22c843a53709e52b0340",
     "grade": false,
     "grade_id": "cell-19ab64bfffdcd5db",
     "locked": true,
     "schema_version": 1,
     "solution": false
    }
   },
   "source": [
    "<h1><center>Objektivistische Interpretation: nicht deterministische Eigenschaft </center></h1>\n",
    "\n",
    "Für den Objektivisten sind Wahrscheinlichkeiten reale Aspekte der Welt\n",
    "\n",
    "Das Ergebnis einer Beobachtung oder eines Experiments ist nicht deterministisch, sondern beinhaltet physikalische Zufallsprozesse\n",
    "\n",
    "Beispiel: radioaktiver Zerfall"
   ]
  },
  {
   "cell_type": "markdown",
   "metadata": {
    "deletable": false,
    "editable": false,
    "nbgrader": {
     "checksum": "29ce32454993bd72b6914ba6357bfaea",
     "grade": false,
     "grade_id": "cell-c5f239d986e5ab7f",
     "locked": true,
     "schema_version": 1,
     "solution": false
    }
   },
   "source": [
    "<h1><center>Subjektivistische Interpretation: Glaubhaftigkeit </center></h1>\n",
    "\n",
    "Der Subjektivist verwendet Wahrscheinlichkeiten, um den Grad des Glaubens eines Agenten an etwas zu charakterisieren, anstatt einen physikalischen zufälligen Prozess zu charakterisieren <br>\n",
    "\n",
    "Dies ist die relevanteste Interpretation von Wahrscheinlichkeiten in der Künstlichen Intelligenz. <br>\n",
    "\n",
    "Wir definieren die Plausibilität eines Ereignisses als den Grad des Glaubens an das Ereignis oder die subjektive Wahrscheinlichkeit des Ereignisses <br>\n",
    "\n",
    "Es ist natürlich anzunehmen, dass Plausibilität / Glauben Bel (* | *) durch reelle Zahlen repräsentiert werden kann, dass die Regeln qualitativ dem gesunden Menschenverstand entsprechen und dass die Regeln mathematisch konsistent sind <br>"
   ]
  },
  {
   "cell_type": "markdown",
   "metadata": {
    "deletable": false,
    "editable": false,
    "nbgrader": {
     "checksum": "e942cfc49c61fdb88f2abf8aa82009ca",
     "grade": false,
     "grade_id": "cell-f5ae5b865053bfa0",
     "locked": true,
     "schema_version": 1,
     "solution": false
    }
   },
   "source": [
    "\n",
    "<h1><center>Subjektivistische Interpretation: Wie „misst“ man Glaubhaftigkeit? </center></h1>\n",
    "\n",
    "Habe Sie eine Idee? <br>\n",
    "\n",
    "Denken Sie an die Börse... <br>\n",
    "\n",
    "Die Plausibilität eines Ereignisses wird angenährt durch die Menge der Leute, die das Eintreten des Ereignis plausibel finden und die darauf wetten würden (plausibles Schließen). <br>\n",
    "\n",
    "Dieser „Mechanismus“ ersetzt das Experiment bei Kolmogoroff.  <br>\n",
    "\n",
    "Mit dieser Methode können wir den ORANGEN Fragen auf Folie 2 eine Wahrscheinlichkeit zuordnen obwohl es keine Wiederholbarkeit gib. <br>\n",
    "\n",
    "PROBLEM: <br>\n",
    "Gibt es jetzt MEHRERE Wahrscheinlichkeit ?!?"
   ]
  },
  {
   "cell_type": "markdown",
   "metadata": {
    "deletable": false,
    "editable": false,
    "nbgrader": {
     "checksum": "986a6e413f01413b297229d7ad5e3d87",
     "grade": false,
     "grade_id": "cell-bfd756acb72cc470",
     "locked": true,
     "schema_version": 1,
     "solution": false
    }
   },
   "source": [
    "<h1><center>Degrees of Belief </center></h1>\n",
    "\n",
    "(Richard T.) Cox's theorem (1946): <br>\n",
    "     \n",
    "Bel(x|A) is isomorphic to  a probability measure p(x|x) that  satisfies the axioms of (objective) probabilities.\n",
    "\n",
    "Die „Belief“ Funktion gehorcht den selben Gesetzen wie die Wahrscheinlichsfunktion "
   ]
  },
  {
   "cell_type": "markdown",
   "metadata": {
    "deletable": false,
    "editable": false,
    "nbgrader": {
     "checksum": "8e659e6023aeabf948f653bec7c9930d",
     "grade": false,
     "grade_id": "cell-89e3b71ce4e59d33",
     "locked": true,
     "schema_version": 1,
     "solution": false
    }
   },
   "source": [
    "\n",
    "<h1><center>Resümee der Sichten auf Wahrscheinlichkeit </center></h1>\n",
    "\n",
    "* Wahrscheinlichkeit als Gewinnwahrscheinlichkeit\n",
    "     * eine relative Häufigkeit: beobachtete Gewinne im Vergleich zu gesamten Studien.<br>  \n",
    "     <b>Frequentivistische Sicht </b>\n",
    "    \n",
    "* Wahrscheinlichkeit als Attribut von Objekten:\n",
    "    * eine faire Münze: Chancen 50/50 sind \"eingebaut\", d. h. \tphysische Eigenschaft der Objekte <br> <b>Objektivisten-Ansicht </b> \n",
    "\n",
    "* Wahrscheinlichkeit als Unsicherheit:\n",
    "\t* der Plausible Zustand des Agenten: 80% Chance auf \tHohlraum, wenn es bereits Zahnschmerzen gibt  <br> <b>subjektivistische Sichtweise</b>"
   ]
  },
  {
   "cell_type": "markdown",
   "metadata": {
    "deletable": false,
    "editable": false,
    "nbgrader": {
     "checksum": "8c3a8cf83108e77c9a399c9a81e765e7",
     "grade": false,
     "grade_id": "cell-9cf1b877068ce6b1",
     "locked": true,
     "schema_version": 1,
     "solution": false
    }
   },
   "source": [
    "<h1><center>Zusammenfassung </center></h1>\n",
    "Recap über Mengen\n",
    "* Kolomoroff‘s Axiome: \n",
    "    * Ereignisse sind wie Mengen\n",
    "* Ereignis Algebra: Teilmengen\n",
    "* Kartesisches Produkt / Bäume:\n",
    "    * Mehrstufige Experimente\n",
    "* Unterschiedliche Interpretationen der Wahrscheinlichkeit:\n",
    "    * Frequentivistisch, Objektiv, Subjektiv"
   ]
  },
  {
   "cell_type": "markdown",
   "metadata": {},
   "source": []
  },
  {
   "cell_type": "markdown",
   "metadata": {
    "deletable": false,
    "editable": false,
    "heading_collapsed": true,
    "nbgrader": {
     "checksum": "b9f093050c590b78170c1c16b44e1386",
     "grade": false,
     "grade_id": "cell-5b5d3f1515c790a1",
     "locked": true,
     "schema_version": 1,
     "solution": false
    }
   },
   "source": [
    "# Klassenübung\n",
    "\n",
    "<div class=\"alert alert-block alert-info\">\n",
    "</div>\n",
    "\n",
    "\n"
   ]
  },
  {
   "cell_type": "markdown",
   "metadata": {
    "heading_collapsed": true,
    "hidden": true
   },
   "source": [
    "## Introduction to Python\n",
    "\n",
    "Copyright [Steve Phelps](http://sphelps.net) 2014\n"
   ]
  },
  {
   "cell_type": "markdown",
   "metadata": {
    "heading_collapsed": true,
    "hidden": true
   },
   "source": [
    "## Python is interpreted\n",
    "\n",
    "- Python is an _interpreted_ language, in contrast to Java and C which are compiled languages.\n",
    "\n",
    "- This means we can type statements into the interpreter and they are executed immediately.\n"
   ]
  },
  {
   "cell_type": "code",
   "execution_count": null,
   "metadata": {
    "hidden": true
   },
   "outputs": [],
   "source": [
    "5 + 5"
   ]
  },
  {
   "cell_type": "code",
   "execution_count": null,
   "metadata": {
    "hidden": true
   },
   "outputs": [],
   "source": [
    "x = 5\n",
    "y = 'Hello There'\n",
    "z = 10.5"
   ]
  },
  {
   "cell_type": "code",
   "execution_count": null,
   "metadata": {
    "hidden": true
   },
   "outputs": [],
   "source": [
    "x + 5"
   ]
  },
  {
   "cell_type": "markdown",
   "metadata": {
    "hidden": true
   },
   "source": [
    "\n",
    "# Assignments versus equations\n",
    "\n",
    "- In Python when we write `x = 5` this means something different from an equation $x=5$.\n",
    "\n",
    "- Unlike variables in mathematical models, variables in Python can refer to different things as more statements are interpreted."
   ]
  },
  {
   "cell_type": "code",
   "execution_count": null,
   "metadata": {
    "hidden": true
   },
   "outputs": [],
   "source": [
    "x = 1\n",
    "print('The value of x is ', x)\n",
    "\n",
    "x = 2.5\n",
    "print('Now the value of x is ', x)\n",
    "\n",
    "x = 'hello there'\n",
    "print('Now it is ', x)"
   ]
  },
  {
   "cell_type": "markdown",
   "metadata": {
    "heading_collapsed": true,
    "hidden": true
   },
   "source": [
    "## Calling Functions\n",
    "\n",
    "We can call functions in a conventional way using round brackets"
   ]
  },
  {
   "cell_type": "code",
   "execution_count": null,
   "metadata": {
    "hidden": true
   },
   "outputs": [],
   "source": [
    "import math\n",
    "print(round(math.pi,2))"
   ]
  },
  {
   "cell_type": "markdown",
   "metadata": {
    "heading_collapsed": true,
    "hidden": true
   },
   "source": [
    "## Types\n",
    "\n",
    "- Values in Python have an associated _type_.\n",
    "\n",
    "- If we combine types incorrectly we get an error."
   ]
  },
  {
   "cell_type": "code",
   "execution_count": null,
   "metadata": {
    "hidden": true
   },
   "outputs": [],
   "source": [
    "print(y)"
   ]
  },
  {
   "cell_type": "code",
   "execution_count": null,
   "metadata": {
    "hidden": true
   },
   "outputs": [],
   "source": [
    "y + 5"
   ]
  },
  {
   "cell_type": "markdown",
   "metadata": {
    "heading_collapsed": true,
    "hidden": true
   },
   "source": [
    "## The type function\n",
    "\n",
    "- We can query the type of a value using the `type` function."
   ]
  },
  {
   "cell_type": "code",
   "execution_count": null,
   "metadata": {
    "hidden": true
   },
   "outputs": [],
   "source": [
    "type(1)"
   ]
  },
  {
   "cell_type": "code",
   "execution_count": null,
   "metadata": {
    "hidden": true
   },
   "outputs": [],
   "source": [
    "type('hello')"
   ]
  },
  {
   "cell_type": "code",
   "execution_count": null,
   "metadata": {
    "hidden": true
   },
   "outputs": [],
   "source": [
    "type(2.5)"
   ]
  },
  {
   "cell_type": "code",
   "execution_count": null,
   "metadata": {
    "hidden": true
   },
   "outputs": [],
   "source": [
    "type(True)"
   ]
  },
  {
   "cell_type": "markdown",
   "metadata": {
    "heading_collapsed": true,
    "hidden": true
   },
   "source": [
    "## Null values\n",
    "\n",
    "- Sometimes we represent \"no data\" or \"not applicable\".  \n",
    "\n",
    "- In Python we use the special value `None`.\n",
    "\n",
    "- This corresponds to `Null` in Java or SQL."
   ]
  },
  {
   "cell_type": "code",
   "execution_count": null,
   "metadata": {
    "hidden": true
   },
   "outputs": [],
   "source": [
    "result = None"
   ]
  },
  {
   "cell_type": "markdown",
   "metadata": {
    "hidden": true
   },
   "source": [
    "- When we fetch the value `None` in the interactive interpreter, no result is printed out.\n"
   ]
  },
  {
   "cell_type": "code",
   "execution_count": null,
   "metadata": {
    "hidden": true
   },
   "outputs": [],
   "source": [
    "result"
   ]
  },
  {
   "cell_type": "markdown",
   "metadata": {
    "hidden": true
   },
   "source": [
    "- We can check whether there is a result or not using the `is` operator:"
   ]
  },
  {
   "cell_type": "code",
   "execution_count": null,
   "metadata": {
    "hidden": true
   },
   "outputs": [],
   "source": [
    "result is None"
   ]
  },
  {
   "cell_type": "code",
   "execution_count": null,
   "metadata": {
    "hidden": true
   },
   "outputs": [],
   "source": [
    "x = 5\n",
    "x is None"
   ]
  },
  {
   "cell_type": "markdown",
   "metadata": {
    "heading_collapsed": true,
    "hidden": true
   },
   "source": [
    "## Converting values between types\n",
    "\n",
    "- We can convert values between different types.\n",
    "\n",
    "- To convert an integer to a floating-point number use the `float()` function.\n",
    "- To convert a floating-point to an integer use the `int()` function."
   ]
  },
  {
   "cell_type": "code",
   "execution_count": null,
   "metadata": {
    "hidden": true
   },
   "outputs": [],
   "source": [
    "x = 1\n",
    "print(type(x))\n",
    "print(x)\n"
   ]
  },
  {
   "cell_type": "code",
   "execution_count": null,
   "metadata": {
    "hidden": true
   },
   "outputs": [],
   "source": [
    "y = float(x)\n",
    "print(type(y))\n",
    "print(y)"
   ]
  },
  {
   "cell_type": "code",
   "execution_count": null,
   "metadata": {
    "hidden": true
   },
   "outputs": [],
   "source": [
    "print(int(y))"
   ]
  },
  {
   "cell_type": "markdown",
   "metadata": {
    "heading_collapsed": true,
    "hidden": true
   },
   "source": [
    "## Converting to and from ASCII values\n",
    "\n",
    "- The functions `chr()` and `ord()` can be used to convert characters from and to [ASCII](https://en.wikipedia.org/wiki/ASCII)."
   ]
  },
  {
   "cell_type": "code",
   "execution_count": null,
   "metadata": {
    "hidden": true
   },
   "outputs": [],
   "source": [
    "print(ord('a'))"
   ]
  },
  {
   "cell_type": "code",
   "execution_count": null,
   "metadata": {
    "hidden": true
   },
   "outputs": [],
   "source": [
    "print(chr(97))"
   ]
  },
  {
   "cell_type": "markdown",
   "metadata": {
    "heading_collapsed": true,
    "hidden": true
   },
   "source": [
    "## Variables are not typed"
   ]
  },
  {
   "cell_type": "code",
   "execution_count": null,
   "metadata": {
    "hidden": true
   },
   "outputs": [],
   "source": [
    "y = 'hello'\n",
    "print('The type of the value referred to by y is ', type(y))\n",
    "y = 5.0\n",
    "print('And now the type of the value is ', type(y))"
   ]
  },
  {
   "cell_type": "markdown",
   "metadata": {
    "heading_collapsed": true,
    "hidden": true
   },
   "source": [
    "## Polymorphism\n",
    "- The meaning of an operator depends on the types we are applying it to.\n"
   ]
  },
  {
   "cell_type": "code",
   "execution_count": null,
   "metadata": {
    "hidden": true
   },
   "outputs": [],
   "source": [
    "1//5"
   ]
  },
  {
   "cell_type": "code",
   "execution_count": null,
   "metadata": {
    "hidden": true
   },
   "outputs": [],
   "source": [
    "1.0 / 5.0"
   ]
  },
  {
   "cell_type": "code",
   "execution_count": null,
   "metadata": {
    "hidden": true
   },
   "outputs": [],
   "source": [
    "1 + 1"
   ]
  },
  {
   "cell_type": "code",
   "execution_count": null,
   "metadata": {
    "hidden": true
   },
   "outputs": [],
   "source": [
    "'a' + 'b'"
   ]
  },
  {
   "cell_type": "code",
   "execution_count": null,
   "metadata": {
    "hidden": true
   },
   "outputs": [],
   "source": [
    "'1' + '1'"
   ]
  },
  {
   "cell_type": "markdown",
   "metadata": {
    "heading_collapsed": true,
    "hidden": true
   },
   "source": [
    "## Conditional Statements and Indentation"
   ]
  },
  {
   "cell_type": "markdown",
   "metadata": {
    "hidden": true
   },
   "source": [
    "- The syntax for control structures in Python use _colons_ and _indentation_.\n",
    "\n",
    "- Beware that white-space affects the semantics of Python code."
   ]
  },
  {
   "cell_type": "code",
   "execution_count": null,
   "metadata": {
    "hidden": true
   },
   "outputs": [],
   "source": [
    "x = 5\n",
    "if x > 0:\n",
    "    print('x is strictly positive')\n",
    "    print(x)\n",
    "    \n",
    "print('finished.')"
   ]
  },
  {
   "cell_type": "code",
   "execution_count": null,
   "metadata": {
    "hidden": true
   },
   "outputs": [],
   "source": [
    "x = 0\n",
    "if x > 0:\n",
    "    print('x is strictly positive')\n",
    "print(x)\n",
    "    \n",
    "print('finished')"
   ]
  },
  {
   "cell_type": "markdown",
   "metadata": {
    "heading_collapsed": true,
    "hidden": true
   },
   "source": [
    "## Lists\n"
   ]
  },
  {
   "cell_type": "markdown",
   "metadata": {
    "hidden": true
   },
   "source": [
    "We can use _lists_ to hold an ordered sequence of values."
   ]
  },
  {
   "cell_type": "code",
   "execution_count": null,
   "metadata": {
    "hidden": true
   },
   "outputs": [],
   "source": [
    "l = ['first', 'second', 'third']\n",
    "print(l)"
   ]
  },
  {
   "cell_type": "code",
   "execution_count": null,
   "metadata": {
    "hidden": true
   },
   "outputs": [],
   "source": [
    "another_list = ['first', 'second', 'third', 1, 2, 3]\n",
    "print(another_list)"
   ]
  },
  {
   "cell_type": "markdown",
   "metadata": {
    "heading_collapsed": true,
    "hidden": true
   },
   "source": [
    "## Mutable Datastructures"
   ]
  },
  {
   "cell_type": "markdown",
   "metadata": {
    "hidden": true
   },
   "source": [
    "Lists are _mutable_; their contents can change as more statements are interpreted."
   ]
  },
  {
   "cell_type": "code",
   "execution_count": null,
   "metadata": {
    "hidden": true
   },
   "outputs": [],
   "source": [
    "l.append('fourth')\n",
    "print(l)"
   ]
  },
  {
   "cell_type": "markdown",
   "metadata": {
    "heading_collapsed": true,
    "hidden": true
   },
   "source": [
    "## References\n",
    "\n",
    "- Whenever we bind a variable to a value in Python we create a *reference*.\n",
    "\n",
    "- A reference is distinct from the value that it refers to.\n",
    "\n",
    "- Variables are names for references."
   ]
  },
  {
   "cell_type": "code",
   "execution_count": null,
   "metadata": {
    "hidden": true
   },
   "outputs": [],
   "source": [
    "X = [1, 2, 3]\n",
    "Y = X"
   ]
  },
  {
   "cell_type": "markdown",
   "metadata": {
    "hidden": true
   },
   "source": [
    "- The above code creates two different references (named `X` and `Y`) to the *same* value `[1, 2, 3]`\n",
    "\n",
    "- Because lists are mutable, changing them can have side-effects on other variables.\n",
    "\n",
    "- If we append something to `X` what will happen to `Y`?"
   ]
  },
  {
   "cell_type": "code",
   "execution_count": null,
   "metadata": {
    "hidden": true
   },
   "outputs": [],
   "source": [
    "X.append(4)\n",
    "X"
   ]
  },
  {
   "cell_type": "code",
   "execution_count": null,
   "metadata": {
    "hidden": true
   },
   "outputs": [],
   "source": [
    "Y"
   ]
  },
  {
   "cell_type": "markdown",
   "metadata": {
    "heading_collapsed": true,
    "hidden": true
   },
   "source": [
    "## State and identity\n",
    "\n",
    "- The state referred to by a variable is *different* from its identity.\n",
    "\n",
    "- To compare *state* use the `==` operator.\n",
    "\n",
    "- To compare *identity* use the `is` operator.\n",
    "\n",
    "- When we compare identity we check equality of references.\n",
    "\n",
    "- When we compare state we check equality of values.\n"
   ]
  },
  {
   "cell_type": "code",
   "execution_count": null,
   "metadata": {
    "hidden": true
   },
   "outputs": [],
   "source": [
    "X = [1, 2]\n",
    "Y = [1]\n",
    "Y.append(2)"
   ]
  },
  {
   "cell_type": "code",
   "execution_count": null,
   "metadata": {
    "hidden": true
   },
   "outputs": [],
   "source": [
    "X == Y"
   ]
  },
  {
   "cell_type": "code",
   "execution_count": null,
   "metadata": {
    "hidden": true
   },
   "outputs": [],
   "source": [
    "X is Y"
   ]
  },
  {
   "cell_type": "code",
   "execution_count": null,
   "metadata": {
    "hidden": true
   },
   "outputs": [],
   "source": [
    "Y.append(3)\n",
    "X\n"
   ]
  },
  {
   "cell_type": "code",
   "execution_count": null,
   "metadata": {
    "hidden": true
   },
   "outputs": [],
   "source": [
    "X = Y"
   ]
  },
  {
   "cell_type": "code",
   "execution_count": null,
   "metadata": {
    "hidden": true
   },
   "outputs": [],
   "source": [
    "X is Y"
   ]
  },
  {
   "cell_type": "markdown",
   "metadata": {
    "heading_collapsed": true,
    "hidden": true
   },
   "source": [
    "## Iteration\n",
    "\n",
    "- We can iterate over each element of a list in turn using a `for` loop:\n"
   ]
  },
  {
   "cell_type": "code",
   "execution_count": null,
   "metadata": {
    "hidden": true
   },
   "outputs": [],
   "source": [
    "for i in l:\n",
    "    print(i)"
   ]
  },
  {
   "cell_type": "markdown",
   "metadata": {
    "hidden": true
   },
   "source": [
    "- To perform a statement a certain number of times, we can iterate over a list of the required size."
   ]
  },
  {
   "cell_type": "code",
   "execution_count": null,
   "metadata": {
    "hidden": true
   },
   "outputs": [],
   "source": [
    "for i in [0, 1, 2, 3]:\n",
    "    print(\"Hello!\")"
   ]
  },
  {
   "cell_type": "markdown",
   "metadata": {
    "heading_collapsed": true,
    "hidden": true
   },
   "source": [
    "## For loops with the range function\n",
    "\n",
    "- To save from having to manually write the numbers out, we can use the function `range()` to count for us.  As in Java and C, we count starting at 0."
   ]
  },
  {
   "cell_type": "code",
   "execution_count": null,
   "metadata": {
    "hidden": true
   },
   "outputs": [],
   "source": [
    "range(4)"
   ]
  },
  {
   "cell_type": "code",
   "execution_count": null,
   "metadata": {
    "hidden": true
   },
   "outputs": [],
   "source": [
    "for i in range(4):\n",
    "    print(\"Hello!\")"
   ]
  },
  {
   "cell_type": "markdown",
   "metadata": {
    "heading_collapsed": true,
    "hidden": true
   },
   "source": [
    "## List Indexing\n",
    "\n",
    "- Lists can be indexed using square brackets to retrieve the element stored in a particular position.\n",
    "\n"
   ]
  },
  {
   "cell_type": "code",
   "execution_count": null,
   "metadata": {
    "hidden": true
   },
   "outputs": [],
   "source": [
    "print(l[0])"
   ]
  },
  {
   "cell_type": "code",
   "execution_count": null,
   "metadata": {
    "hidden": true
   },
   "outputs": [],
   "source": [
    "print(l[0])"
   ]
  },
  {
   "cell_type": "markdown",
   "metadata": {
    "heading_collapsed": true,
    "hidden": true
   },
   "source": [
    "## List Slicing\n",
    "\n",
    "- We can also a specify a _range_ of positions.  \n",
    "\n",
    "- This is called _slicing_.\n",
    "\n",
    "- The example below indexes from position 0 (inclusive) to 2 (exclusive).\n"
   ]
  },
  {
   "cell_type": "code",
   "execution_count": null,
   "metadata": {
    "hidden": true
   },
   "outputs": [],
   "source": [
    "print(l[0:2])"
   ]
  },
  {
   "cell_type": "code",
   "execution_count": null,
   "metadata": {
    "hidden": true
   },
   "outputs": [],
   "source": [
    "print(l[:2])"
   ]
  },
  {
   "cell_type": "markdown",
   "metadata": {
    "hidden": true
   },
   "source": [
    "- If we leave out the final index it implies the end of the list:"
   ]
  },
  {
   "cell_type": "code",
   "execution_count": null,
   "metadata": {
    "hidden": true
   },
   "outputs": [],
   "source": [
    "print (l[2:])"
   ]
  },
  {
   "cell_type": "markdown",
   "metadata": {
    "heading_collapsed": true,
    "hidden": true
   },
   "source": [
    "## Negative Indexing\n",
    "\n",
    "- Negative indices count from the end of the list:\n"
   ]
  },
  {
   "cell_type": "code",
   "execution_count": null,
   "metadata": {
    "hidden": true
   },
   "outputs": [],
   "source": [
    "print(l[-1])"
   ]
  },
  {
   "cell_type": "code",
   "execution_count": null,
   "metadata": {
    "hidden": true
   },
   "outputs": [],
   "source": [
    "print(l[:-1])"
   ]
  },
  {
   "cell_type": "markdown",
   "metadata": {
    "heading_collapsed": true,
    "hidden": true
   },
   "source": [
    "## Collections\n",
    "\n",
    "- Lists are an example of a *collection*.\n",
    "\n",
    "- A collection is a type of value that can contain other values.\n",
    "\n",
    "- There are other collection types in Python:\n",
    "\n",
    "    - `tuple`\n",
    "    - `set`\n",
    "    - `dict`"
   ]
  },
  {
   "cell_type": "markdown",
   "metadata": {
    "heading_collapsed": true,
    "hidden": true
   },
   "source": [
    "## Tuples\n",
    "\n",
    "- Tuples are another way to combine different values.\n",
    "\n",
    "- The combined values can be of different types.\n",
    "\n",
    "- Like lists, they have a well-defined ordering and can be indexed.\n",
    "\n",
    "- To create a tuple in Python, use round brackets instead of square brackets"
   ]
  },
  {
   "cell_type": "code",
   "execution_count": null,
   "metadata": {
    "hidden": true
   },
   "outputs": [],
   "source": [
    "tuple1 = (50, 'hello')\n",
    "tuple1"
   ]
  },
  {
   "cell_type": "code",
   "execution_count": null,
   "metadata": {
    "hidden": true
   },
   "outputs": [],
   "source": [
    "tuple1[0]"
   ]
  },
  {
   "cell_type": "code",
   "execution_count": null,
   "metadata": {
    "hidden": true
   },
   "outputs": [],
   "source": [
    "type(tuple1)"
   ]
  },
  {
   "cell_type": "markdown",
   "metadata": {
    "heading_collapsed": true,
    "hidden": true
   },
   "source": [
    "## Tuples are immutable\n",
    "\n",
    "- Unlike lists, tuples are *immutable*.  Once we have created a tuple we cannot add values to it.\n"
   ]
  },
  {
   "cell_type": "code",
   "execution_count": null,
   "metadata": {
    "hidden": true
   },
   "outputs": [],
   "source": [
    "tuple1.append(2)"
   ]
  },
  {
   "cell_type": "markdown",
   "metadata": {
    "heading_collapsed": true,
    "hidden": true
   },
   "source": [
    "## Sets\n",
    "\n",
    "- Lists can contain duplicate values.\n",
    "\n",
    "- A set, in contrast, contains no duplicates.\n",
    "\n",
    "- Sets can be created from lists using the `set()` function."
   ]
  },
  {
   "cell_type": "code",
   "execution_count": null,
   "metadata": {
    "hidden": true
   },
   "outputs": [],
   "source": [
    "X = set([1, 2, 3, 3, 4])\n",
    "X"
   ]
  },
  {
   "cell_type": "code",
   "execution_count": null,
   "metadata": {
    "hidden": true
   },
   "outputs": [],
   "source": [
    "type(X)"
   ]
  },
  {
   "cell_type": "markdown",
   "metadata": {
    "hidden": true
   },
   "source": [
    "- Alternatively we can write a set literal using the `{` and `}` brackets."
   ]
  },
  {
   "cell_type": "code",
   "execution_count": null,
   "metadata": {
    "hidden": true
   },
   "outputs": [],
   "source": [
    "\n",
    "X = {1, 2, 3, 4}\n",
    "type(X)"
   ]
  },
  {
   "cell_type": "markdown",
   "metadata": {
    "heading_collapsed": true,
    "hidden": true
   },
   "source": [
    "## Sets are mutable\n",
    "\n",
    "- Sets are mutable like lists:"
   ]
  },
  {
   "cell_type": "code",
   "execution_count": null,
   "metadata": {
    "hidden": true
   },
   "outputs": [],
   "source": [
    "X.add(5)\n",
    "X"
   ]
  },
  {
   "cell_type": "code",
   "execution_count": null,
   "metadata": {
    "hidden": true
   },
   "outputs": [],
   "source": [
    "X.add(5)\n",
    "X\n"
   ]
  },
  {
   "cell_type": "markdown",
   "metadata": {
    "heading_collapsed": true,
    "hidden": true
   },
   "source": [
    "## Sets are unordered\n",
    "\n",
    "- Sets do not have an ordering.\n",
    "\n",
    "- Therefore we cannot index or slice them:"
   ]
  },
  {
   "cell_type": "code",
   "execution_count": null,
   "metadata": {
    "hidden": true
   },
   "outputs": [],
   "source": [
    "X[0]"
   ]
  },
  {
   "cell_type": "markdown",
   "metadata": {
    "heading_collapsed": true,
    "hidden": true
   },
   "source": [
    "## Operations on sets\n",
    "\n",
    "- Union: $X \\cup Y$\n"
   ]
  },
  {
   "cell_type": "code",
   "execution_count": null,
   "metadata": {
    "hidden": true
   },
   "outputs": [],
   "source": [
    "X = {1, 2, 3}\n",
    "Y = {4, 5, 6}\n",
    "X.union(Y)"
   ]
  },
  {
   "cell_type": "code",
   "execution_count": null,
   "metadata": {
    "hidden": true
   },
   "outputs": [],
   "source": [
    "X = {1, 2, 3, 4}\n",
    "Y = {3, 4, 5}\n",
    "X.intersection(Y)"
   ]
  },
  {
   "cell_type": "markdown",
   "metadata": {
    "hidden": true
   },
   "source": [
    "- Difference $X - Y$:\n"
   ]
  },
  {
   "cell_type": "code",
   "execution_count": null,
   "metadata": {
    "hidden": true
   },
   "outputs": [],
   "source": [
    "X - Y"
   ]
  },
  {
   "cell_type": "markdown",
   "metadata": {
    "heading_collapsed": true,
    "hidden": true
   },
   "source": [
    "## Arrays\n",
    "\n",
    "- Python also has fixed-length arrays which contain a single type of value\n",
    "\n",
    "- i.e. we cannot have different types of value within the same array.   \n",
    "\n",
    "- Arrays are provided by a separate _module_ called numpy.  Modules correspond to packages in e.g. Java.\n",
    "\n",
    "- We can import the module and then give it a shorter _alias_.\n"
   ]
  },
  {
   "cell_type": "code",
   "execution_count": null,
   "metadata": {
    "hidden": true
   },
   "outputs": [],
   "source": [
    "import numpy as np"
   ]
  },
  {
   "cell_type": "markdown",
   "metadata": {
    "hidden": true
   },
   "source": [
    "- We can now use the functions defined in this package by prefixing them with `np`.  \n",
    "\n",
    "- The function `array()` creates an array given a list."
   ]
  },
  {
   "cell_type": "code",
   "execution_count": null,
   "metadata": {
    "hidden": true
   },
   "outputs": [],
   "source": [
    "x = np.array([0, 1, 2, 3, 4])\n",
    "print(x)\n",
    "print(type(x))"
   ]
  },
  {
   "cell_type": "markdown",
   "metadata": {
    "heading_collapsed": true,
    "hidden": true
   },
   "source": [
    "## Functions over arrays\n",
    "\n",
    "- When we use arithmetic operators on arrays, we create a new array with the result of applying the operator to each element."
   ]
  },
  {
   "cell_type": "code",
   "execution_count": null,
   "metadata": {
    "hidden": true
   },
   "outputs": [],
   "source": [
    "y = x * 2\n",
    "print(y)"
   ]
  },
  {
   "cell_type": "markdown",
   "metadata": {
    "hidden": true
   },
   "source": [
    "- The same goes for functions:"
   ]
  },
  {
   "cell_type": "code",
   "execution_count": null,
   "metadata": {
    "hidden": true
   },
   "outputs": [],
   "source": [
    "x = np.array([-1, 2, 3, -4])\n",
    "y = abs(x)\n",
    "print(y)"
   ]
  },
  {
   "cell_type": "markdown",
   "metadata": {
    "heading_collapsed": true,
    "hidden": true
   },
   "source": [
    "## Populating Arrays\n",
    "\n",
    "- To populate an array with a range of values we use the `np.arange()` function:\n"
   ]
  },
  {
   "cell_type": "code",
   "execution_count": null,
   "metadata": {
    "hidden": true
   },
   "outputs": [],
   "source": [
    "x = np.arange(0, 10)\n",
    "print(x)"
   ]
  },
  {
   "cell_type": "markdown",
   "metadata": {
    "hidden": true
   },
   "source": [
    "- We can also use floating point increments."
   ]
  },
  {
   "cell_type": "code",
   "execution_count": null,
   "metadata": {
    "hidden": true
   },
   "outputs": [],
   "source": [
    "x = np.arange(0, 1, 0.1)\n",
    "print(x)"
   ]
  },
  {
   "cell_type": "markdown",
   "metadata": {
    "heading_collapsed": true,
    "hidden": true
   },
   "source": [
    "## Basic Plotting\n",
    "\n",
    "- We will use a module called `matplotlib` to plot some simple graphs.\n",
    "\n",
    "- This module provides func"
   ]
  },
  {
   "cell_type": "code",
   "execution_count": null,
   "metadata": {
    "hidden": true
   },
   "outputs": [],
   "source": [
    "import matplotlib.pyplot as plt\n",
    "%matplotlib inline\n",
    "\n",
    "y = x*2 + 5\n",
    "plt.plot(x, y)\n"
   ]
  },
  {
   "cell_type": "markdown",
   "metadata": {
    "heading_collapsed": true,
    "hidden": true
   },
   "source": [
    "## Plotting a sine curve"
   ]
  },
  {
   "cell_type": "code",
   "execution_count": null,
   "metadata": {
    "hidden": true
   },
   "outputs": [],
   "source": [
    "from numpy import pi, sin\n",
    "\n",
    "x = np.arange(0, 2*pi, 0.01)\n",
    "y = sin(x)\n",
    "plt.plot(x, y)"
   ]
  },
  {
   "cell_type": "markdown",
   "metadata": {
    "heading_collapsed": true,
    "hidden": true
   },
   "source": [
    "## Plotting a histogram\n",
    "\n",
    "- We can use the `hist()` function in `matplotlib` to plot a histogram"
   ]
  },
  {
   "cell_type": "code",
   "execution_count": null,
   "metadata": {
    "hidden": true
   },
   "outputs": [],
   "source": [
    "# Generate some random data\n",
    "data = np.random.randn(1000)\n",
    "\n",
    "ax = plt.hist(data)"
   ]
  },
  {
   "cell_type": "markdown",
   "metadata": {
    "heading_collapsed": true,
    "hidden": true
   },
   "source": [
    "## Computing histograms as matrices\n",
    "\n",
    "- The function `histogram()` in the `numpy` module will count frequencies into bins and return the result as a 2-dimensional array."
   ]
  },
  {
   "cell_type": "code",
   "execution_count": null,
   "metadata": {
    "hidden": true
   },
   "outputs": [],
   "source": [
    "np.histogram(data)"
   ]
  },
  {
   "cell_type": "markdown",
   "metadata": {
    "heading_collapsed": true,
    "hidden": true
   },
   "source": [
    "## Defining new functions\n",
    "\n"
   ]
  },
  {
   "cell_type": "code",
   "execution_count": null,
   "metadata": {
    "hidden": true
   },
   "outputs": [],
   "source": [
    "def squared(x):\n",
    "    return x ** 2\n",
    "\n",
    "print(squared(5))"
   ]
  },
  {
   "cell_type": "markdown",
   "metadata": {
    "heading_collapsed": true,
    "hidden": true
   },
   "source": [
    "## Local Variables\n",
    "\n",
    "- Variables created inside functions are _local_ to that function.\n",
    "\n",
    "- They are not accessable to code outside of that function."
   ]
  },
  {
   "cell_type": "code",
   "execution_count": null,
   "metadata": {
    "hidden": true
   },
   "outputs": [],
   "source": [
    "def squared(x):\n",
    "    result = x ** 2\n",
    "    return result\n",
    "\n",
    "print(squared(5))"
   ]
  },
  {
   "cell_type": "code",
   "execution_count": null,
   "metadata": {
    "hidden": true
   },
   "outputs": [],
   "source": [
    "print(result)"
   ]
  },
  {
   "cell_type": "markdown",
   "metadata": {
    "heading_collapsed": true,
    "hidden": true
   },
   "source": [
    "## Functional Programming\n",
    "\n",
    "- Functions are first-class citizens in Python.\n",
    "\n",
    "- They can be passed around just like any other value.\n",
    "\n"
   ]
  },
  {
   "cell_type": "code",
   "execution_count": null,
   "metadata": {
    "hidden": true
   },
   "outputs": [],
   "source": [
    "print(squared)"
   ]
  },
  {
   "cell_type": "code",
   "execution_count": null,
   "metadata": {
    "hidden": true
   },
   "outputs": [],
   "source": [
    "y = squared\n",
    "print(y)"
   ]
  },
  {
   "cell_type": "code",
   "execution_count": null,
   "metadata": {
    "hidden": true
   },
   "outputs": [],
   "source": [
    "print(y(5))"
   ]
  },
  {
   "cell_type": "markdown",
   "metadata": {
    "heading_collapsed": true,
    "hidden": true
   },
   "source": [
    "## Mapping the elements of a collection\n",
    "\n",
    "- We can apply a function to each element of a collection using the built-in function `map()`.\n",
    "\n",
    "- This will work with any collection: list, set, tuple or string.\n",
    "\n",
    "- This will take as an argument _another function_, and the list we want to apply it to.\n",
    "\n",
    "- It will return the results of applying the function, as a list."
   ]
  },
  {
   "cell_type": "code",
   "execution_count": null,
   "metadata": {
    "hidden": true
   },
   "outputs": [],
   "source": [
    "map(squared, [1, 2, 3, 4])"
   ]
  },
  {
   "cell_type": "markdown",
   "metadata": {
    "hidden": true
   },
   "source": [
    "- this was changed in phyton 3 ```map``` only returns iterator to some pointers to objects\n",
    "\n",
    "- thus we need to put a \"*\" and construct a list from it, which is then printed"
   ]
  },
  {
   "cell_type": "code",
   "execution_count": null,
   "metadata": {
    "hidden": true
   },
   "outputs": [],
   "source": [
    "[*map(squared, [1, 2, 3, 4])]"
   ]
  },
  {
   "cell_type": "markdown",
   "metadata": {
    "heading_collapsed": true,
    "hidden": true
   },
   "source": [
    "## List Comprehensions"
   ]
  },
  {
   "cell_type": "markdown",
   "metadata": {
    "hidden": true
   },
   "source": [
    "- Because this is such a common operation, Python has a special syntax to do the same thing, called a _list comprehension_.\n"
   ]
  },
  {
   "cell_type": "code",
   "execution_count": null,
   "metadata": {
    "hidden": true
   },
   "outputs": [],
   "source": [
    "[squared(i) for i in [1, 2, 3, 4]]"
   ]
  },
  {
   "cell_type": "markdown",
   "metadata": {
    "heading_collapsed": true,
    "hidden": true
   },
   "source": [
    "## Cartesian product using list comprehensions\n",
    "\n"
   ]
  },
  {
   "cell_type": "markdown",
   "metadata": {
    "hidden": true
   },
   "source": [
    "<img src=\"files/220px-Cartesian_Product_qtl1.svg.png\">\n",
    "\n",
    "The [Cartesian product](https://en.wikipedia.org/wiki/Cartesian_product) of two collections $X = A \\times B$ can be expressed by using multiple `for` statements in a comprehension.\n"
   ]
  },
  {
   "cell_type": "code",
   "execution_count": null,
   "metadata": {
    "hidden": true
   },
   "outputs": [],
   "source": [
    "A = {'x', 'y', 'z'}\n",
    "B = {1, 2, 3}\n",
    "{(a,b) for a in A for b in B}"
   ]
  },
  {
   "cell_type": "markdown",
   "metadata": {
    "heading_collapsed": true,
    "hidden": true
   },
   "source": [
    "## Filtering using a list comprehension\n",
    "\n",
    "- Again, because this is such a common operation, we can use simpler syntax to say the same thing.\n",
    "\n",
    "- We can express a filter using a list-comprehension by using the keyword `if`:"
   ]
  },
  {
   "cell_type": "code",
   "execution_count": null,
   "metadata": {
    "hidden": true
   },
   "outputs": [],
   "source": [
    "data = [-5, 2, 3, -10, 0, 1]\n",
    "[x for x in data if x > 0]"
   ]
  },
  {
   "cell_type": "markdown",
   "metadata": {
    "hidden": true
   },
   "source": [
    "- We can also filter and then map in the same expression:"
   ]
  },
  {
   "cell_type": "code",
   "execution_count": null,
   "metadata": {
    "hidden": true
   },
   "outputs": [],
   "source": [
    "from numpy import sqrt\n",
    "[sqrt(x) for x in data if x > 0]"
   ]
  },
  {
   "cell_type": "markdown",
   "metadata": {
    "heading_collapsed": true,
    "hidden": true
   },
   "source": [
    "## The reduce function\n",
    "\n",
    "- The `reduce()` function recursively applies another function to pairs of values over the entire list, resulting in a _single_ return value."
   ]
  },
  {
   "cell_type": "code",
   "execution_count": null,
   "metadata": {
    "hidden": true
   },
   "outputs": [],
   "source": [
    "from functools import reduce"
   ]
  },
  {
   "cell_type": "code",
   "execution_count": null,
   "metadata": {
    "hidden": true
   },
   "outputs": [],
   "source": [
    "reduce(lambda x, y: x + y, [0, 1, 2, 3, 4, 5])"
   ]
  },
  {
   "cell_type": "markdown",
   "metadata": {
    "heading_collapsed": true,
    "hidden": true
   },
   "source": [
    "## Reading Text Files\n",
    "\n",
    "- To read an entire text file as a list of lines use the `readlines()` method of a file object.\n"
   ]
  },
  {
   "cell_type": "code",
   "execution_count": null,
   "metadata": {
    "hidden": true
   },
   "outputs": [],
   "source": [
    "f = open('/etc/group')\n",
    "result = f.readlines()\n",
    "f.close()\n"
   ]
  },
  {
   "cell_type": "code",
   "execution_count": null,
   "metadata": {
    "hidden": true
   },
   "outputs": [],
   "source": [
    "# Print the first line\n",
    "print(result[4])"
   ]
  },
  {
   "cell_type": "markdown",
   "metadata": {
    "hidden": true
   },
   "source": [
    "To concatenate into a single string:\n"
   ]
  },
  {
   "cell_type": "code",
   "execution_count": null,
   "metadata": {
    "hidden": true
   },
   "outputs": [],
   "source": [
    "single_string = ''.join(result)"
   ]
  },
  {
   "cell_type": "code",
   "execution_count": null,
   "metadata": {
    "hidden": true
   },
   "outputs": [],
   "source": [
    "print(single_string)"
   ]
  },
  {
   "cell_type": "markdown",
   "metadata": {
    "heading_collapsed": true
   },
   "source": [
    "# Prof Ploeger and TA please fix this"
   ]
  },
  {
   "cell_type": "markdown",
   "metadata": {
    "deletable": false,
    "editable": false,
    "nbgrader": {
     "checksum": "18952d35b7928bef13ba5f4da41fa86b",
     "grade": false,
     "grade_id": "cell-204924bb93a42958",
     "locked": true,
     "schema_version": 1,
     "solution": false
    }
   },
   "source": [
    "# Aufgabe\n",
    "\n",
    "<div class=\"alert alert-block alert-info\">\n",
    "</div>\n",
    "\n",
    "\n"
   ]
  },
  {
   "cell_type": "markdown",
   "metadata": {},
   "source": [
    "<div class=\"alert alert-block alert-danger\">\n",
    "\n",
    "### Student Nutzername 1: ---------\n",
    "\n",
    "### Student Nutzername 2: ---------\n",
    "\n",
    "</div>\n"
   ]
  },
  {
   "cell_type": "markdown",
   "metadata": {
    "deletable": false,
    "editable": false,
    "nbgrader": {
     "checksum": "42be268d65617f5c048ed8dc5df5ce8c",
     "grade": false,
     "grade_id": "cell-27192b19a3512345",
     "locked": true,
     "schema_version": 1,
     "solution": false
    }
   },
   "source": [
    "<div class=\"alert alert-block alert-warning\">\n",
    "<b>Example:</b> Indem Sie hier Ihren Namen schreiben, stimmen Sie zu, dass die folgende Aufgabe von mir / uns erledigt wurde.\n",
    "</div>"
   ]
  },
  {
   "cell_type": "markdown",
   "metadata": {
    "deletable": false,
    "editable": false,
    "nbgrader": {
     "checksum": "3298f8f9ae4f4a4ef09f7ed64c5126e1",
     "grade": false,
     "grade_id": "cell-2249550ddb3bba3b",
     "locked": true,
     "schema_version": 1,
     "solution": false
    }
   },
   "source": [
    "## Question 1 : (10\tpts)\n",
    "<b> Assume </b>\t:\tyou are\tthe\tTEACHER\tof\tthis lecture and you want to check,\thow\tgood the students understood the last lecture. Formulate 5 questions and 5 expected\tanswers\tby which you check how well the\tstudents did understand\tthe\t lecture.\t\t<br>\n",
    "In each cell below type one question and answer"
   ]
  },
  {
   "cell_type": "markdown",
   "metadata": {
    "deletable": false,
    "editable": false,
    "nbgrader": {
     "checksum": "1151c006588f89d79510f976be85c3ae",
     "grade": false,
     "grade_id": "cell-ea25786bfa089cf8",
     "locked": true,
     "schema_version": 1,
     "solution": false
    }
   },
   "source": [
    "### Question and Answer 1"
   ]
  },
  {
   "cell_type": "markdown",
   "metadata": {
    "deletable": false,
    "nbgrader": {
     "checksum": "d8af9c2aa805f64291eddd4b164bf684",
     "grade": true,
     "grade_id": "cell-9149c479d159bb6b",
     "locked": false,
     "points": 2,
     "schema_version": 1,
     "solution": true
    }
   },
   "source": [
    "YOUR ANSWER HERE"
   ]
  },
  {
   "cell_type": "markdown",
   "metadata": {
    "deletable": false,
    "editable": false,
    "nbgrader": {
     "checksum": "2192468b98f346430ff43159c11489ca",
     "grade": false,
     "grade_id": "cell-ff8e9e72435e9390",
     "locked": true,
     "schema_version": 1,
     "solution": false
    }
   },
   "source": [
    "### Question and Answer 2"
   ]
  },
  {
   "cell_type": "markdown",
   "metadata": {
    "deletable": false,
    "nbgrader": {
     "checksum": "87e683278e97a078c88d999ba482aff3",
     "grade": true,
     "grade_id": "cell-45b81cf514710b89",
     "locked": false,
     "points": 2,
     "schema_version": 1,
     "solution": true
    }
   },
   "source": [
    "YOUR ANSWER HERE"
   ]
  },
  {
   "cell_type": "markdown",
   "metadata": {
    "deletable": false,
    "editable": false,
    "nbgrader": {
     "checksum": "ebbfd686bc35692620bb0694e5d1b8e2",
     "grade": false,
     "grade_id": "cell-113842ee9eb3eeb7",
     "locked": true,
     "schema_version": 1,
     "solution": false
    }
   },
   "source": [
    "### Question and Answer 3"
   ]
  },
  {
   "cell_type": "markdown",
   "metadata": {
    "deletable": false,
    "nbgrader": {
     "checksum": "867d45adb8fb27d780ff6f5ab89b5e5d",
     "grade": true,
     "grade_id": "cell-28f499ed4e0d0e7a",
     "locked": false,
     "points": 2,
     "schema_version": 1,
     "solution": true
    }
   },
   "source": [
    "YOUR ANSWER HERE"
   ]
  },
  {
   "cell_type": "markdown",
   "metadata": {
    "deletable": false,
    "editable": false,
    "nbgrader": {
     "checksum": "4d9b5218e19fff630b00e804d97748b3",
     "grade": false,
     "grade_id": "cell-dd036df6909299d7",
     "locked": true,
     "schema_version": 1,
     "solution": false
    }
   },
   "source": [
    "### Question and Answer 4"
   ]
  },
  {
   "cell_type": "markdown",
   "metadata": {
    "deletable": false,
    "nbgrader": {
     "checksum": "a26d7a902dda17457fb30ba079ebb2e3",
     "grade": true,
     "grade_id": "cell-dc0c5eb1f986c75b",
     "locked": false,
     "points": 2,
     "schema_version": 1,
     "solution": true
    }
   },
   "source": [
    "YOUR ANSWER HERE"
   ]
  },
  {
   "cell_type": "markdown",
   "metadata": {
    "deletable": false,
    "editable": false,
    "nbgrader": {
     "checksum": "4b892945ac01b0191654902bcd8525dd",
     "grade": false,
     "grade_id": "cell-f8a22d27305fd6cb",
     "locked": true,
     "schema_version": 1,
     "solution": false
    }
   },
   "source": [
    "### Question and Answer 5"
   ]
  },
  {
   "cell_type": "markdown",
   "metadata": {
    "deletable": false,
    "nbgrader": {
     "checksum": "9e71f0084254cc4332cd24b0776a8a1e",
     "grade": true,
     "grade_id": "cell-9bf3521b9a5435ef",
     "locked": false,
     "points": 2,
     "schema_version": 1,
     "solution": true
    }
   },
   "source": [
    "YOUR ANSWER HERE"
   ]
  },
  {
   "cell_type": "markdown",
   "metadata": {
    "deletable": false,
    "editable": false,
    "nbgrader": {
     "checksum": "603064ae5639814825aa192976fe6c48",
     "grade": false,
     "grade_id": "cell-c1c2dd4b9d5d31f6",
     "locked": true,
     "schema_version": 1,
     "solution": false
    }
   },
   "source": [
    "## Question 2 : (10 pts)\n",
    "Out of the students in a class, 60% are geniuses, 70% love chocolate, and 40% fall into both categories. Determine the probability that a randomly selected student is neither a genius nor a chocolate lover "
   ]
  },
  {
   "cell_type": "markdown",
   "metadata": {
    "deletable": false,
    "nbgrader": {
     "checksum": "af3b824c74f0060390519d2e89902e48",
     "grade": true,
     "grade_id": "cell-0665a49a5aa9268c",
     "locked": false,
     "points": 10,
     "schema_version": 1,
     "solution": true
    }
   },
   "source": [
    "YOUR ANSWER HERE"
   ]
  },
  {
   "cell_type": "markdown",
   "metadata": {
    "deletable": false,
    "editable": false,
    "nbgrader": {
     "checksum": "fb07fa37924cf9302f5d5040e560573e",
     "grade": false,
     "grade_id": "cell-e5250011cc1debfd",
     "locked": true,
     "schema_version": 1,
     "solution": false
    }
   },
   "source": [
    "let <br>\n",
    "xRB be the tuple with the name and probability of RottenBeans <br> \n",
    "xF be the tuple with the name and probability of fruits <br>\n",
    "Which have been declared below"
   ]
  },
  {
   "cell_type": "code",
   "execution_count": null,
   "metadata": {
    "deletable": false,
    "editable": false,
    "nbgrader": {
     "checksum": "5057d44c4102c62adf8e611b2404313d",
     "grade": false,
     "grade_id": "cell-e9fa9f84f308d249",
     "locked": true,
     "schema_version": 1,
     "solution": false
    }
   },
   "outputs": [],
   "source": [
    "xRB = ('RottenBean',0.001); #MY NEW data type prob.boolean vars: tuple(value, probability)\n",
    "xF = ('FruitsOK',0.9)\n",
    "\n",
    "print(xRB)\n",
    "print(xF)"
   ]
  },
  {
   "cell_type": "markdown",
   "metadata": {
    "deletable": false,
    "editable": false,
    "nbgrader": {
     "checksum": "9612b6a05d186bdc649c30ddbe3ceb98",
     "grade": false,
     "grade_id": "cell-54fcc5d9da1a7b1e",
     "locked": true,
     "schema_version": 1,
     "solution": false
    }
   },
   "source": [
    "CHANGE the implementation of the Boolean variables: Use the class Fraction instead of float numbers to represent probabilities (hint: „from fractions import Fraction“) <br>\n",
    "Please use the same variable name for creation fraction probabilities(xRB and xF)"
   ]
  },
  {
   "cell_type": "markdown",
   "metadata": {
    "deletable": false,
    "editable": false,
    "nbgrader": {
     "checksum": "d507417b60f3a8a7d7075f0b846f15ea",
     "grade": false,
     "grade_id": "cell-29952b2c796fe1ec",
     "locked": true,
     "schema_version": 1,
     "solution": false
    }
   },
   "source": [
    "Solution: \n",
    "\n",
    "Follow the hint: include some DT which can do fractions. You do this via importing the module in the current name space."
   ]
  },
  {
   "cell_type": "code",
   "execution_count": null,
   "metadata": {
    "deletable": false,
    "editable": false,
    "nbgrader": {
     "checksum": "134b2fe90d70367774d5a47c56f6a04c",
     "grade": false,
     "grade_id": "cell-190c9be3a8c506e6",
     "locked": true,
     "schema_version": 1,
     "solution": false
    }
   },
   "outputs": [],
   "source": [
    "from fractions import Fraction"
   ]
  },
  {
   "cell_type": "markdown",
   "metadata": {
    "deletable": false,
    "editable": false,
    "nbgrader": {
     "checksum": "16402e00ccfd5d6f6b30dabedf9ae28d",
     "grade": false,
     "grade_id": "cell-444d0603f8a4f7c4",
     "locked": true,
     "schema_version": 1,
     "solution": false
    }
   },
   "source": [
    "\n",
    "\n",
    "Check what this class can do for you:\n",
    "\n",
    "HINT:: scroll almost to the end FIRST to check the EXAMPLES!"
   ]
  },
  {
   "cell_type": "code",
   "execution_count": null,
   "metadata": {
    "deletable": false,
    "editable": false,
    "nbgrader": {
     "checksum": "570857fefdce3b1b78dad034359d6892",
     "grade": false,
     "grade_id": "cell-8dcfb745cde8014b",
     "locked": true,
     "schema_version": 1,
     "solution": false
    }
   },
   "outputs": [],
   "source": [
    "help(Fraction)"
   ]
  },
  {
   "cell_type": "code",
   "execution_count": null,
   "metadata": {
    "deletable": false,
    "editable": false,
    "nbgrader": {
     "checksum": "7e26174c34acbdafc7a766efefb3c4e4",
     "grade": false,
     "grade_id": "cell-34ad83c1d1beddc1",
     "locked": true,
     "schema_version": 1,
     "solution": false
    }
   },
   "outputs": [],
   "source": [
    "Fraction(1,1000)"
   ]
  },
  {
   "cell_type": "code",
   "execution_count": null,
   "metadata": {
    "deletable": false,
    "editable": false,
    "nbgrader": {
     "checksum": "6f54a06ec6f5c26ad8d0ff994ae460ce",
     "grade": false,
     "grade_id": "cell-62eae335e296897d",
     "locked": true,
     "schema_version": 1,
     "solution": false
    }
   },
   "outputs": [],
   "source": [
    "myTemp = 1000*Fraction(1,1000)"
   ]
  },
  {
   "cell_type": "code",
   "execution_count": null,
   "metadata": {
    "deletable": false,
    "editable": false,
    "nbgrader": {
     "checksum": "c47c5e2850a022af3e26d120824f1c3e",
     "grade": false,
     "grade_id": "cell-8a3b9e86afb072a4",
     "locked": true,
     "schema_version": 1,
     "solution": false
    }
   },
   "outputs": [],
   "source": [
    "sqrt(myTemp)"
   ]
  },
  {
   "cell_type": "markdown",
   "metadata": {
    "deletable": false,
    "editable": false,
    "nbgrader": {
     "checksum": "fae8781a2bb1507d5a8da530856864a2",
     "grade": false,
     "grade_id": "cell-5550aaad1ba09d81",
     "locked": true,
     "schema_version": 1,
     "solution": false
    }
   },
   "source": [
    "Oops we need the math module,"
   ]
  },
  {
   "cell_type": "code",
   "execution_count": null,
   "metadata": {
    "deletable": false,
    "editable": false,
    "nbgrader": {
     "checksum": "719aa0d9a50a5a2c3e3f213147697d0b",
     "grade": false,
     "grade_id": "cell-d717145020f21f6f",
     "locked": true,
     "schema_version": 1,
     "solution": false
    }
   },
   "outputs": [],
   "source": [
    "from math import *"
   ]
  },
  {
   "cell_type": "markdown",
   "metadata": {
    "deletable": false,
    "editable": false,
    "nbgrader": {
     "checksum": "5baf5e7ea2e758ec04253e59637145e1",
     "grade": false,
     "grade_id": "cell-26b3d28d8e5decab",
     "locked": true,
     "schema_version": 1,
     "solution": false
    }
   },
   "source": [
    "When we do the import in the style above (i.e. using \"*\" at the end), we can use ALL functions without a prefix like \"math.sqrt\" etc. This is usally NOT recommended in order to avoid cluttering the name space of the runtime system."
   ]
  },
  {
   "cell_type": "code",
   "execution_count": null,
   "metadata": {
    "deletable": false,
    "editable": false,
    "nbgrader": {
     "checksum": "49658658f11d9fa36cc94934399fbb6c",
     "grade": false,
     "grade_id": "cell-e43b7e103367dc6a",
     "locked": true,
     "schema_version": 1,
     "solution": false
    }
   },
   "outputs": [],
   "source": [
    "sqrt(myTemp)"
   ]
  },
  {
   "cell_type": "code",
   "execution_count": null,
   "metadata": {
    "deletable": false,
    "editable": false,
    "nbgrader": {
     "checksum": "2512d631e7c169f225450981130fc144",
     "grade": false,
     "grade_id": "cell-5139cff3ec521b37",
     "locked": true,
     "schema_version": 1,
     "solution": false
    }
   },
   "outputs": [],
   "source": [
    "myTemp = sqrt(myTemp)"
   ]
  },
  {
   "cell_type": "code",
   "execution_count": null,
   "metadata": {
    "deletable": false,
    "editable": false,
    "nbgrader": {
     "checksum": "e6d98157bfdd2f1d1e762e48ceca23db",
     "grade": false,
     "grade_id": "cell-35a7e1a936d298cc",
     "locked": true,
     "schema_version": 1,
     "solution": false
    }
   },
   "outputs": [],
   "source": [
    "type(myTemp)"
   ]
  },
  {
   "cell_type": "code",
   "execution_count": null,
   "metadata": {
    "deletable": false,
    "editable": false,
    "nbgrader": {
     "checksum": "e309d820c7c6c3ab39f3081f196eac16",
     "grade": false,
     "grade_id": "cell-a5a549b4069d5459",
     "locked": true,
     "schema_version": 1,
     "solution": false
    }
   },
   "outputs": [],
   "source": [
    "my49 = Fraction(Fraction(1,7),7);print(my49)"
   ]
  },
  {
   "cell_type": "code",
   "execution_count": null,
   "metadata": {
    "deletable": false,
    "editable": false,
    "nbgrader": {
     "checksum": "c1ee17b101b2248e780cb2d73d1c3592",
     "grade": false,
     "grade_id": "cell-ae22e988cd6a1618",
     "locked": true,
     "schema_version": 1,
     "solution": false
    }
   },
   "outputs": [],
   "source": [
    "Fraction(Fraction(1,7),Fraction(7,1))"
   ]
  },
  {
   "cell_type": "code",
   "execution_count": null,
   "metadata": {
    "deletable": false,
    "editable": false,
    "nbgrader": {
     "checksum": "a05fe9d1c0cea7aa253457490b763194",
     "grade": false,
     "grade_id": "cell-72eadc1a65e64898",
     "locked": true,
     "schema_version": 1,
     "solution": false
    }
   },
   "outputs": [],
   "source": [
    "myTemp = Fraction(Fraction(1,7),Fraction(1,7))"
   ]
  },
  {
   "cell_type": "code",
   "execution_count": null,
   "metadata": {
    "deletable": false,
    "editable": false,
    "nbgrader": {
     "checksum": "71b0bc5bad625bca5382ff02fc8e6633",
     "grade": false,
     "grade_id": "cell-95c3f4cf11841f4e",
     "locked": true,
     "schema_version": 1,
     "solution": false
    }
   },
   "outputs": [],
   "source": [
    "type(myTemp)"
   ]
  },
  {
   "cell_type": "code",
   "execution_count": null,
   "metadata": {
    "deletable": false,
    "editable": false,
    "nbgrader": {
     "checksum": "984a741bf09b24315d996e64ea037ea2",
     "grade": false,
     "grade_id": "cell-6e7c18158d4714fe",
     "locked": true,
     "schema_version": 1,
     "solution": false
    }
   },
   "outputs": [],
   "source": [
    "sqrt(my49)"
   ]
  },
  {
   "cell_type": "code",
   "execution_count": null,
   "metadata": {
    "deletable": false,
    "editable": false,
    "nbgrader": {
     "checksum": "c114d5900e597652a3ce6cac2abfc79c",
     "grade": false,
     "grade_id": "cell-f13e98788bed67ee",
     "locked": true,
     "schema_version": 1,
     "solution": false
    }
   },
   "outputs": [],
   "source": [
    "Fraction(1,0)"
   ]
  },
  {
   "cell_type": "code",
   "execution_count": null,
   "metadata": {
    "deletable": false,
    "editable": false,
    "nbgrader": {
     "checksum": "96e766eb65f9acffc3a3d7d0b382af19",
     "grade": false,
     "grade_id": "cell-44e4c696814c59a6",
     "locked": true,
     "schema_version": 1,
     "solution": false
    }
   },
   "outputs": [],
   "source": [
    "Fraction(0,1)"
   ]
  },
  {
   "cell_type": "code",
   "execution_count": null,
   "metadata": {
    "deletable": false,
    "editable": false,
    "nbgrader": {
     "checksum": "bb6c2e3b8fde24951da47f6052c6e7ae",
     "grade": false,
     "grade_id": "cell-b9406511a20d7e82",
     "locked": true,
     "schema_version": 1,
     "solution": false
    }
   },
   "outputs": [],
   "source": [
    "print(pi)\n",
    "print(type(pi))\n",
    "Fraction(pi)"
   ]
  },
  {
   "cell_type": "code",
   "execution_count": null,
   "metadata": {
    "deletable": false,
    "editable": false,
    "nbgrader": {
     "checksum": "27931cda8fdb45e4166fcc6a21ba84f8",
     "grade": false,
     "grade_id": "cell-c98ea0f581eb271a",
     "locked": true,
     "schema_version": 1,
     "solution": false
    }
   },
   "outputs": [],
   "source": [
    "print('{0:12.40g}'.format(pi-Fraction(pi)))"
   ]
  },
  {
   "cell_type": "code",
   "execution_count": null,
   "metadata": {
    "deletable": false,
    "editable": false,
    "nbgrader": {
     "checksum": "a628efe94c05c47648c1e86e462b048a",
     "grade": false,
     "grade_id": "cell-764d84be44cbf90b",
     "locked": true,
     "schema_version": 1,
     "solution": false
    }
   },
   "outputs": [],
   "source": [
    "884279719003555 / 281474976710656"
   ]
  },
  {
   "cell_type": "markdown",
   "metadata": {
    "deletable": false,
    "editable": false,
    "nbgrader": {
     "checksum": "6fe3f30c86c0b0cca375a8dae65400e6",
     "grade": false,
     "grade_id": "cell-c9e6d1cbd0f244c2",
     "locked": true,
     "schema_version": 1,
     "solution": false
    }
   },
   "source": [
    "## Question 3 : (10 pts)\n",
    "\n",
    "CHANGE the implementation of the Boolean variables: Use the class Fraction instead of float numbers to represent probabilities (hint: „from fractions import Fraction“)\n",
    "Please use the same variable name for creation fraction probabilities(xRB and xF)"
   ]
  },
  {
   "cell_type": "code",
   "execution_count": null,
   "metadata": {
    "deletable": false,
    "nbgrader": {
     "checksum": "db1a36a8cdbee8ac16770befd13efd58",
     "grade": false,
     "grade_id": "cell-4a4420e4c80f065f",
     "locked": false,
     "schema_version": 1,
     "solution": true
    }
   },
   "outputs": [],
   "source": [
    "from fractions import Fraction\n",
    "# YOUR CODE HERE\n",
    "raise NotImplementedError()"
   ]
  },
  {
   "cell_type": "code",
   "execution_count": null,
   "metadata": {
    "deletable": false,
    "editable": false,
    "nbgrader": {
     "checksum": "8897c66402fb3000053f770f4030bd47",
     "grade": true,
     "grade_id": "cell-f4aca995aca36634",
     "locked": true,
     "points": 10,
     "schema_version": 1,
     "solution": false
    }
   },
   "outputs": [],
   "source": [
    "# This cell is for grading purpose . Please ignore it. \n"
   ]
  },
  {
   "cell_type": "markdown",
   "metadata": {
    "deletable": false,
    "editable": false,
    "nbgrader": {
     "checksum": "1939e5070eaf0e12bd6454908e07c010",
     "grade": false,
     "grade_id": "cell-4c9c69e8b329c11e",
     "locked": true,
     "schema_version": 1,
     "solution": false
    }
   },
   "source": [
    "The following code returns the complement of the input boolean variable"
   ]
  },
  {
   "cell_type": "code",
   "execution_count": null,
   "metadata": {
    "deletable": false,
    "editable": false,
    "nbgrader": {
     "checksum": "cb66fbef4407265707efa40d46289063",
     "grade": false,
     "grade_id": "cell-b947b7c0e6136141",
     "locked": true,
     "schema_version": 1,
     "solution": false
    }
   },
   "outputs": [],
   "source": [
    "def myCOMPLEMENT(myVar):\n",
    "    '''Returns the compement of the boolean variable\n",
    "\n",
    "    Keyword arguments:\n",
    "    mVar -- tuple : (Name, prob.)\n",
    "    \n",
    "    returns (Name, 1-prob)\n",
    "    '''\n",
    "    \n",
    "    return (myVar[0],1-myVar[1])"
   ]
  },
  {
   "cell_type": "code",
   "execution_count": null,
   "metadata": {
    "deletable": false,
    "editable": false,
    "nbgrader": {
     "checksum": "5c6e0a17c81ced65920ae595ee77c928",
     "grade": false,
     "grade_id": "cell-e410c581212f308f",
     "locked": true,
     "schema_version": 1,
     "solution": false
    }
   },
   "outputs": [],
   "source": [
    "myNew = myCOMPLEMENT(xRB)\n",
    "myNew"
   ]
  },
  {
   "cell_type": "markdown",
   "metadata": {
    "deletable": false,
    "editable": false,
    "nbgrader": {
     "checksum": "3193f8388a9ffd0aad8c4fdc49f0b9af",
     "grade": false,
     "grade_id": "cell-12f3b9476da746ee",
     "locked": true,
     "schema_version": 1,
     "solution": false
    }
   },
   "source": [
    "Change the implementation of the function \"myCOMPLEMENT “: <br>\n",
    "when calling, ADD  the Letter \"N_\" in front of the new variable name AND if there are two \"NN_\" at the beginning DROP this prefix "
   ]
  },
  {
   "cell_type": "markdown",
   "metadata": {
    "deletable": false,
    "editable": false,
    "nbgrader": {
     "checksum": "e29c40f5e64fd3e803d42f59092249f2",
     "grade": false,
     "grade_id": "cell-647709b8f78a72cc",
     "locked": true,
     "schema_version": 1,
     "solution": false
    }
   },
   "source": [
    "Strings in python are delimited by \" or ' or ```, like in many other languages the behave like arrays.\n",
    "\n",
    "So we can access each letter by indexing."
   ]
  },
  {
   "cell_type": "code",
   "execution_count": null,
   "metadata": {
    "deletable": false,
    "editable": false,
    "nbgrader": {
     "checksum": "0d9b747804359d02cc246eb1de4b4fe9",
     "grade": false,
     "grade_id": "cell-0bf6790b87b71007",
     "locked": true,
     "schema_version": 1,
     "solution": false
    }
   },
   "outputs": [],
   "source": [
    "myTest = 'ABC'"
   ]
  },
  {
   "cell_type": "code",
   "execution_count": null,
   "metadata": {
    "deletable": false,
    "editable": false,
    "nbgrader": {
     "checksum": "f15996b2440340a138d524b227a78d70",
     "grade": false,
     "grade_id": "cell-7563b23098cce69d",
     "locked": true,
     "schema_version": 1,
     "solution": false
    }
   },
   "outputs": [],
   "source": [
    "myTest[0]"
   ]
  },
  {
   "cell_type": "markdown",
   "metadata": {
    "deletable": false,
    "editable": false,
    "nbgrader": {
     "checksum": "47e29dffd278509949aeaad34f21c038",
     "grade": false,
     "grade_id": "cell-f203ae11dcb94b40",
     "locked": true,
     "schema_version": 1,
     "solution": false
    }
   },
   "source": [
    "What methods are offered by data tyoe string? (follow the hint: search for startswith)"
   ]
  },
  {
   "cell_type": "code",
   "execution_count": null,
   "metadata": {
    "deletable": false,
    "editable": false,
    "nbgrader": {
     "checksum": "db8cbc5649a0bbc9f6ba1c6b23a6e57a",
     "grade": false,
     "grade_id": "cell-310db16d52ff6521",
     "locked": true,
     "schema_version": 1,
     "solution": false
    }
   },
   "outputs": [],
   "source": [
    "help(type(myTest))"
   ]
  },
  {
   "cell_type": "code",
   "execution_count": null,
   "metadata": {
    "deletable": false,
    "editable": false,
    "nbgrader": {
     "checksum": "9953dce82331f26caaf60d65f8a50829",
     "grade": false,
     "grade_id": "cell-8b2075cd22618a0d",
     "locked": true,
     "schema_version": 1,
     "solution": false
    }
   },
   "outputs": [],
   "source": [
    "print(\"Text start with 'AB'? : \", myTest.startswith('AB'))\n",
    "print(\"Text start with 'ABC'? : \", myTest.startswith('ABC'))\n",
    "print(\"Text start with 'C'? : \", myTest.startswith('C'))\n",
    "print(\"Text start with ''? : \", myTest.startswith(''))"
   ]
  },
  {
   "cell_type": "markdown",
   "metadata": {
    "deletable": false,
    "editable": false,
    "nbgrader": {
     "checksum": "289578ea28e277312da8f61aa4f3f511",
     "grade": false,
     "grade_id": "cell-42359d3ce9d0781e",
     "locked": true,
     "schema_version": 1,
     "solution": false
    }
   },
   "source": [
    "## Question 4 : (20 pts)\n",
    "\n",
    "Change the implementation of the function \"myCOMPLEMENT “: \n",
    "when calling, ADD the Letter \"N_“ in front of the new variable name AND if there are two \"NN_“ at the beginning DROP this prefix"
   ]
  },
  {
   "cell_type": "code",
   "execution_count": null,
   "metadata": {
    "deletable": false,
    "nbgrader": {
     "checksum": "c8b247bcb15a97976492b67a2b0c4a23",
     "grade": false,
     "grade_id": "cell-2f42843bcb2e9eda",
     "locked": false,
     "schema_version": 1,
     "solution": true
    }
   },
   "outputs": [],
   "source": [
    "def myCOMPLEMENT(myVar):\n",
    "    '''Returns the compement of the boolean variable\n",
    "\n",
    "    Keyword arguments:\n",
    "    mVar -- tuple : (Name, prob.)\n",
    "    \n",
    "    returns (Name, 1-prob)\n",
    "    '''\n",
    "    # YOUR CODE HERE\n",
    "    raise NotImplementedError()"
   ]
  },
  {
   "cell_type": "code",
   "execution_count": null,
   "metadata": {
    "deletable": false,
    "editable": false,
    "nbgrader": {
     "checksum": "bf6c9a5c13bfd1ec3377e85680b0ecf1",
     "grade": true,
     "grade_id": "cell-022ee12c1e35f2c9",
     "locked": true,
     "points": 20,
     "schema_version": 1,
     "solution": false
    }
   },
   "outputs": [],
   "source": [
    "assert myCOMPLEMENT(('xx',Fraction(1,10))) == ('N_xx', Fraction(9,10))\n",
    "assert myCOMPLEMENT(('NN_xx',Fraction(9,10))) == ('xx', Fraction(1,10))"
   ]
  },
  {
   "cell_type": "markdown",
   "metadata": {
    "deletable": false,
    "editable": false,
    "nbgrader": {
     "checksum": "2dbccf15f4cffa249f82e1b08d407cc0",
     "grade": false,
     "grade_id": "cell-2221520da09141b6",
     "locked": true,
     "schema_version": 1,
     "solution": false
    }
   },
   "source": [
    "Run the following code for AND and OR operators. <br>\n"
   ]
  },
  {
   "cell_type": "code",
   "execution_count": null,
   "metadata": {
    "deletable": false,
    "editable": false,
    "nbgrader": {
     "checksum": "b00e5acacd9c2e142bdafd1bc94e2ff6",
     "grade": false,
     "grade_id": "cell-499aae7376325689",
     "locked": true,
     "schema_version": 1,
     "solution": false
    }
   },
   "outputs": [],
   "source": [
    "def myAND(myVar1,myVar2):\n",
    "    '''Returns a probalistic AND on two boolean variable\n",
    "\n",
    "    Keyword arguments:\n",
    "    myVar1,myVar2 -- two tuples : (Name, prob.)\n",
    "    \n",
    "    returns:: the probabilty tuple of both being true (on average)\n",
    "    '''\n",
    "    \n",
    "    return (myVar1[0] + '_A_'+ myVar2[0],myVar1[1]*myVar2[1])\n",
    "\n",
    "def myOR(myVar1,myVar2):\n",
    "    '''Returns a probalistic OR of two boolean variable\n",
    "\n",
    "    Keyword arguments:\n",
    "    myVar1,myVar2 -- two tuples : (Name, prob.)\n",
    "    \n",
    "    returns:: the probabilty tuple of ONE of them being true\n",
    "    '''\n",
    "    return (myVar1[0] + '_O_' + myVar2[0],myVar1[1] + myVar2[1] - myVar1[1]*myVar2[1])\n"
   ]
  },
  {
   "cell_type": "code",
   "execution_count": null,
   "metadata": {
    "deletable": false,
    "editable": false,
    "nbgrader": {
     "checksum": "496cd85f0835caea2a78394a504a2fa2",
     "grade": false,
     "grade_id": "cell-c129b7666f89fef2",
     "locked": true,
     "schema_version": 1,
     "solution": false
    }
   },
   "outputs": [],
   "source": [
    "mytemp = myAND(xRB,xF)\n",
    "mytemp"
   ]
  },
  {
   "cell_type": "code",
   "execution_count": null,
   "metadata": {
    "deletable": false,
    "editable": false,
    "nbgrader": {
     "checksum": "13715187dc8c209dfb4e1f9ba282156a",
     "grade": false,
     "grade_id": "cell-e4ad1e16efd452ab",
     "locked": true,
     "schema_version": 1,
     "solution": false
    }
   },
   "outputs": [],
   "source": [
    "mytemp = myOR(xRB,xF)\n",
    "mytemp"
   ]
  },
  {
   "cell_type": "markdown",
   "metadata": {
    "deletable": false,
    "editable": false,
    "nbgrader": {
     "checksum": "4d753a7cf72d1ad6d1d91d1c24d44acd",
     "grade": false,
     "grade_id": "cell-748185184ccef599",
     "locked": true,
     "schema_version": 1,
     "solution": false
    }
   },
   "source": [
    "## Question 5 :  (20 pts)\n",
    "Use the functions myAND and myOR to Add 3 more Boolean operators (e.g. NOR, NAND etc...)"
   ]
  },
  {
   "cell_type": "code",
   "execution_count": null,
   "metadata": {
    "deletable": false,
    "nbgrader": {
     "checksum": "04182140559741edca6549b1f56323e6",
     "grade": false,
     "grade_id": "cell-0a0362507bbbbf42",
     "locked": false,
     "schema_version": 1,
     "solution": true
    }
   },
   "outputs": [],
   "source": [
    "def myNAND(myVar1,myVar2):\n",
    "    '''Returns a probalistic NAND on two boolean variable\n",
    "\n",
    "    Keyword arguments:\n",
    "    myVar1,myVar2 -- two tuples : (Name, prob.)\n",
    "    \n",
    "    returns:: the probabilty tuple of both being true (on average)\n",
    "    '''\n",
    "    # YOUR CODE HERE\n",
    "    raise NotImplementedError()"
   ]
  },
  {
   "cell_type": "code",
   "execution_count": null,
   "metadata": {
    "deletable": false,
    "nbgrader": {
     "checksum": "00c0cd43fa7b4fab6f31fc3e4653087e",
     "grade": false,
     "grade_id": "cell-1a955bfdabd96ae8",
     "locked": false,
     "schema_version": 1,
     "solution": true
    }
   },
   "outputs": [],
   "source": [
    "def myNOR(myVar1,myVar2):\n",
    "    '''Returns a probalistic NOR of two boolean variable\n",
    "\n",
    "    Keyword arguments:\n",
    "    myVar1,myVar2 -- two tuples : (Name, prob.)\n",
    "    \n",
    "    returns:: the probabilty tuple of ONE of them being true\n",
    "    '''\n",
    "    # YOUR CODE HERE\n",
    "    raise NotImplementedError()"
   ]
  },
  {
   "cell_type": "code",
   "execution_count": null,
   "metadata": {
    "deletable": false,
    "nbgrader": {
     "checksum": "06dca7c192565467a83fb25195e20392",
     "grade": false,
     "grade_id": "cell-fc250c8fb83cce25",
     "locked": false,
     "schema_version": 1,
     "solution": true
    }
   },
   "outputs": [],
   "source": [
    "def myXOR(myVar1,myVar2):\n",
    "    '''Returns a probalistic XOR of two boolean variable\n",
    "\n",
    "    Keyword arguments:\n",
    "    myVar1,myVar2 -- two tuples : (Name, prob.)\n",
    "    \n",
    "    returns:: the probabilty tuple of ONE of them being true\n",
    "    '''\n",
    "    # YOUR CODE HERE\n",
    "    raise NotImplementedError()"
   ]
  },
  {
   "cell_type": "code",
   "execution_count": null,
   "metadata": {
    "deletable": false,
    "editable": false,
    "nbgrader": {
     "checksum": "b831e0663dcd65a27b83e4356244cf10",
     "grade": true,
     "grade_id": "cell-f0c95d4d5b074ecf",
     "locked": true,
     "points": 7,
     "schema_version": 1,
     "solution": false
    }
   },
   "outputs": [],
   "source": [
    "# This cell is for grading purpose . Please ignore it.\n"
   ]
  },
  {
   "cell_type": "code",
   "execution_count": null,
   "metadata": {
    "deletable": false,
    "editable": false,
    "nbgrader": {
     "checksum": "1bc5918f113cb1e270d3929a4da0c274",
     "grade": true,
     "grade_id": "cell-76a02f2a14147af7",
     "locked": true,
     "points": 7,
     "schema_version": 1,
     "solution": false
    }
   },
   "outputs": [],
   "source": [
    "# This cell is for grading purpose . Please ignore it.\n"
   ]
  },
  {
   "cell_type": "code",
   "execution_count": null,
   "metadata": {
    "deletable": false,
    "editable": false,
    "nbgrader": {
     "checksum": "42933c83b80b7a24beb9eb8af856caed",
     "grade": true,
     "grade_id": "cell-3fd87f0249fd7aec",
     "locked": true,
     "points": 6,
     "schema_version": 1,
     "solution": false
    }
   },
   "outputs": [],
   "source": [
    "# This cell is for grading purpose . Please ignore it.\n"
   ]
  },
  {
   "cell_type": "markdown",
   "metadata": {
    "deletable": false,
    "editable": false,
    "nbgrader": {
     "checksum": "12e530505ed92caed73ab1edf7255280",
     "grade": false,
     "grade_id": "cell-b040ea46b92326a6",
     "locked": true,
     "schema_version": 1,
     "solution": false
    }
   },
   "source": [
    "## Question 6 : (20 pts)\n",
    "\n",
    "Assume the lines in diagram below are pipes and the boxes are radiators, which block with a certain likelihood.\n",
    "We want that water flows from a to b. Assuming that two radiators are connected in sequence then the water will flow with P(water_flow) = myAND(radiator_1_OK,radiator_2_OK). When twoare connected in parallel\n",
    "P(water_flow) = myOR(radiator_1_OK,radiator_2_OK).\n",
    "\n",
    "Hint: Apply the functions ftom exercise 4. \n",
    "\n",
    "Assume: P_K1 = 0.99, P_K2 = 0.95, P_K3 = 0.05, P_K4 = 0.56\n",
    "\n",
    "How probable is there a connection\n",
    "from (a) to (b) ??  \n",
    "<img src=\"image/image_circuit.png\" />"
   ]
  },
  {
   "cell_type": "code",
   "execution_count": null,
   "metadata": {
    "deletable": false,
    "nbgrader": {
     "checksum": "c0f6ae001794869fb365be2fe8280c3e",
     "grade": false,
     "grade_id": "cell-e0f544b75362aa49",
     "locked": false,
     "schema_version": 1,
     "solution": true
    }
   },
   "outputs": [],
   "source": [
    "def is_connection(myK1, myK2, myK3, myK4):\n",
    "    # YOUR CODE HERE\n",
    "    raise NotImplementedError()\n",
    "    return myAll"
   ]
  },
  {
   "cell_type": "code",
   "execution_count": null,
   "metadata": {
    "deletable": false,
    "editable": false,
    "nbgrader": {
     "checksum": "3b69a4b35d573643df7544c5e84a53bb",
     "grade": false,
     "grade_id": "cell-bfbc7d493382af7d",
     "locked": true,
     "schema_version": 1,
     "solution": false
    }
   },
   "outputs": [],
   "source": [
    "myK1 = ('K1',1-Fraction(1,100))\n",
    "myK2 = ('K2',1-Fraction(5,100))\n",
    "myK3 = ('K3',Fraction(5,100))\n",
    "myK4 = ('K4',Fraction(56,100))\n",
    "is_connection(myK1, myK2, myK3, myK4)"
   ]
  },
  {
   "cell_type": "code",
   "execution_count": null,
   "metadata": {
    "deletable": false,
    "editable": false,
    "nbgrader": {
     "checksum": "94dc689b94580f4f4acd9b97c5a97076",
     "grade": true,
     "grade_id": "cell-01ebc3a722493801",
     "locked": true,
     "points": 20,
     "schema_version": 1,
     "solution": false
    }
   },
   "outputs": [],
   "source": [
    "# This cell is for grading purpose . Please ignore it.\n"
   ]
  },
  {
   "cell_type": "markdown",
   "metadata": {
    "deletable": false,
    "editable": false,
    "heading_collapsed": true,
    "nbgrader": {
     "checksum": "b0ceffb9f8b68ddde1f4b3b33a14760f",
     "grade": false,
     "grade_id": "cell-c7f6994ab134eae2",
     "locked": true,
     "schema_version": 1,
     "solution": false
    }
   },
   "source": [
    "## Question 7: (120 pts)\n",
    "Program a die as a function call :: <br>\n",
    "<b> myDice(NumFaces,repeatCount) </b> <br>\n",
    "where NumFaces is 4,6,8,10,12,20, returning a tuple (or array) of length repeatCount containig the sequence of outcomes. <br>\n",
    "a) print a statistic: for <b>NumFaces</b> = 6 and <b>repeatCount</b> =1200 all numbers should appear roughly 1/6 of the times <br>\n",
    "b) extend the experiment: use N=2,3,4,5,6 many dice and define as the outcome the SUM of all faces (e.g. for N=2 the sample space is now {2,3,..., 11,12} <br>\n",
    "c) build some new statistics: how likely are all possible outcomes when using N dice? <br>\n",
    "d) draw the statistics in a diagram, compare the functions for different N <br> \n",
    "e) can you find a relation between the outcomes? Hint: Wiki Faltung"
   ]
  },
  {
   "cell_type": "code",
   "execution_count": null,
   "metadata": {
    "deletable": false,
    "editable": false,
    "hidden": true,
    "nbgrader": {
     "checksum": "b0bdebe0433390ad1d3a35760b5d9e91",
     "grade": false,
     "grade_id": "cell-6f8e49455d6fa1d4",
     "locked": true,
     "schema_version": 1,
     "solution": false
    }
   },
   "outputs": [],
   "source": [
    "import numpy as np\n",
    "from numpy.random import randint"
   ]
  },
  {
   "cell_type": "code",
   "execution_count": null,
   "metadata": {
    "deletable": false,
    "editable": false,
    "hidden": true,
    "nbgrader": {
     "checksum": "1dfb2a3382a2ddf8c12ca86fe7b0f362",
     "grade": false,
     "grade_id": "cell-c04cb4eb21435daf",
     "locked": true,
     "schema_version": 1,
     "solution": false
    }
   },
   "outputs": [],
   "source": [
    "help(randint)"
   ]
  },
  {
   "cell_type": "code",
   "execution_count": null,
   "metadata": {
    "hidden": true
   },
   "outputs": [],
   "source": [
    "randint(2, size=10)"
   ]
  },
  {
   "cell_type": "code",
   "execution_count": null,
   "metadata": {
    "hidden": true
   },
   "outputs": [],
   "source": [
    "a = randint(1,6, size=20)\n",
    "help(np.mean)"
   ]
  },
  {
   "cell_type": "code",
   "execution_count": null,
   "metadata": {
    "hidden": true
   },
   "outputs": [],
   "source": [
    "list(a).count(1)"
   ]
  },
  {
   "cell_type": "code",
   "execution_count": null,
   "metadata": {
    "deletable": false,
    "hidden": true,
    "nbgrader": {
     "checksum": "b8f4c58d2a94d1377c65db1bc35b606b",
     "grade": true,
     "grade_id": "cell-ef981b32ecc9666b",
     "locked": false,
     "points": 30,
     "schema_version": 1,
     "solution": true
    }
   },
   "outputs": [],
   "source": [
    "def myDice(numFaces, repeatCount):\n",
    "    # YOUR CODE HERE\n",
    "    raise NotImplementedError()\n",
    "    \n",
    "myThrows = myDice(6,1200)\n",
    "myThrows"
   ]
  },
  {
   "cell_type": "code",
   "execution_count": null,
   "metadata": {
    "deletable": false,
    "hidden": true,
    "nbgrader": {
     "checksum": "bec729614a4f8cc74db118220496acaf",
     "grade": true,
     "grade_id": "cell-17249a37c7114a4b",
     "locked": false,
     "points": 30,
     "schema_version": 1,
     "solution": true
    }
   },
   "outputs": [],
   "source": [
    "# YOUR CODE HERE\n",
    "raise NotImplementedError()"
   ]
  },
  {
   "cell_type": "code",
   "execution_count": null,
   "metadata": {
    "deletable": false,
    "hidden": true,
    "nbgrader": {
     "checksum": "0088e58ef128769d4013fb3344a3e1f5",
     "grade": true,
     "grade_id": "cell-39f4fee0878ffc4c",
     "locked": false,
     "points": 20,
     "schema_version": 1,
     "solution": true
    }
   },
   "outputs": [],
   "source": [
    "# YOUR CODE HERE\n",
    "raise NotImplementedError()"
   ]
  },
  {
   "cell_type": "code",
   "execution_count": null,
   "metadata": {
    "deletable": false,
    "hidden": true,
    "nbgrader": {
     "checksum": "566c0c91c839db5ef67c40d0e2bf5f5e",
     "grade": true,
     "grade_id": "cell-e69c942ba26b422a",
     "locked": false,
     "points": 20,
     "schema_version": 1,
     "solution": true
    }
   },
   "outputs": [],
   "source": [
    "# YOUR CODE HERE\n",
    "raise NotImplementedError()"
   ]
  },
  {
   "cell_type": "code",
   "execution_count": null,
   "metadata": {
    "deletable": false,
    "hidden": true,
    "nbgrader": {
     "checksum": "3879cac25134160c56eaa7f8162f31f2",
     "grade": true,
     "grade_id": "cell-a6c5e971c099fd9c",
     "locked": false,
     "points": 20,
     "schema_version": 1,
     "solution": true
    }
   },
   "outputs": [],
   "source": [
    "# YOUR CODE HERE\n",
    "raise NotImplementedError()"
   ]
  },
  {
   "cell_type": "markdown",
   "metadata": {
    "deletable": false,
    "editable": false,
    "heading_collapsed": true,
    "nbgrader": {
     "checksum": "24320df7de2f6849ccb9065684671c4d",
     "grade": false,
     "grade_id": "cell-9bf8c7ea523b2cae",
     "locked": true,
     "schema_version": 1,
     "solution": false
    }
   },
   "source": [
    "## Question 8 (20 pts)\n",
    "<b> Prove the following Kolmogorov axiom </b> <br>\n",
    "P(A$\\cup$B) = P(A) + P(B) – P(A $\\cap$ B) <br> \n",
    "HINT: in ipython markdown use the terms   \" \\cup \"  for union($\\cup$) symbol and and \"\\cap“  for intersection($\\cap$) symbol.  \n"
   ]
  },
  {
   "cell_type": "markdown",
   "metadata": {
    "deletable": false,
    "hidden": true,
    "nbgrader": {
     "checksum": "2e67ea29d76963cf68c28d8b15c6935d",
     "grade": true,
     "grade_id": "cell-d3f5a3e62996a1b8",
     "locked": false,
     "points": 20,
     "schema_version": 1,
     "solution": true
    }
   },
   "source": [
    "YOUR ANSWER HERE"
   ]
  },
  {
   "cell_type": "markdown",
   "metadata": {
    "deletable": false,
    "editable": false,
    "heading_collapsed": true,
    "nbgrader": {
     "checksum": "c4d36f395cdd3ac8edcb1c18537eae74",
     "grade": false,
     "grade_id": "cell-135e3b3b5b39134a",
     "locked": true,
     "schema_version": 1,
     "solution": false
    }
   },
   "source": [
    "## Question 9: (20 pts)\n",
    "A six-sided die is loaded in a way that each even face is twice as likely as each odd face. All even faces are equally likely, as are all odd faces. Construct a probabilistic model for a single roll of this die and find the probability that the outcome is less than 4"
   ]
  },
  {
   "cell_type": "markdown",
   "metadata": {
    "deletable": false,
    "hidden": true,
    "nbgrader": {
     "checksum": "d011b2c5bf43421979bd99f99aa1598e",
     "grade": true,
     "grade_id": "cell-0d2c4ff1aa294208",
     "locked": false,
     "points": 20,
     "schema_version": 1,
     "solution": true
    }
   },
   "source": [
    "YOUR ANSWER HERE"
   ]
  }
 ],
 "metadata": {
  "kernelspec": {
   "display_name": "Python 3",
   "language": "python",
   "name": "python3"
  },
  "language_info": {
   "codemirror_mode": {
    "name": "ipython",
    "version": 3
   },
   "file_extension": ".py",
   "mimetype": "text/x-python",
   "name": "python",
   "nbconvert_exporter": "python",
   "pygments_lexer": "ipython3",
   "version": "3.6.6"
  }
 },
 "nbformat": 4,
 "nbformat_minor": 2
}
