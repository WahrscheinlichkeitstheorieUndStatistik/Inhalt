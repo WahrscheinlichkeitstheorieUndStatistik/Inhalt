{
 "cells": [
  {
   "cell_type": "markdown",
   "metadata": {
    "deletable": false,
    "editable": false,
    "nbgrader": {
     "checksum": "9eaa521200a20ae05ec68ecd397a080c",
     "grade": false,
     "grade_id": "cell-82dc4c5f01133257",
     "locked": true,
     "schema_version": 1,
     "solution": false
    }
   },
   "source": [
    "# Aufgabe - 6"
   ]
  },
  {
   "cell_type": "markdown",
   "metadata": {},
   "source": [
    "<div class=\"alert alert-block alert-danger\">\n",
    "\n",
    "### Student Nutzername 1: ---------\n",
    "\n",
    "### Student Nutzername 2: ---------\n",
    "\n",
    "</div>"
   ]
  },
  {
   "cell_type": "markdown",
   "metadata": {
    "deletable": false,
    "editable": false,
    "nbgrader": {
     "checksum": "b603e2b48e0686013dd16b065861c413",
     "grade": false,
     "grade_id": "cell-cbdeffea8b50b752",
     "locked": true,
     "schema_version": 1,
     "solution": false
    }
   },
   "source": [
    "Assume : you are the TEACHER of this lecture and you want to check, how good the students understood the last lecture. Formulate 5 questions and 5 expected answers by which you check how well the students did understand the lecture. \n",
    "In each cell below type one question and answer <br>\n",
    "<b>(10 points )</b> 2 points for each question and answer"
   ]
  },
  {
   "cell_type": "markdown",
   "metadata": {},
   "source": [
    "Qn1:"
   ]
  },
  {
   "cell_type": "markdown",
   "metadata": {
    "deletable": false,
    "nbgrader": {
     "checksum": "880a9324aea7e015d8bea68a4bc03131",
     "grade": true,
     "grade_id": "cell-cc980ed7735fe1bc",
     "locked": false,
     "points": 2,
     "schema_version": 1,
     "solution": true
    }
   },
   "source": [
    "YOUR ANSWER HERE"
   ]
  },
  {
   "cell_type": "markdown",
   "metadata": {},
   "source": [
    "Qn2:"
   ]
  },
  {
   "cell_type": "markdown",
   "metadata": {
    "deletable": false,
    "nbgrader": {
     "checksum": "5dd3e37506cea68091df6907753b5e80",
     "grade": true,
     "grade_id": "cell-9e46944d3361ce27",
     "locked": false,
     "points": 2,
     "schema_version": 1,
     "solution": true
    }
   },
   "source": [
    "YOUR ANSWER HERE"
   ]
  },
  {
   "cell_type": "markdown",
   "metadata": {},
   "source": [
    "Qn3:"
   ]
  },
  {
   "cell_type": "markdown",
   "metadata": {
    "deletable": false,
    "nbgrader": {
     "checksum": "e2686dcf0ebc09980c30d50d2cafd345",
     "grade": true,
     "grade_id": "cell-d35b34afe2cba4af",
     "locked": false,
     "points": 2,
     "schema_version": 1,
     "solution": true
    }
   },
   "source": [
    "YOUR ANSWER HERE"
   ]
  },
  {
   "cell_type": "markdown",
   "metadata": {},
   "source": [
    "Qn4:"
   ]
  },
  {
   "cell_type": "markdown",
   "metadata": {
    "deletable": false,
    "nbgrader": {
     "checksum": "7ed0841cd8af3661005b67fa52859c65",
     "grade": true,
     "grade_id": "cell-4b94be80a5a09bce",
     "locked": false,
     "points": 2,
     "schema_version": 1,
     "solution": true
    }
   },
   "source": [
    "YOUR ANSWER HERE"
   ]
  },
  {
   "cell_type": "markdown",
   "metadata": {},
   "source": [
    "Qn5:"
   ]
  },
  {
   "cell_type": "markdown",
   "metadata": {
    "deletable": false,
    "nbgrader": {
     "checksum": "ce3f108116896345f68eb8a34c30e4cf",
     "grade": true,
     "grade_id": "cell-38a7f1eac3ac34ed",
     "locked": false,
     "points": 2,
     "schema_version": 1,
     "solution": true
    }
   },
   "source": [
    "YOUR ANSWER HERE"
   ]
  },
  {
   "cell_type": "code",
   "execution_count": null,
   "metadata": {},
   "outputs": [],
   "source": [
    "import pandas as pd\n",
    "import random\n",
    "import numpy as np\n",
    "import scipy\n",
    "from scipy import stats\n",
    "import matplotlib.pyplot as plt\n",
    "%matplotlib inline"
   ]
  },
  {
   "cell_type": "markdown",
   "metadata": {
    "deletable": false,
    "editable": false,
    "nbgrader": {
     "checksum": "7dbf8b236ef3991fdcf917de7d3ea369",
     "grade": false,
     "grade_id": "cell-03da8f793616b6e3",
     "locked": true,
     "schema_version": 1,
     "solution": false
    }
   },
   "source": [
    "## Question 1:"
   ]
  },
  {
   "cell_type": "markdown",
   "metadata": {
    "deletable": false,
    "editable": false,
    "nbgrader": {
     "checksum": "761833bb48e07a236b4f7966a3dc16a7",
     "grade": false,
     "grade_id": "cell-3b87bb5077389a46",
     "locked": true,
     "schema_version": 1,
     "solution": false
    }
   },
   "source": [
    "Reproduce the given scatter plot of sample means for different samples (printed from Fig. 6.1. p148 )using the heights dataset\t.<br>\n",
    "a) Sample elements with replacement to construct subsets of sizes 9,16,25,..,,81 (see figure) <br>\n",
    "b) Compute the sample mean for each of 100 subsets, i.e there are 100 means for each sample size <br>\n",
    "c) Represent these means by a boxplot <br>\n",
    "d) Compute the population mean and the standard error as measured by the\tpopulation standard derivation. In\tthe\tfigure “x” to the side of each column is the population mean while the vertical bar are a 1-standard\terror above\tand\tbelow the population mean.\t To plot a vertical bar the function bar of\tmatplotlib.pyplot can be used. <br>\n",
    "\n",
    "Analyze how (i) the sample means vary less as the sample gets bigger and (ii) the sample means largely lie within the error bars, as they should.\n",
    "<img src=\"./images/fig1.png\" />"
   ]
  },
  {
   "cell_type": "markdown",
   "metadata": {
    "deletable": false,
    "editable": false,
    "nbgrader": {
     "checksum": "9dcef4d02740bcefcc47b78613d31e50",
     "grade": false,
     "grade_id": "cell-16593f7a3cdc80f2",
     "locked": true,
     "schema_version": 1,
     "solution": false
    }
   },
   "source": [
    "### Load the dataset"
   ]
  },
  {
   "cell_type": "markdown",
   "metadata": {
    "deletable": false,
    "editable": false,
    "nbgrader": {
     "checksum": "19b0d70446d53e0fe738dbd2dc875e14",
     "grade": false,
     "grade_id": "cell-f09fd0ae2373bc05",
     "locked": true,
     "schema_version": 1,
     "solution": false
    }
   },
   "source": [
    "Load the bodyFat dataset as a pandas Dataframe in the below cell as \"df\"\n",
    "\n",
    "Hint : use the HEIGHTS columns to draw samples"
   ]
  },
  {
   "cell_type": "code",
   "execution_count": null,
   "metadata": {
    "deletable": false,
    "nbgrader": {
     "checksum": "2991da9a4e6781bdcf8b787ede1b5b79",
     "grade": true,
     "grade_id": "cell-a2ac3e24ecae4907",
     "locked": false,
     "points": 2,
     "schema_version": 1,
     "solution": true
    }
   },
   "outputs": [],
   "source": [
    "# YOUR CODE HERE\n",
    "raise NotImplementedError()"
   ]
  },
  {
   "cell_type": "code",
   "execution_count": null,
   "metadata": {
    "deletable": false,
    "nbgrader": {
     "checksum": "00141f9b05be083c1b69a08a5b359aa1",
     "grade": true,
     "grade_id": "cell-ab1268fbffffbabd",
     "locked": false,
     "points": 10,
     "schema_version": 1,
     "solution": true
    }
   },
   "outputs": [],
   "source": [
    "def generate_sample_meanlist(sample_size,subset_size,df):\n",
    "    \"\"\"\n",
    "    This function should get the dataframe,sample size and subset size and \n",
    "    return the mean of each sample as a list. (list must contain 100 means)\n",
    "    \"\"\"\n",
    "    # YOUR CODE HERE\n",
    "    raise NotImplementedError()\n",
    "    return samples_meanlist"
   ]
  },
  {
   "cell_type": "code",
   "execution_count": null,
   "metadata": {
    "deletable": false,
    "nbgrader": {
     "checksum": "9a64b51c2c6651f78fd14d81058eedea",
     "grade": true,
     "grade_id": "cell-886ef7774b2dedb7",
     "locked": false,
     "points": 10,
     "schema_version": 1,
     "solution": true
    }
   },
   "outputs": [],
   "source": [
    "subset_size = [9,16,25,36,49,64,81]\n",
    "sample_size = 100\n",
    "\n",
    "mean_dict = {i:[] for i in subset_size }\n",
    "\n",
    "for size in subset_size:\n",
    "    mean_dict[size] = generate_sample_meanlist(sample_size,size,df)\n",
    "  \n",
    "\n",
    " \n",
    "#WRITE TOUR PLOTTING CODE HERE\n",
    "# YOUR CODE HERE\n",
    "raise NotImplementedError()"
   ]
  },
  {
   "cell_type": "markdown",
   "metadata": {
    "deletable": false,
    "editable": false,
    "nbgrader": {
     "checksum": "497021ce0d3f411aa1b83fad398165eb",
     "grade": false,
     "grade_id": "cell-80abbaa52860730e",
     "locked": true,
     "schema_version": 1,
     "solution": false
    }
   },
   "source": [
    "Compute the population mean and the standard error . Add them to the plot as shown in the given plot"
   ]
  },
  {
   "cell_type": "code",
   "execution_count": null,
   "metadata": {
    "deletable": false,
    "nbgrader": {
     "checksum": "0c0ff4b4fea92662d295d536237daa19",
     "grade": true,
     "grade_id": "cell-84429179e52407ab",
     "locked": false,
     "points": 5,
     "schema_version": 1,
     "solution": true
    }
   },
   "outputs": [],
   "source": [
    "# YOUR CODE HERE\n",
    "raise NotImplementedError()"
   ]
  },
  {
   "cell_type": "markdown",
   "metadata": {
    "deletable": false,
    "editable": false,
    "nbgrader": {
     "checksum": "0176ad4aad5aef655ad7035320194b1a",
     "grade": false,
     "grade_id": "cell-97b8d34a85c333e4",
     "locked": true,
     "schema_version": 1,
     "solution": false
    }
   },
   "source": [
    "In the below cell, Analyze how (i) the sample means vary less as the sample gets bigger and (ii) the sample means largely lie within the error bars, as they should"
   ]
  },
  {
   "cell_type": "markdown",
   "metadata": {
    "deletable": false,
    "nbgrader": {
     "checksum": "d6612987278047bde876b90cd15a31f1",
     "grade": true,
     "grade_id": "cell-43e8ae6305f6e093",
     "locked": false,
     "points": 3,
     "schema_version": 1,
     "solution": true
    }
   },
   "source": [
    "YOUR ANSWER HERE"
   ]
  },
  {
   "cell_type": "markdown",
   "metadata": {
    "deletable": false,
    "editable": false,
    "nbgrader": {
     "checksum": "aa153e77ada7640c1a58373329ae389b",
     "grade": false,
     "grade_id": "cell-3638891ec2293d0e",
     "locked": true,
     "schema_version": 1,
     "solution": false
    }
   },
   "source": [
    "## Question 2:"
   ]
  },
  {
   "cell_type": "markdown",
   "metadata": {
    "deletable": false,
    "editable": false,
    "nbgrader": {
     "checksum": "097ccad26773301788ed9f699d30de7a",
     "grade": false,
     "grade_id": "cell-f5686cd01e18c152",
     "locked": true,
     "schema_version": 1,
     "solution": false
    }
   },
   "source": [
    "<b>Investigating the construction of confidence intervals</b> The UC Irvine Machine Learning data repository hosts a dataset giving various measurements of abalone at https://archive.ics.uci.edu/ml/datasets/Abalone. This data comes from an original study by W.J. Nash, T.L. Sellers, S.R. Talbot, A.J. Cawthorn and W. B. Ford, called “The Population Biology of Abalone (Haliotis species) in Tasmania. I. Blacklip Abalone (H. rubra) from the North Coast and Islands of Bass Strait”, Sea Fisheries Division, Technical Report No. 48 (ISSN 1034-3288) (1994). The data was donated by S. Waugh. There are 4177 records.\n",
    "\n",
    "We will use the Length measurement. We will assume that the 4177 records is the entire population. Compute the population mean.\n",
    "\n",
    "(a) Draw 10,000 samples of 20 records at random with replacement. Use each sample to compute a centered 90% confidence interval for the population mean, using the t-distribution. For what fraction of samples does the true population mean lie inside the interval?\n",
    "\n",
    "(b) Draw 10,000 samples of 10 records at random with replacement. Use each sample to compute a centered 90% confidence interval for the population mean, using the t-distribution. For what fraction of samples does the true population mean lie inside the interval?\n",
    "\n",
    "(c) Draw 10,000 samples of 10 records at random with replacement. Use each sample to compute a centered 90% confidence interval for the population mean, using a normal model (which you really shouldn’t, because the sample is too small). For what fraction of samples does the true population mean lie inside the interval?\n",
    "\n",
    "(d) Now repeat the last two subexercises, but using only three records. What conclusion do you draw?"
   ]
  },
  {
   "cell_type": "markdown",
   "metadata": {
    "deletable": false,
    "editable": false,
    "nbgrader": {
     "checksum": "6b61f0ffa111ce30d6afed0776e59e21",
     "grade": false,
     "grade_id": "cell-57f92bdb8e7b47fb",
     "locked": true,
     "schema_version": 1,
     "solution": false
    }
   },
   "source": [
    "#### Load the dataset \"abalone.data.txt\"\n",
    "\n",
    "Hint: Use the Length column for generating samples"
   ]
  },
  {
   "cell_type": "code",
   "execution_count": null,
   "metadata": {},
   "outputs": [],
   "source": [
    "df = pd.read_csv(\"./data/abalone.data.txt\",header=None,names = [\"Sex\",\"Length\",\"Diameter\",\"Height\",\"Whole weight\",\\\n",
    "                                                           \"Shucked weight\",\"Viscera weight\",\"Shell weight\",\"Rings\"])\n",
    "df.head()"
   ]
  },
  {
   "cell_type": "markdown",
   "metadata": {
    "deletable": false,
    "editable": false,
    "nbgrader": {
     "checksum": "9ce97fb941e1fbce554557a11ce3cf8f",
     "grade": false,
     "grade_id": "cell-0ce552e88fb8ee79",
     "locked": true,
     "schema_version": 1,
     "solution": false
    }
   },
   "source": [
    "### Compute the population mean"
   ]
  },
  {
   "cell_type": "code",
   "execution_count": null,
   "metadata": {
    "deletable": false,
    "nbgrader": {
     "checksum": "460befcb40cf7ef98e6c6c702c8ca547",
     "grade": false,
     "grade_id": "cell-34ceecaa990be22d",
     "locked": false,
     "schema_version": 1,
     "solution": true
    }
   },
   "outputs": [],
   "source": [
    "def population_mean(df):\n",
    "    \n",
    "    \"\"\"\n",
    "    This function should get the dataframe,and \n",
    "    return the population mean of the length column\n",
    "    \"\"\"\n",
    "    # YOUR CODE HERE\n",
    "    raise NotImplementedError()\n",
    "    return pop_mean\n",
    "\n",
    "\n",
    "## computing the population mean\n",
    "pop_mean = population_mean(df)\n",
    "print(\"Population Mean:\",population_mean(df))"
   ]
  },
  {
   "cell_type": "code",
   "execution_count": null,
   "metadata": {
    "deletable": false,
    "editable": false,
    "nbgrader": {
     "checksum": "7b2a296f4c3ac59ba55a3509b4bad283",
     "grade": true,
     "grade_id": "cell-3b68c5535c09b21c",
     "locked": true,
     "points": 4,
     "schema_version": 1,
     "solution": false
    }
   },
   "outputs": [],
   "source": [
    "# This cell is for grading purpose . Please ignore it."
   ]
  },
  {
   "cell_type": "code",
   "execution_count": null,
   "metadata": {
    "deletable": false,
    "nbgrader": {
     "checksum": "627657868ab945d31fa8cab658b8adfa",
     "grade": false,
     "grade_id": "cell-106eb4a468a9fe84",
     "locked": false,
     "schema_version": 1,
     "solution": true
    }
   },
   "outputs": [],
   "source": [
    "def generate_samples(sample_size,record_size,df): \n",
    "    np.random.seed(2)\n",
    "    \n",
    "    \"\"\"\n",
    "    This function should get the dataframe,sample size , record size and \n",
    "    return a list containting 10000 samples of record size\n",
    "    \n",
    "    e,g for sample_size = 5 and record_size = 2 \n",
    "    [array([0.5 , 0.51]),\n",
    "     array([0.47, 0.5 ]),\n",
    "     array([0.425, 0.545]),\n",
    "     array([0.43, 0.58]),\n",
    "     array([0.47 , 0.585])]\n",
    "    \"\"\"\n",
    "    # YOUR CODE HERE\n",
    "    raise NotImplementedError()\n",
    "    return samples\n",
    "        \n",
    "def T_compute_fraction_of_samples(samples,confidence,pop_mean):\n",
    "    \n",
    "    \"\"\"\n",
    "    USING T- DISTRIBUTION\n",
    "    python: scipy.stats.t\n",
    "    This function should get the samples,confidence, population mean and \n",
    "    return a fraction of samples does the true population mean lie inside the interval\n",
    "    \n",
    "    e.g it should return 0.50 for 50% inside the interval\n",
    "    \"\"\"\n",
    "    # YOUR CODE HERE\n",
    "    raise NotImplementedError()\n",
    "\n",
    "def normal_compute_fraction_of_samples(samples,z_critical,pop_mean):\n",
    "    \n",
    "    \"\"\"\n",
    "    USING NORMAL - DISTRIBUTION\n",
    "    \n",
    "    \n",
    "    python: scipy.stats.t\n",
    "    This function should get the samples,z_critical, population mean and \n",
    "    return a fraction of samples does the true population mean lie inside the interval\n",
    "    \n",
    "    Note:\n",
    "    z_critical for 90% confidence is 1.645\n",
    "    z_critical for 95% confidence is 1.96\n",
    "    z_critical for 85% confidence is 1.44\n",
    "    \n",
    "    e.g it should return 0.50 for 50% inside the interval\n",
    "    \"\"\"\n",
    "    # YOUR CODE HERE\n",
    "    raise NotImplementedError()\n"
   ]
  },
  {
   "cell_type": "markdown",
   "metadata": {
    "deletable": false,
    "editable": false,
    "nbgrader": {
     "checksum": "2a23e7de5ccd267c2e57b33dc8bc23a8",
     "grade": false,
     "grade_id": "cell-125f7904175f68e4",
     "locked": true,
     "schema_version": 1,
     "solution": false
    }
   },
   "source": [
    "### Task 2 (a)"
   ]
  },
  {
   "cell_type": "code",
   "execution_count": null,
   "metadata": {},
   "outputs": [],
   "source": [
    "sample_size = 10000\n",
    "record_size = 20\n",
    "samples = generate_samples(sample_size,record_size,df)\n",
    "confidence = 0.90\n",
    "print(\"Fraction of samples does the true population mean lie inside the interval(20 records):\",\\\n",
    "      T_compute_fraction_of_samples(samples,confidence,pop_mean))"
   ]
  },
  {
   "cell_type": "code",
   "execution_count": null,
   "metadata": {
    "deletable": false,
    "editable": false,
    "nbgrader": {
     "checksum": "950e8a43d880819071fc2d977710a79d",
     "grade": true,
     "grade_id": "cell-7141e481932cfe39",
     "locked": true,
     "points": 6,
     "schema_version": 1,
     "solution": false
    }
   },
   "outputs": [],
   "source": [
    "# This cell is for grading purpose . Please ignore it."
   ]
  },
  {
   "cell_type": "markdown",
   "metadata": {
    "deletable": false,
    "editable": false,
    "nbgrader": {
     "checksum": "ec096916f7a8854d26e926729b49dd05",
     "grade": false,
     "grade_id": "cell-8838c6c0a3521610",
     "locked": true,
     "schema_version": 1,
     "solution": false
    }
   },
   "source": [
    "### Task 2 (b)"
   ]
  },
  {
   "cell_type": "code",
   "execution_count": null,
   "metadata": {},
   "outputs": [],
   "source": [
    "sample_size = 10000\n",
    "record_size = 10\n",
    "samples = generate_samples(sample_size,record_size,df)\n",
    "confidence = 0.90\n",
    "print(\"Fraction of samples does the true population mean lie inside the interval(10 records):\",\\\n",
    "      T_compute_fraction_of_samples(samples,confidence,pop_mean))"
   ]
  },
  {
   "cell_type": "code",
   "execution_count": null,
   "metadata": {
    "deletable": false,
    "editable": false,
    "nbgrader": {
     "checksum": "c09620a0f9ccff948e06ccfb6553b747",
     "grade": true,
     "grade_id": "cell-759c773632bb93ad",
     "locked": true,
     "points": 6,
     "schema_version": 1,
     "solution": false
    }
   },
   "outputs": [],
   "source": [
    "# This cell is for grading purpose . Please ignore it."
   ]
  },
  {
   "cell_type": "markdown",
   "metadata": {
    "deletable": false,
    "editable": false,
    "nbgrader": {
     "checksum": "a89d1d343abe3c038c8d119241ef4000",
     "grade": false,
     "grade_id": "cell-eba0ea6c0c94fbe5",
     "locked": true,
     "schema_version": 1,
     "solution": false
    }
   },
   "source": [
    "### Task 2 (c)"
   ]
  },
  {
   "cell_type": "code",
   "execution_count": null,
   "metadata": {},
   "outputs": [],
   "source": [
    "sample_size = 10000\n",
    "record_size = 10\n",
    "samples = generate_samples(sample_size,record_size,df)\n",
    "\n",
    "# For 90 percent confidence interval , the z critical value will be 1.645\n",
    "z_critical = 1.645\n",
    "\n",
    "print(\"Fraction of samples does the true population mean lie inside the interval(10 records) using normal model:\",\\\n",
    "      normal_compute_fraction_of_samples(samples,z_critical,pop_mean))"
   ]
  },
  {
   "cell_type": "code",
   "execution_count": null,
   "metadata": {
    "deletable": false,
    "editable": false,
    "nbgrader": {
     "checksum": "98bbde6d63817ec5d4fd0c77c49c0b30",
     "grade": true,
     "grade_id": "cell-4832f3751c1bb343",
     "locked": true,
     "points": 6,
     "schema_version": 1,
     "solution": false
    }
   },
   "outputs": [],
   "source": [
    "# This cell is for grading purpose . Please ignore it."
   ]
  },
  {
   "cell_type": "markdown",
   "metadata": {
    "deletable": false,
    "editable": false,
    "nbgrader": {
     "checksum": "9aa80d22dd251536ecf0014e90c78e0c",
     "grade": false,
     "grade_id": "cell-b36773e61649a2f7",
     "locked": true,
     "schema_version": 1,
     "solution": false
    }
   },
   "source": [
    "### Task 2 (d)"
   ]
  },
  {
   "cell_type": "code",
   "execution_count": null,
   "metadata": {},
   "outputs": [],
   "source": [
    "# using t- distribution with three records\n",
    "sample_size = 10000\n",
    "record_size = 3\n",
    "samples = generate_samples(sample_size,record_size,df)\n",
    "confidence = 0.90\n",
    "print(\"Fraction of samples does the true population mean lie inside the interval(3 records):\",\\\n",
    "      T_compute_fraction_of_samples(samples,confidence,pop_mean))\n",
    "\n",
    "# using normal modal with three records\n",
    "sample_size = 10000\n",
    "record_size = 3\n",
    "samples = generate_samples(sample_size,record_size,df)\n",
    "\n",
    "# For 90 percent confidence interval , the z critical value will be 1.645\n",
    "z_critical = 1.645\n",
    "\n",
    "print(\"Fraction of samples does the true population mean lie inside the interval(3 records) using normal model:\",\\\n",
    "      normal_compute_fraction_of_samples(samples,z_critical,pop_mean))"
   ]
  },
  {
   "cell_type": "code",
   "execution_count": null,
   "metadata": {
    "deletable": false,
    "editable": false,
    "nbgrader": {
     "checksum": "5bfb03352f0072f1fd7bca15a4e1f4ce",
     "grade": true,
     "grade_id": "cell-b6dcaaef99d8bc75",
     "locked": true,
     "points": 6,
     "schema_version": 1,
     "solution": false
    }
   },
   "outputs": [],
   "source": [
    "# This cell is for grading purpose . Please ignore it."
   ]
  },
  {
   "cell_type": "markdown",
   "metadata": {
    "deletable": false,
    "editable": false,
    "nbgrader": {
     "checksum": "edb3e52598e11b8f82eebdcaabc83b96",
     "grade": false,
     "grade_id": "cell-f41aa231dcffd39d",
     "locked": true,
     "schema_version": 1,
     "solution": false
    }
   },
   "source": [
    "What conclusion do you draw?\n",
    "\n",
    "write your conclusion in the below cell"
   ]
  },
  {
   "cell_type": "markdown",
   "metadata": {
    "deletable": false,
    "nbgrader": {
     "checksum": "2096c669d0e02b881a570a13d606ce0f",
     "grade": true,
     "grade_id": "cell-998dac42e44daac5",
     "locked": false,
     "points": 2,
     "schema_version": 1,
     "solution": true
    }
   },
   "source": [
    "YOUR ANSWER HERE"
   ]
  },
  {
   "cell_type": "markdown",
   "metadata": {
    "deletable": false,
    "editable": false,
    "nbgrader": {
     "checksum": "ef779f21e89d5922a9c37aa6f7ae74f0",
     "grade": false,
     "grade_id": "cell-7b7419c90b9a23b2",
     "locked": true,
     "schema_version": 1,
     "solution": false
    }
   },
   "source": [
    "<div class=\"alert alert-block alert-success\">\n",
    "<h1>Confidence intervalls, H0</h1>\n",
    "<h2>Topics:</h2>\n",
    "<h3>testing hypothesis</h3>\n",
    "<h3>using confidence intervall, length / position </h3>\n",
    "</div>\n",
    "<div class=\"alert alert-block alert-info\">\n",
    "<h4> python: scipy.stats.t , scipy.stats.norm OR statsmodels.stats.api</h4>\n",
    "</div>"
   ]
  },
  {
   "cell_type": "markdown",
   "metadata": {
    "deletable": false,
    "editable": false,
    "nbgrader": {
     "checksum": "258511e983e7364364570ea6439d83d3",
     "grade": false,
     "grade_id": "cell-faa96c10b78c8651",
     "locked": true,
     "schema_version": 1,
     "solution": false
    }
   },
   "source": [
    "## Question 3:"
   ]
  },
  {
   "cell_type": "markdown",
   "metadata": {
    "deletable": false,
    "editable": false,
    "nbgrader": {
     "checksum": "000db4eb33c51f92dd484a3c11ee0db4",
     "grade": false,
     "grade_id": "cell-59994178ef470799",
     "locked": true,
     "schema_version": 1,
     "solution": false
    }
   },
   "source": [
    "A manufacturer of smartphones states on its website that at least 97% work flawlessly. After a reseller sold 280 smartphones, ten are returned due to defects. Investigate whether the reseller can still trust the manufacturer's claim if the significance level is 5%. Formulate a decision rule (i.e., an integer K for the critical region)."
   ]
  },
  {
   "cell_type": "markdown",
   "metadata": {
    "deletable": false,
    "nbgrader": {
     "checksum": "73a8e844447ed59b0b8c3506af603cba",
     "grade": true,
     "grade_id": "cell-0734ec1e46598d55",
     "locked": false,
     "points": 10,
     "schema_version": 1,
     "solution": true
    }
   },
   "source": [
    "YOUR ANSWER HERE"
   ]
  },
  {
   "cell_type": "markdown",
   "metadata": {
    "deletable": false,
    "editable": false,
    "nbgrader": {
     "checksum": "a72f9b6c296b4580d1255ed30957b0dd",
     "grade": false,
     "grade_id": "cell-a0d99a9809793342",
     "locked": true,
     "schema_version": 1,
     "solution": false
    }
   },
   "source": [
    "## Question 4:"
   ]
  },
  {
   "cell_type": "markdown",
   "metadata": {
    "deletable": false,
    "editable": false,
    "nbgrader": {
     "checksum": "ec25c5bef8cd00b03b0788626c5b040b",
     "grade": false,
     "grade_id": "cell-d43d5b815e0760db",
     "locked": true,
     "schema_version": 1,
     "solution": false
    }
   },
   "source": [
    "A manufacturer lets the failure probability of a technical device under increased load examine. To determine a confidence interval for the unknown probability, a series of experiments is performed.\n",
    "Let $\\pi$ be the probability of failure in a trial.\n",
    "\n",
    "The result of the test series is the sample $(X_1, ..., X_n)$ where\n",
    "\n",
    "$X_i = 1$, if a failure occurs on the i-th attempt, or $= 0$ if there is no failure on the i-th attempt.\n",
    "\n",
    "Then $(X_1, ..., X_n)$ is sampled from $X \\sim B(1, \\pi)$\n",
    "\n",
    "We are looking for a confidence interval for $\\pi$ at level $1 - \\alpha = 0.90$. The results of the following series of experiments are considered:\n",
    "\n",
    "a. with $n = 60$ attempts a total of 12 failures occurred. First calculate the point estimate for $\\pi_{60}$, then the confidence interval according to the formula from the lecture.\n",
    "\n",
    "b. the established confidence interval is too wide for the manufacturer;\n",
    "He therefore orders another 30 attempts with shows 7 more failures. What does the confidence interval look like now?"
   ]
  },
  {
   "cell_type": "markdown",
   "metadata": {
    "deletable": false,
    "editable": false,
    "nbgrader": {
     "checksum": "59a0b15f54fc1b457f0133d90c310e0f",
     "grade": false,
     "grade_id": "cell-7b6f23d85b49d701",
     "locked": true,
     "schema_version": 1,
     "solution": false
    }
   },
   "source": [
    "Write your answer for 4(a) in the below cell"
   ]
  },
  {
   "cell_type": "markdown",
   "metadata": {
    "deletable": false,
    "nbgrader": {
     "checksum": "498cefa7384003cba828f7327cac820b",
     "grade": true,
     "grade_id": "cell-ba2d24bbc22f5f56",
     "locked": false,
     "points": 5,
     "schema_version": 1,
     "solution": true
    }
   },
   "source": [
    "YOUR ANSWER HERE"
   ]
  },
  {
   "cell_type": "markdown",
   "metadata": {
    "deletable": false,
    "editable": false,
    "nbgrader": {
     "checksum": "b501e1529f8f49d7db305122ff6d29af",
     "grade": false,
     "grade_id": "cell-834ec694a4fce000",
     "locked": true,
     "schema_version": 1,
     "solution": false
    }
   },
   "source": [
    "Write your answer for 4(b) in the below cell"
   ]
  },
  {
   "cell_type": "markdown",
   "metadata": {
    "deletable": false,
    "nbgrader": {
     "checksum": "c6e68964783d9be9653c130bb212bd47",
     "grade": true,
     "grade_id": "cell-01ebe8c95383db95",
     "locked": false,
     "points": 5,
     "schema_version": 1,
     "solution": true
    }
   },
   "source": [
    "YOUR ANSWER HERE"
   ]
  },
  {
   "cell_type": "markdown",
   "metadata": {
    "deletable": false,
    "editable": false,
    "nbgrader": {
     "checksum": "0c49bda6294b6b4f901f39e6a50318c4",
     "grade": false,
     "grade_id": "cell-7407b4c7d26fe6e7",
     "locked": true,
     "schema_version": 1,
     "solution": false
    }
   },
   "source": [
    "## Question 5:"
   ]
  },
  {
   "cell_type": "markdown",
   "metadata": {
    "deletable": false,
    "editable": false,
    "nbgrader": {
     "checksum": "958e773be859d0f78429c447e56a16fe",
     "grade": false,
     "grade_id": "cell-cef5beae7559e6b0",
     "locked": true,
     "schema_version": 1,
     "solution": false
    }
   },
   "source": [
    "Two urns that are not distinguishable externally are known to contain white and black balls, in urn 1 30% are white balls and 50% are white balls in urn 2.\n",
    "\n",
    "An urn is chosen randomly, then drawn 50 times. H0 (null hypothesis) is: urn 1 has been chosen.\n",
    "\n",
    "a. which draw results (counts) lead to a rejection of H0 at a 10% level of significance?\n",
    "\n",
    "b. what is the probability that (at a significance level of 10%) the hypothesis \"we draw from urn 1\" was ***not rejected***, although -in reality- the draw was done from urn 2?\n",
    "\n",
    "c. we define the critical region to start at $K=21$ (i.e. $K=[21,22,...)$) s.t. we reject the thesis \"it is urn 1\" if more than 20 white balls are drawn. How big is the error of 1st kind in this case?\n",
    "\n",
    "d. Now: after choosing 50 times, you get 20 times a white ball. For the correct indication of the urn used for the lottery you are awarded a price. On which urn would you bet?"
   ]
  },
  {
   "cell_type": "markdown",
   "metadata": {
    "deletable": false,
    "editable": false,
    "nbgrader": {
     "checksum": "a4123a249acbf1dd482ab6c9fd6b7a79",
     "grade": false,
     "grade_id": "cell-c8351f76d574976a",
     "locked": true,
     "schema_version": 1,
     "solution": false
    }
   },
   "source": [
    "Write your answer for 5(a) in the below cell"
   ]
  },
  {
   "cell_type": "markdown",
   "metadata": {
    "deletable": false,
    "nbgrader": {
     "checksum": "2f01585a45fd9645d1a522e1f210c39c",
     "grade": true,
     "grade_id": "cell-4cc3a2fa19c33b74",
     "locked": false,
     "points": 2.5,
     "schema_version": 1,
     "solution": true
    }
   },
   "source": [
    "YOUR ANSWER HERE"
   ]
  },
  {
   "cell_type": "markdown",
   "metadata": {
    "deletable": false,
    "editable": false,
    "nbgrader": {
     "checksum": "8bbad89c291e9539da04deddd9e38398",
     "grade": false,
     "grade_id": "cell-3b66b0c03d659586",
     "locked": true,
     "schema_version": 1,
     "solution": false
    }
   },
   "source": [
    "Write your answer for 5(b) in the below cell"
   ]
  },
  {
   "cell_type": "markdown",
   "metadata": {
    "deletable": false,
    "nbgrader": {
     "checksum": "f31bdfd782014d667592774b7682cecf",
     "grade": true,
     "grade_id": "cell-625604f242b6c6e8",
     "locked": false,
     "points": 2.5,
     "schema_version": 1,
     "solution": true
    }
   },
   "source": [
    "YOUR ANSWER HERE"
   ]
  },
  {
   "cell_type": "markdown",
   "metadata": {
    "deletable": false,
    "editable": false,
    "nbgrader": {
     "checksum": "2fc4ce2a363761677988a6b870aa55aa",
     "grade": false,
     "grade_id": "cell-9c420357086e8e72",
     "locked": true,
     "schema_version": 1,
     "solution": false
    }
   },
   "source": [
    "Write your answer for 5(c) in the below cell"
   ]
  },
  {
   "cell_type": "markdown",
   "metadata": {
    "deletable": false,
    "nbgrader": {
     "checksum": "db4d2c1b485e0a1b9197486494d58284",
     "grade": true,
     "grade_id": "cell-18f850ebdc2e2ad1",
     "locked": false,
     "points": 2.5,
     "schema_version": 1,
     "solution": true
    }
   },
   "source": [
    "YOUR ANSWER HERE"
   ]
  },
  {
   "cell_type": "markdown",
   "metadata": {
    "deletable": false,
    "editable": false,
    "nbgrader": {
     "checksum": "5e6af836f7c23a3de8cb72719d117e51",
     "grade": false,
     "grade_id": "cell-1a2a173247a4dd51",
     "locked": true,
     "schema_version": 1,
     "solution": false
    }
   },
   "source": [
    "Write your answer for 5(d) in the below cell"
   ]
  },
  {
   "cell_type": "markdown",
   "metadata": {
    "deletable": false,
    "nbgrader": {
     "checksum": "70669bed1a281b25ad81040105e99bc7",
     "grade": true,
     "grade_id": "cell-2156092607d287bf",
     "locked": false,
     "points": 2.5,
     "schema_version": 1,
     "solution": true
    }
   },
   "source": [
    "YOUR ANSWER HERE"
   ]
  },
  {
   "cell_type": "markdown",
   "metadata": {},
   "source": [
    "# <center>Merry Christmas !! </center>"
   ]
  }
 ],
 "metadata": {
  "kernelspec": {
   "display_name": "Python 3",
   "language": "python",
   "name": "python3"
  },
  "language_info": {
   "codemirror_mode": {
    "name": "ipython",
    "version": 3
   },
   "file_extension": ".py",
   "mimetype": "text/x-python",
   "name": "python",
   "nbconvert_exporter": "python",
   "pygments_lexer": "ipython3",
   "version": "3.6.6"
  }
 },
 "nbformat": 4,
 "nbformat_minor": 2
}
