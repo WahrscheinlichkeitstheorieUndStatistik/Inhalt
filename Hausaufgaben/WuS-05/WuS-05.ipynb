{
 "cells": [
  {
   "cell_type": "markdown",
   "metadata": {
    "deletable": false,
    "editable": false,
    "nbgrader": {
     "checksum": "39974a7f0b4db3d43de8647c92b76e7e",
     "grade": false,
     "grade_id": "cell-b1a1095f1919419e",
     "locked": true,
     "schema_version": 1,
     "solution": false
    }
   },
   "source": [
    "# Aufgabe - 5"
   ]
  },
  {
   "cell_type": "markdown",
   "metadata": {},
   "source": [
    "<div class=\"alert alert-block alert-danger\">\n",
    "\n",
    "### Student Nutzername 1: ---------\n",
    "\n",
    "### Student Nutzername 2: ---------\n",
    "\n",
    "</div>"
   ]
  },
  {
   "cell_type": "markdown",
   "metadata": {
    "deletable": false,
    "editable": false,
    "nbgrader": {
     "checksum": "77263cc331a2b007dca6fd55bc8c5b8b",
     "grade": false,
     "grade_id": "cell-eb13eb455dee1351",
     "locked": true,
     "schema_version": 1,
     "solution": false
    }
   },
   "source": [
    "Assume : you are the TEACHER of this lecture and you want to check, how good the students understood the last lecture. Formulate 5 questions and 5 expected answers by which you check how well the students did understand the lecture. \n",
    "In each cell below type one question and answer <br>\n",
    "<b>(10 points )</b> 2 points for each question and answer"
   ]
  },
  {
   "cell_type": "markdown",
   "metadata": {},
   "source": [
    "Qn1:"
   ]
  },
  {
   "cell_type": "markdown",
   "metadata": {},
   "source": [
    "Ans1:"
   ]
  },
  {
   "cell_type": "markdown",
   "metadata": {},
   "source": [
    "Qn2:"
   ]
  },
  {
   "cell_type": "markdown",
   "metadata": {},
   "source": [
    "Ans2:"
   ]
  },
  {
   "cell_type": "markdown",
   "metadata": {},
   "source": [
    "Qn3:"
   ]
  },
  {
   "cell_type": "markdown",
   "metadata": {},
   "source": [
    "Ans3:"
   ]
  },
  {
   "cell_type": "markdown",
   "metadata": {},
   "source": [
    "Qn4:"
   ]
  },
  {
   "cell_type": "markdown",
   "metadata": {},
   "source": [
    "Ans4:"
   ]
  },
  {
   "cell_type": "markdown",
   "metadata": {},
   "source": [
    "Qn5:"
   ]
  },
  {
   "cell_type": "markdown",
   "metadata": {},
   "source": [
    "Ans5:"
   ]
  },
  {
   "cell_type": "code",
   "execution_count": null,
   "metadata": {},
   "outputs": [],
   "source": [
    "import pandas as pd\n",
    "import random\n",
    "import numpy as np\n",
    "from scipy import stats\n",
    "import matplotlib.pyplot as plt\n",
    "%matplotlib inline"
   ]
  },
  {
   "cell_type": "markdown",
   "metadata": {
    "deletable": false,
    "editable": false,
    "nbgrader": {
     "checksum": "190f67fe4d7707711b1cadeb65000a60",
     "grade": false,
     "grade_id": "cell-8f1b1f32e28ed9bd",
     "locked": true,
     "schema_version": 1,
     "solution": false
    }
   },
   "source": [
    "## Question 1: (120 pts)\n",
    "Program a die as a function call :: <br>\n",
    "<b> myDice(NumFaces,repeatCount) </b> <br>\n",
    "where NumFaces is 4,6,8,10,12,20, returning a tuple (or array) of length repeatCount containig the sequence of outcomes. <br>\n",
    "\n",
    "a) print a statistic: for <b>NumFaces</b> = 6 and <b>repeatCount</b> =1200 all numbers should appear roughly 1/6 of the times <br>\n",
    "b) extend the experiment: use N=2,3,4,5,6 many dice and define as the outcome the SUM of all faces (e.g. for N=2 the sample space is now {2,3,..., 11,12} <br>\n",
    "c) build some new statistics: how likely are all possible outcomes when using N dice? <br>\n",
    "d) draw the statistics in a diagram, compare the functions for different N <br> \n",
    "e) can you find a relation between the outcomes? Hint: Wiki Faltung"
   ]
  },
  {
   "cell_type": "markdown",
   "metadata": {
    "deletable": false,
    "editable": false,
    "nbgrader": {
     "checksum": "d3679af9c6cf49d58bb2767a8f25b89a",
     "grade": false,
     "grade_id": "cell-793e0e7c3205b2e4",
     "locked": true,
     "schema_version": 1,
     "solution": false
    }
   },
   "source": [
    "a) print a statistic: for NumFaces = 6 and repeatCount =1200 all numbers should appear roughly 1/6 of the times "
   ]
  },
  {
   "cell_type": "code",
   "execution_count": null,
   "metadata": {
    "deletable": false,
    "nbgrader": {
     "checksum": "06b86e53f0155f33ec87c94d7c57143f",
     "grade": true,
     "grade_id": "cell-b7365cb39b72992e",
     "locked": false,
     "points": 24,
     "schema_version": 1,
     "solution": true
    }
   },
   "outputs": [],
   "source": [
    "# YOUR CODE HERE\n",
    "raise NotImplementedError()"
   ]
  },
  {
   "cell_type": "markdown",
   "metadata": {
    "deletable": false,
    "editable": false,
    "nbgrader": {
     "checksum": "c785de26dfd28fe60899758b1a8e3314",
     "grade": false,
     "grade_id": "cell-c85e66c476a1bf2d",
     "locked": true,
     "schema_version": 1,
     "solution": false
    }
   },
   "source": [
    "b) extend the experiment: use N=2,3,4,5,6 many dice and define as the outcome the SUM of all faces (e.g. for N=2 the sample space is now {2,3,..., 11,12} "
   ]
  },
  {
   "cell_type": "code",
   "execution_count": null,
   "metadata": {
    "deletable": false,
    "nbgrader": {
     "checksum": "32b0bf7ddd03d03a8be7f0d4c465193d",
     "grade": true,
     "grade_id": "cell-f66b3e90c941f2be",
     "locked": false,
     "points": 24,
     "schema_version": 1,
     "solution": true
    }
   },
   "outputs": [],
   "source": [
    "# YOUR CODE HERE\n",
    "raise NotImplementedError()"
   ]
  },
  {
   "cell_type": "markdown",
   "metadata": {
    "deletable": false,
    "editable": false,
    "nbgrader": {
     "checksum": "45d9c4a16e2235615da125c76d0e9b01",
     "grade": false,
     "grade_id": "cell-b23f9ba9a2d411c0",
     "locked": true,
     "schema_version": 1,
     "solution": false
    }
   },
   "source": [
    "c) build some new statistics: how likely are all possible outcomes when using N dice? "
   ]
  },
  {
   "cell_type": "code",
   "execution_count": null,
   "metadata": {
    "deletable": false,
    "nbgrader": {
     "checksum": "68aff4d0fe585f0d54a670667ecb9b1e",
     "grade": true,
     "grade_id": "cell-93956b5ee9e7089f",
     "locked": false,
     "points": 24,
     "schema_version": 1,
     "solution": true
    }
   },
   "outputs": [],
   "source": [
    "# YOUR CODE HERE\n",
    "raise NotImplementedError()"
   ]
  },
  {
   "cell_type": "markdown",
   "metadata": {
    "deletable": false,
    "editable": false,
    "nbgrader": {
     "checksum": "36f7910c0b3b76a0fd85f9899bffe3ad",
     "grade": false,
     "grade_id": "cell-92f1c4cc57718dec",
     "locked": true,
     "schema_version": 1,
     "solution": false
    }
   },
   "source": [
    "d) draw the statistics in a diagram, compare the functions for different N "
   ]
  },
  {
   "cell_type": "code",
   "execution_count": null,
   "metadata": {
    "deletable": false,
    "nbgrader": {
     "checksum": "64e6b74afe255bd1ab5eb41c0dc11421",
     "grade": true,
     "grade_id": "cell-5521accdd15db5c3",
     "locked": false,
     "points": 24,
     "schema_version": 1,
     "solution": true
    }
   },
   "outputs": [],
   "source": [
    "# YOUR CODE HERE\n",
    "raise NotImplementedError()"
   ]
  },
  {
   "cell_type": "markdown",
   "metadata": {
    "deletable": false,
    "editable": false,
    "nbgrader": {
     "checksum": "6be18d69c7fbde1d256728946af1a175",
     "grade": false,
     "grade_id": "cell-3fc87fc4bb97c309",
     "locked": true,
     "schema_version": 1,
     "solution": false
    }
   },
   "source": [
    "e) can you find a relation between the outcomes? Hint: Wiki Faltung"
   ]
  },
  {
   "cell_type": "code",
   "execution_count": null,
   "metadata": {
    "deletable": false,
    "nbgrader": {
     "checksum": "9cf4e661ec0ab11edc85d06d754a2a97",
     "grade": true,
     "grade_id": "cell-65332fdebf6f53cc",
     "locked": false,
     "points": 24,
     "schema_version": 1,
     "solution": true
    }
   },
   "outputs": [],
   "source": [
    "# YOUR CODE HERE\n",
    "raise NotImplementedError()"
   ]
  },
  {
   "cell_type": "markdown",
   "metadata": {},
   "source": [
    "## Question 2: (120 pts)\n",
    "Program an unfair die (120 pts) \n",
    "\n",
    "a)A six-sided die is loaded in a way that each even face is twice as likely as each odd face. All even faces are equally likely, as are all odd faces. Construct a probabilistic model for a single roll of this die and find the probability that the outcome is less than 4.  \n",
    "\n",
    "b) Program this die in python Validate your finding from a) by simulation of the programmed die."
   ]
  },
  {
   "cell_type": "markdown",
   "metadata": {
    "deletable": false,
    "editable": false,
    "nbgrader": {
     "checksum": "ecd9399fa4ec664d3c3fe409647decb3",
     "grade": false,
     "grade_id": "cell-b874603eb3f54c7c",
     "locked": true,
     "schema_version": 1,
     "solution": false
    }
   },
   "source": [
    "Write the probabilistic model in the below cell"
   ]
  },
  {
   "cell_type": "markdown",
   "metadata": {
    "deletable": false,
    "nbgrader": {
     "checksum": "d1f6572d11873ec4b9b16ae84833d3c0",
     "grade": true,
     "grade_id": "cell-d0f8b93541ee749b",
     "locked": false,
     "points": 30,
     "schema_version": 1,
     "solution": true
    }
   },
   "source": [
    "YOUR ANSWER HERE"
   ]
  },
  {
   "cell_type": "code",
   "execution_count": null,
   "metadata": {
    "deletable": false,
    "nbgrader": {
     "checksum": "9b6862879169b019c38f9ad1ecb36155",
     "grade": false,
     "grade_id": "cell-b1f7765e3627f3dc",
     "locked": false,
     "schema_version": 1,
     "solution": true
    }
   },
   "outputs": [],
   "source": [
    "def P_less_than_4(P_odd ,P_even):\n",
    "    \"\"\"\n",
    "    This function should get the prob of odd and even faces and \n",
    "    return the probability that the outcome is less than 4 \n",
    "    \"\"\"\n",
    "    # YOUR CODE HERE\n",
    "    raise NotImplementedError()\n",
    "    return P_4\n",
    "\n",
    "P_odd = None\n",
    "P_even = None\n",
    "print(\"Probability that the outcome is less than 4:\",P_less_than_4(P_odd ,P_even))"
   ]
  },
  {
   "cell_type": "code",
   "execution_count": null,
   "metadata": {
    "deletable": false,
    "editable": false,
    "nbgrader": {
     "checksum": "08ae13b268351ceb3e0452526bcfea6a",
     "grade": true,
     "grade_id": "cell-29883b2595a04ef1",
     "locked": true,
     "points": 30,
     "schema_version": 1,
     "solution": false
    }
   },
   "outputs": [],
   "source": [
    "# This cell is for grading purpose . Please ignore it."
   ]
  },
  {
   "cell_type": "markdown",
   "metadata": {
    "deletable": false,
    "editable": false,
    "nbgrader": {
     "checksum": "4e2156c3f7e1938f023c1f3f9ca808e3",
     "grade": false,
     "grade_id": "cell-cd753d40c8fb9045",
     "locked": true,
     "schema_version": 1,
     "solution": false
    }
   },
   "source": [
    "write the solution to b part in the cell below."
   ]
  },
  {
   "cell_type": "code",
   "execution_count": null,
   "metadata": {
    "deletable": false,
    "nbgrader": {
     "checksum": "f831940004d6cd9bbcb621f3115306b8",
     "grade": false,
     "grade_id": "cell-4971d3c5c549a6e7",
     "locked": false,
     "schema_version": 1,
     "solution": true
    }
   },
   "outputs": [],
   "source": [
    "np.random.seed(1)\n",
    "def vaildate_die(P_odd,P_even): \n",
    "    \"\"\"\n",
    "    This function should get the prob of odd and even faces and \n",
    "    return the dice output of 1000 throws as a list e.g [2 ,4 ,5, 1] for 4 throws \n",
    "    \"\"\"\n",
    "    # YOUR CODE HERE\n",
    "    raise NotImplementedError()\n",
    "    return list(draw)\n",
    "\n",
    "draw = vaildate_die(1/9,2/9)\n",
    "print(\"Probability of outcome less than 4 with simulation:\",\\\n",
    "      np.sum(np.array(draw)<4)/len(draw))  "
   ]
  },
  {
   "cell_type": "code",
   "execution_count": null,
   "metadata": {
    "deletable": false,
    "editable": false,
    "nbgrader": {
     "checksum": "1f17fd0a09b3ebdcc9a4cda16814be50",
     "grade": true,
     "grade_id": "cell-9e3ce64f71709f79",
     "locked": true,
     "points": 60,
     "schema_version": 1,
     "solution": false
    }
   },
   "outputs": [],
   "source": [
    "# This cell is for grading purpose . Please ignore it.\n"
   ]
  },
  {
   "cell_type": "markdown",
   "metadata": {
    "deletable": false,
    "editable": false,
    "nbgrader": {
     "checksum": "ad2440f5f3b304bd32ffc831ecd12a61",
     "grade": false,
     "grade_id": "cell-5fb7cf3bb6bf9da9",
     "locked": true,
     "schema_version": 1,
     "solution": false
    }
   },
   "source": [
    "## Question 3: (60 pts)\n",
    "\n",
    "Analyze Body Mass Index.\n",
    "\n",
    "Load the file „BodyFat.xls“ via pandas into Jupyter. \n",
    "\n",
    "a)  Check all random variables (RVs) „BODYFAT,DENSITY,AGE WEIGHT, HEIGHT, ADIPOSITY, NECK, CHEST, ABDOMEN, HIP, THIGH, KNEE, ANKLE, BICEPS, FOREARM, WRIST“ for outliers and clean them.\n",
    "\n",
    "b)  Center and normalize all RVs (i.e. subtract the mean and divide them by their empirical std-deviation). Compare all via boxplots. Are they similar or do they differ? How?"
   ]
  },
  {
   "cell_type": "markdown",
   "metadata": {
    "deletable": false,
    "editable": false,
    "nbgrader": {
     "checksum": "f5971c1b9c62ba69e16d9129bd35d9b3",
     "grade": false,
     "grade_id": "cell-4a93c2d29f0c8985",
     "locked": true,
     "schema_version": 1,
     "solution": false
    }
   },
   "source": [
    "### Load the file in pandas in the below cell"
   ]
  },
  {
   "cell_type": "code",
   "execution_count": null,
   "metadata": {
    "deletable": false,
    "nbgrader": {
     "checksum": "22a622b039b9a6e48413bea9df0f3517",
     "grade": true,
     "grade_id": "cell-9a95974438351722",
     "locked": false,
     "points": 10,
     "schema_version": 1,
     "solution": true
    }
   },
   "outputs": [],
   "source": [
    "# YOUR CODE HERE\n",
    "raise NotImplementedError()"
   ]
  },
  {
   "cell_type": "markdown",
   "metadata": {
    "deletable": false,
    "editable": false,
    "nbgrader": {
     "checksum": "33c38fa95b9810eee20a593a340f1d38",
     "grade": false,
     "grade_id": "cell-bbde3dd616e1b29a",
     "locked": true,
     "schema_version": 1,
     "solution": false
    }
   },
   "source": [
    "### Write the code in the below cell to remove outliers in the below cell"
   ]
  },
  {
   "cell_type": "code",
   "execution_count": null,
   "metadata": {
    "deletable": false,
    "nbgrader": {
     "checksum": "eb392f673ad89d5e5e19479f5d8d7d58",
     "grade": true,
     "grade_id": "cell-b4f1f7d20a071e49",
     "locked": false,
     "points": 20,
     "schema_version": 1,
     "solution": true
    }
   },
   "outputs": [],
   "source": [
    "# YOUR CODE HERE\n",
    "raise NotImplementedError()"
   ]
  },
  {
   "cell_type": "markdown",
   "metadata": {
    "deletable": false,
    "editable": false,
    "nbgrader": {
     "checksum": "3bcbb4bafc8ed90e43fd7d2e8ace330e",
     "grade": false,
     "grade_id": "cell-f8b4fd3a5fedfeeb",
     "locked": true,
     "schema_version": 1,
     "solution": false
    }
   },
   "source": [
    " ### Write the code in the below cell for center and normalize"
   ]
  },
  {
   "cell_type": "code",
   "execution_count": null,
   "metadata": {
    "deletable": false,
    "nbgrader": {
     "checksum": "d83a918e94a99c526c8256185c48b0b3",
     "grade": true,
     "grade_id": "cell-4926abaa47db8b04",
     "locked": false,
     "points": 20,
     "schema_version": 1,
     "solution": true
    }
   },
   "outputs": [],
   "source": [
    "# YOUR CODE HERE\n",
    "raise NotImplementedError()"
   ]
  },
  {
   "cell_type": "markdown",
   "metadata": {
    "deletable": false,
    "editable": false,
    "nbgrader": {
     "checksum": "ee58262b453d81d82671e2472244223a",
     "grade": false,
     "grade_id": "cell-da291f6d18a3f762",
     "locked": true,
     "schema_version": 1,
     "solution": false
    }
   },
   "source": [
    " ### Write the code in the below cell for plotting in box plot"
   ]
  },
  {
   "cell_type": "code",
   "execution_count": null,
   "metadata": {
    "deletable": false,
    "nbgrader": {
     "checksum": "3adc0e1dd54f541dd4878c92f24223d4",
     "grade": true,
     "grade_id": "cell-80bf27cd31973d3e",
     "locked": false,
     "points": 10,
     "schema_version": 1,
     "solution": true
    }
   },
   "outputs": [],
   "source": [
    "# YOUR CODE HERE\n",
    "raise NotImplementedError()"
   ]
  }
 ],
 "metadata": {
  "kernelspec": {
   "display_name": "Python 3",
   "language": "python",
   "name": "python3"
  },
  "language_info": {
   "codemirror_mode": {
    "name": "ipython",
    "version": 3
   },
   "file_extension": ".py",
   "mimetype": "text/x-python",
   "name": "python",
   "nbconvert_exporter": "python",
   "pygments_lexer": "ipython3",
   "version": "3.6.6"
  }
 },
 "nbformat": 4,
 "nbformat_minor": 2
}
