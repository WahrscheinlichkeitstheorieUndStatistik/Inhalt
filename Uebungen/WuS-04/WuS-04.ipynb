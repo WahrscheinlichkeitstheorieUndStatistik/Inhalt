{
 "cells": [
  {
   "cell_type": "markdown",
   "metadata": {},
   "source": [
    "# Lab Excercise"
   ]
  },
  {
   "cell_type": "code",
   "execution_count": 1,
   "metadata": {},
   "outputs": [],
   "source": [
    "import numpy as np\n",
    "import math"
   ]
  },
  {
   "cell_type": "markdown",
   "metadata": {},
   "source": [
    "## Task1 :\n",
    "ChessTournament: <br>\n",
    "\n",
    "In a chess tournament, 50% of the players are of type 1; 25% are of type 2; and 25% are of type 3. The probability that I can win against an opponent of type 1 is 50%, against one of type 2 is 30% and against one of type 3 is 10%.<br> \n",
    "\n",
    "Given that I win, what is the probability that I played against an opponent of type 1? "
   ]
  },
  {
   "cell_type": "markdown",
   "metadata": {},
   "source": [
    "## Solution:\n"
   ]
  },
  {
   "cell_type": "code",
   "execution_count": 4,
   "metadata": {},
   "outputs": [
    {
     "name": "stdout",
     "output_type": "stream",
     "text": [
      "probability that I played against an opponent of type 1 :  0.6666666666666666\n"
     ]
    }
   ],
   "source": [
    "\n",
    "\n",
    "P_playtype1_given_win   #solution\n",
    "print(\"probability that I played against an opponent of type 1 : \",P_playtype1_given_win)"
   ]
  },
  {
   "cell_type": "markdown",
   "metadata": {},
   "source": [
    "## Task 2:\n",
    "<img src = \"image/image1.png\" > \n",
    "1) How likely is it that you read a voltage at E ? Switch i  closed with a likelyhood of p.\n",
    "\n",
    "2)  Given there is voltage at E , how likely is it that switch 3 is closed? "
   ]
  },
  {
   "cell_type": "markdown",
   "metadata": {},
   "source": [
    "## Solution\n"
   ]
  },
  {
   "cell_type": "markdown",
   "metadata": {},
   "source": [
    "## Task 3\n",
    "Monty Hall problem"
   ]
  },
  {
   "cell_type": "code",
   "execution_count": 124,
   "metadata": {},
   "outputs": [],
   "source": [
    "import random\n",
    "\n",
    "def monty(strategy):\n",
    "    doors = (1,2,3)\n",
    "    car =  random.choice(doors)\n",
    "    pick =  random.choice(doors)  \n",
    "    opened = random.choice([d for d in doors if d!= car and d!=pick])\n",
    "    if strategy == \"switch\":\n",
    "        pick = next(d for d in doors if d != pick and d != opened)\n",
    "    return (pick==car)"
   ]
  },
  {
   "cell_type": "code",
   "execution_count": 132,
   "metadata": {},
   "outputs": [
    {
     "data": {
      "text/plain": [
       "True"
      ]
     },
     "execution_count": 132,
     "metadata": {},
     "output_type": "execute_result"
    }
   ],
   "source": [
    "monty(\"switch\")"
   ]
  },
  {
   "cell_type": "markdown",
   "metadata": {},
   "source": [
    "\n",
    "## Now generalize the code to 7 doors, and opening 3 doors."
   ]
  },
  {
   "cell_type": "code",
   "execution_count": 1,
   "metadata": {},
   "outputs": [],
   "source": [
    "#solution\n"
   ]
  },
  {
   "cell_type": "markdown",
   "metadata": {},
   "source": [
    "## Task 4"
   ]
  },
  {
   "cell_type": "markdown",
   "metadata": {},
   "source": [
    "1) Bernoulli Distribution"
   ]
  },
  {
   "cell_type": "markdown",
   "metadata": {},
   "source": [
    "Bernoulli: X∼Bern(p), 0<p<1, p∈ℝ, P(x) = 1-p if x=0, 00p if x=1\n",
    "\n",
    "draw it (use code from lecture) Expected value =?"
   ]
  },
  {
   "cell_type": "code",
   "execution_count": 57,
   "metadata": {},
   "outputs": [
    {
     "name": "stdout",
     "output_type": "stream",
     "text": [
      "Help on method pmf in module scipy.stats._distn_infrastructure:\n",
      "\n",
      "pmf(k, *args, **kwds) method of scipy.stats._discrete_distns.binom_gen instance\n",
      "    Probability mass function at k of the given RV.\n",
      "    \n",
      "    Parameters\n",
      "    ----------\n",
      "    k : array_like\n",
      "        Quantiles.\n",
      "    arg1, arg2, arg3,... : array_like\n",
      "        The shape parameter(s) for the distribution (see docstring of the\n",
      "        instance object for more information)\n",
      "    loc : array_like, optional\n",
      "        Location parameter (default=0).\n",
      "    \n",
      "    Returns\n",
      "    -------\n",
      "    pmf : array_like\n",
      "        Probability mass function evaluated at k\n",
      "\n"
     ]
    }
   ],
   "source": [
    "help(binom.pmf)"
   ]
  },
  {
   "cell_type": "code",
   "execution_count": 133,
   "metadata": {},
   "outputs": [],
   "source": [
    "#binom(k,n,p)\n",
    "# k success out of n with success probability P"
   ]
  },
  {
   "cell_type": "code",
   "execution_count": 134,
   "metadata": {},
   "outputs": [
    {
     "name": "stdout",
     "output_type": "stream",
     "text": [
      "0 0.00097656\n",
      "1 0.00976563\n",
      "2 0.04394531\n",
      "3 0.11718750\n",
      "4 0.20507813\n",
      "5 0.24609375\n",
      "6 0.20507813\n",
      "7 0.11718750\n",
      "8 0.04394531\n",
      "9 0.00976563\n",
      "10 0.00097656\n"
     ]
    },
    {
     "data": {
      "text/plain": [
       "Text(0,0.5,'Probability of success')"
      ]
     },
     "execution_count": 134,
     "metadata": {},
     "output_type": "execute_result"
    },
    {
     "data": {
      "image/png": "[encoded data removed]",
      "text/plain": [
       "<Figure size 432x288 with 1 Axes>"
      ]
     },
     "metadata": {},
     "output_type": "display_data"
    }
   ],
   "source": [
    "# Solution here"
   ]
  },
  {
   "cell_type": "code",
   "execution_count": 135,
   "metadata": {},
   "outputs": [
    {
     "data": {
      "text/plain": [
       "<matplotlib.legend.Legend at 0x7f346c1617b8>"
      ]
     },
     "execution_count": 135,
     "metadata": {},
     "output_type": "execute_result"
    },
    {
     "data": {
      "image/png": "[encoded data removed]",
      "text/plain": [
       "<Figure size 576x360 with 1 Axes>"
      ]
     },
     "metadata": {},
     "output_type": "display_data"
    }
   ],
   "source": []
  },
  {
   "cell_type": "markdown",
   "metadata": {},
   "source": [
    "\n",
    "2) Experiment: throw 3 dice, outcome: the sum of all faces\n",
    "\n",
    "detemine Omega (sample space), Then draw the random var and deterime the Expected value"
   ]
  },
  {
   "cell_type": "code",
   "execution_count": 136,
   "metadata": {},
   "outputs": [
    {
     "name": "stdout",
     "output_type": "stream",
     "text": [
      "[(1, 1, 1), (1, 1, 2), (1, 1, 3), (1, 1, 4), (1, 1, 5), (1, 1, 6), (1, 2, 1), (1, 2, 2), (1, 2, 3), (1, 2, 4), (1, 2, 5), (1, 2, 6), (1, 3, 1), (1, 3, 2), (1, 3, 3), (1, 3, 4), (1, 3, 5), (1, 3, 6), (1, 4, 1), (1, 4, 2), (1, 4, 3), (1, 4, 4), (1, 4, 5), (1, 4, 6), (1, 5, 1), (1, 5, 2), (1, 5, 3), (1, 5, 4), (1, 5, 5), (1, 5, 6), (1, 6, 1), (1, 6, 2), (1, 6, 3), (1, 6, 4), (1, 6, 5), (1, 6, 6), (2, 1, 1), (2, 1, 2), (2, 1, 3), (2, 1, 4), (2, 1, 5), (2, 1, 6), (2, 2, 1), (2, 2, 2), (2, 2, 3), (2, 2, 4), (2, 2, 5), (2, 2, 6), (2, 3, 1), (2, 3, 2), (2, 3, 3), (2, 3, 4), (2, 3, 5), (2, 3, 6), (2, 4, 1), (2, 4, 2), (2, 4, 3), (2, 4, 4), (2, 4, 5), (2, 4, 6), (2, 5, 1), (2, 5, 2), (2, 5, 3), (2, 5, 4), (2, 5, 5), (2, 5, 6), (2, 6, 1), (2, 6, 2), (2, 6, 3), (2, 6, 4), (2, 6, 5), (2, 6, 6), (3, 1, 1), (3, 1, 2), (3, 1, 3), (3, 1, 4), (3, 1, 5), (3, 1, 6), (3, 2, 1), (3, 2, 2), (3, 2, 3), (3, 2, 4), (3, 2, 5), (3, 2, 6), (3, 3, 1), (3, 3, 2), (3, 3, 3), (3, 3, 4), (3, 3, 5), (3, 3, 6), (3, 4, 1), (3, 4, 2), (3, 4, 3), (3, 4, 4), (3, 4, 5), (3, 4, 6), (3, 5, 1), (3, 5, 2), (3, 5, 3), (3, 5, 4), (3, 5, 5), (3, 5, 6), (3, 6, 1), (3, 6, 2), (3, 6, 3), (3, 6, 4), (3, 6, 5), (3, 6, 6), (4, 1, 1), (4, 1, 2), (4, 1, 3), (4, 1, 4), (4, 1, 5), (4, 1, 6), (4, 2, 1), (4, 2, 2), (4, 2, 3), (4, 2, 4), (4, 2, 5), (4, 2, 6), (4, 3, 1), (4, 3, 2), (4, 3, 3), (4, 3, 4), (4, 3, 5), (4, 3, 6), (4, 4, 1), (4, 4, 2), (4, 4, 3), (4, 4, 4), (4, 4, 5), (4, 4, 6), (4, 5, 1), (4, 5, 2), (4, 5, 3), (4, 5, 4), (4, 5, 5), (4, 5, 6), (4, 6, 1), (4, 6, 2), (4, 6, 3), (4, 6, 4), (4, 6, 5), (4, 6, 6), (5, 1, 1), (5, 1, 2), (5, 1, 3), (5, 1, 4), (5, 1, 5), (5, 1, 6), (5, 2, 1), (5, 2, 2), (5, 2, 3), (5, 2, 4), (5, 2, 5), (5, 2, 6), (5, 3, 1), (5, 3, 2), (5, 3, 3), (5, 3, 4), (5, 3, 5), (5, 3, 6), (5, 4, 1), (5, 4, 2), (5, 4, 3), (5, 4, 4), (5, 4, 5), (5, 4, 6), (5, 5, 1), (5, 5, 2), (5, 5, 3), (5, 5, 4), (5, 5, 5), (5, 5, 6), (5, 6, 1), (5, 6, 2), (5, 6, 3), (5, 6, 4), (5, 6, 5), (5, 6, 6), (6, 1, 1), (6, 1, 2), (6, 1, 3), (6, 1, 4), (6, 1, 5), (6, 1, 6), (6, 2, 1), (6, 2, 2), (6, 2, 3), (6, 2, 4), (6, 2, 5), (6, 2, 6), (6, 3, 1), (6, 3, 2), (6, 3, 3), (6, 3, 4), (6, 3, 5), (6, 3, 6), (6, 4, 1), (6, 4, 2), (6, 4, 3), (6, 4, 4), (6, 4, 5), (6, 4, 6), (6, 5, 1), (6, 5, 2), (6, 5, 3), (6, 5, 4), (6, 5, 5), (6, 5, 6), (6, 6, 1), (6, 6, 2), (6, 6, 3), (6, 6, 4), (6, 6, 5), (6, 6, 6)]\n",
      "X        P(X)\n",
      "____________\n",
      "x: 3.0 | P(x) 0.004629629629629629\n",
      "x: 4.0 | P(x) 0.013888888888888888\n",
      "x: 5.0 | P(x) 0.027777777777777776\n",
      "x: 6.0 | P(x) 0.046296296296296294\n",
      "x: 7.0 | P(x) 0.06944444444444445\n",
      "x: 8.0 | P(x) 0.09722222222222222\n",
      "x: 9.0 | P(x) 0.11574074074074074\n",
      "x: 10.0 | P(x) 0.125\n",
      "x: 11.0 | P(x) 0.125\n",
      "x: 12.0 | P(x) 0.11574074074074074\n",
      "x: 13.0 | P(x) 0.09722222222222222\n",
      "x: 14.0 | P(x) 0.06944444444444445\n",
      "x: 15.0 | P(x) 0.046296296296296294\n",
      "x: 16.0 | P(x) 0.027777777777777776\n",
      "x: 17.0 | P(x) 0.013888888888888888\n",
      "x: 18.0 | P(x) 0.004629629629629629\n",
      "Expected value: 10.5\n"
     ]
    },
    {
     "data": {
      "text/plain": [
       "Text(0,0.5,'Probability')"
      ]
     },
     "execution_count": 136,
     "metadata": {},
     "output_type": "execute_result"
    },
    {
     "data": {
      "image/png": "[encoded data removed]",
      "text/plain": [
       "<Figure size 432x288 with 1 Axes>"
      ]
     },
     "metadata": {},
     "output_type": "display_data"
    }
   ],
   "source": []
  },
  {
   "cell_type": "markdown",
   "metadata": {},
   "source": [
    "## Task 5"
   ]
  },
  {
   "cell_type": "markdown",
   "metadata": {},
   "source": [
    "<img src=\"image/roulette.png\" alt=\"drawing\" width=\"200\"/>\n",
    "On the Roullete wheel, \n",
    "\n",
    "* the bet is: **straight up == bet on any single number**, \n",
    "* use the European wheel (37 fields, one field \"0\" => bank take it all.\n",
    "\n",
    "## Draw the random var, calc. the expected value."
   ]
  },
  {
   "cell_type": "code",
   "execution_count": null,
   "metadata": {},
   "outputs": [],
   "source": [
    "# Solution"
   ]
  },
  {
   "cell_type": "markdown",
   "metadata": {},
   "source": [
    "## Task 6"
   ]
  },
  {
   "cell_type": "markdown",
   "metadata": {},
   "source": [
    "## Setting:\n",
    "\n",
    "Today is the 6. MAY 2017 (in the morning), BVB has 57 pts, Hoffenheim 58 pts., today there is  fixture of BVB versuf Hoffenheim (direct) and then there are two more match days.\n",
    "\n",
    "To answer the title question we have to respect five more relevant games in total till the end of Meisterschaft:\n",
    "\n",
    "1. BVB - HOFh (today)\n",
    "2. BVB - Someone (next)\n",
    "3. HOFh - Someone (next)\n",
    "4. someone - BVB (last)\n",
    "5. someone - HOFh (last)\n",
    "\n",
    "Each game can have three outcomes: loss, draw, win (3 values per game end).\n",
    "So we model the succession of all games as a tree, branching factor three, depth 5 layers and enumerate all possible paths through it via enumerating all 5- tuples which have at each place ( loss or draw or win ).\n",
    "\n",
    "\n",
    "## Algorithm:\n",
    "\n",
    " We use a frequentivist approach.\n",
    "\n",
    " the outcomes of a game are coded: 0 == loss, 1 == draw, 2 == win\n",
    " \n",
    " we assume : Laplace experiments i.e. all outcomes are equally likely, i.e. 1/3 each\n",
    " \n",
    " NB: since this factor appears EVERYWHERE it factors out and thus does not appear anywhere...\n",
    " \n",
    " \n",
    "We also model the current prior (i.e. CURRENT stands in the match table)!\n",
    " \n",
    "ON top of these atomic events we use a utility function: this function scores 0, +1 , +3 for BVB if they loose, draw or win.\n",
    "\n",
    "The same for HOFh:: 0, -1 , -3 (since this is the utility for BVB !)\n",
    " \n",
    "We then apply the utility to all tuples and sum the values of each tuple. If this sum is positive BVB stays in lead.\n",
    " \n",
    "We then build the ratio of positive outcomes versus ALL outcomes (i.e. proboabiltiy defined as a the limit of ratios)\n",
    " \n",
    "TASK: GENERALIZE this approach by using a Baysian model for success, \n",
    " \n",
    "for example: \n",
    " \n",
    "+ model different expectations for away and home games\n",
    "+ model that draws are much more unlikely then wins / losses\n",
    "+ model how likely it is to beat a team currently ahead of BVB\n",
    "+ likelihoods to win vs a certian opponent based on wining / loss data of the running season etc\n"
   ]
  },
  {
   "cell_type": "code",
   "execution_count": 2,
   "metadata": {},
   "outputs": [],
   "source": [
    "def BVB(prior):\n",
    "    #utility fct of a BVB game result for BVB\n",
    "    BVBut = np.array([0,1,3])\n",
    "    #utility fct of a HOFh game result for BVB\n",
    "    HOFut = np.array([0,-1,-3])\n",
    "    AllPermMat = np.empty(shape=(0,5))\n",
    "    for j in range(3):\n",
    "        for k in range(3):\n",
    "            for l in range(3):\n",
    "                for m in range(3):\n",
    "                    for n in range(3):\n",
    "                        myvalues=[BVBut[j],BVBut[k],HOFut[l],BVBut[m],HOFut[n]]\n",
    "                        AllPermMat = np.vstack((AllPermMat,myvalues))\n",
    "    AllPermMat[:,0] += prior\n",
    "    return AllPermMat       "
   ]
  },
  {
   "cell_type": "code",
   "execution_count": 3,
   "metadata": {},
   "outputs": [
    {
     "data": {
      "text/plain": [
       "(243, 5)"
      ]
     },
     "execution_count": 3,
     "metadata": {},
     "output_type": "execute_result"
    }
   ],
   "source": [
    "#test it, plausible?\n",
    "prior = 0\n",
    "A=BVB(prior)\n",
    "A.shape"
   ]
  },
  {
   "cell_type": "code",
   "execution_count": 4,
   "metadata": {},
   "outputs": [
    {
     "data": {
      "text/plain": [
       "array([[ 0.,  0.,  0.,  0.,  0.],\n",
       "       [ 0.,  0.,  0.,  0., -1.],\n",
       "       [ 0.,  0.,  0.,  0., -3.],\n",
       "       ...,\n",
       "       [ 3.,  3., -3.,  3.,  0.],\n",
       "       [ 3.,  3., -3.,  3., -1.],\n",
       "       [ 3.,  3., -3.,  3., -3.]])"
      ]
     },
     "execution_count": 4,
     "metadata": {},
     "output_type": "execute_result"
    }
   ],
   "source": [
    "A"
   ]
  },
  {
   "cell_type": "markdown",
   "metadata": {},
   "source": [
    "Next is the siutation on SAT morning BEFORE they have played versus each other! BVB has a prior of -1 since the lagg back."
   ]
  },
  {
   "cell_type": "code",
   "execution_count": 5,
   "metadata": {},
   "outputs": [],
   "source": [
    "prior = -1\n",
    "A=BVB(prior)"
   ]
  },
  {
   "cell_type": "code",
   "execution_count": 6,
   "metadata": {},
   "outputs": [
    {
     "data": {
      "text/plain": [
       "array([[-1.,  0.,  0.,  0.,  0.],\n",
       "       [-1.,  0.,  0.,  0., -1.],\n",
       "       [-1.,  0.,  0.,  0., -3.],\n",
       "       ...,\n",
       "       [ 2.,  3., -3.,  3.,  0.],\n",
       "       [ 2.,  3., -3.,  3., -1.],\n",
       "       [ 2.,  3., -3.,  3., -3.]])"
      ]
     },
     "execution_count": 6,
     "metadata": {},
     "output_type": "execute_result"
    }
   ],
   "source": [
    "A"
   ]
  },
  {
   "cell_type": "code",
   "execution_count": 7,
   "metadata": {},
   "outputs": [
    {
     "data": {
      "text/plain": [
       "(243,)"
      ]
     },
     "execution_count": 7,
     "metadata": {},
     "output_type": "execute_result"
    }
   ],
   "source": [
    "sumA = np.sum(A,axis=1)\n",
    "sumA.shape"
   ]
  },
  {
   "cell_type": "code",
   "execution_count": 8,
   "metadata": {},
   "outputs": [
    {
     "data": {
      "text/plain": [
       "114"
      ]
     },
     "execution_count": 8,
     "metadata": {},
     "output_type": "execute_result"
    }
   ],
   "source": [
    "wins = (sumA>0).nonzero()\n",
    "len(wins[0])"
   ]
  },
  {
   "cell_type": "code",
   "execution_count": 9,
   "metadata": {},
   "outputs": [
    {
     "data": {
      "text/plain": [
       "0.4691358024691358"
      ]
     },
     "execution_count": 9,
     "metadata": {},
     "output_type": "execute_result"
    }
   ],
   "source": [
    "len(wins[0])/(1.0*sumA.shape[0])"
   ]
  },
  {
   "cell_type": "markdown",
   "metadata": {},
   "source": [
    "## 1) Now it's SAT evening: BVB has beaten HOFh 2:1, how much did the odds change?\n",
    "## 2) knowing that teams may hav \"a run\" how can this information be added to the prior?\n",
    "## 3) How can be add a negative history to the prior?"
   ]
  },
  {
   "cell_type": "code",
   "execution_count": null,
   "metadata": {},
   "outputs": [],
   "source": [
    "# Solution"
   ]
  }
 ],
 "metadata": {
  "celltoolbar": "Create Assignment",
  "kernelspec": {
   "display_name": "Python 3",
   "language": "python",
   "name": "python3"
  },
  "language_info": {
   "codemirror_mode": {
    "name": "ipython",
    "version": 3
   },
   "file_extension": ".py",
   "mimetype": "text/x-python",
   "name": "python",
   "nbconvert_exporter": "python",
   "pygments_lexer": "ipython3",
   "version": "3.6.6"
  }
 },
 "nbformat": 4,
 "nbformat_minor": 2
}
