{
 "cells": [
  {
   "cell_type": "markdown",
   "metadata": {},
   "source": [
    "<div class=\"alert alert-block alert-info\">\n",
    "<h1> A small library for simple discrete Probability tasks like card games, urns etc.</h1>\n",
    "<h2> classes: ProbDist(dict), Dist(Counter)</h2>\n",
    "<h2> functions: P(event,space), such_that, cross, choose, ball, combos, such_that,  joint</h2>\n",
    "</div>"
   ]
  },
  {
   "cell_type": "code",
   "execution_count": 120,
   "metadata": {},
   "outputs": [],
   "source": [
    "import itertools #for combos\n",
    "from fractions import Fraction #for results of P\n",
    "from math import factorial #for choose\n",
    "import random #to sample randomly\n",
    "from collections import Counter # for Dist class"
   ]
  },
  {
   "cell_type": "markdown",
   "metadata": {},
   "source": [
    "# class: ProbDistribution \n",
    "## a dictionary, which maps {outcomes: probability}, normalies"
   ]
  },
  {
   "cell_type": "code",
   "execution_count": 121,
   "metadata": {},
   "outputs": [],
   "source": [
    "class ProbDist(dict):\n",
    "    \"A Probability Distribution; an {outcome: probability} mapping.\"\n",
    "    def __init__(self, mapping=(), **kwargs):\n",
    "        self.update(mapping, **kwargs)\n",
    "        # Make probabilities sum to 1.0; assert no negative probabilities\n",
    "        total = sum(self.values())\n",
    "        for outcome in self:\n",
    "            self[outcome] = self[outcome] / total\n",
    "            assert self[outcome] >= 0\n",
    "            "
   ]
  },
  {
   "cell_type": "code",
   "execution_count": 122,
   "metadata": {},
   "outputs": [
    {
     "name": "stdout",
     "output_type": "stream",
     "text": [
      "{'SH': 0.7, 'FH': 0.2, 'SB': 0.1, 'FB': 0.0}\n",
      "{'SH': 0.02, 'FH': 0.08, 'SB': 0.81, 'FB': 0.09}\n"
     ]
    }
   ],
   "source": [
    "#test case\n",
    "#Dr Gelb and Dr Blau from simpson paradox\n",
    "# S == success F == fail H == heart B == band aid\n",
    "\n",
    "DrGelb = ProbDist(SH=70, FH=20, SB=10, FB=0)\n",
    "DrBlau = ProbDist(SH= 2, FH= 8, SB=81, FB=9)\n",
    "print(DrGelb)\n",
    "print(DrBlau)"
   ]
  },
  {
   "cell_type": "markdown",
   "metadata": {},
   "source": [
    "## use case: Simpsons Paradox"
   ]
  },
  {
   "cell_type": "code",
   "execution_count": 123,
   "metadata": {},
   "outputs": [
    {
     "name": "stdout",
     "output_type": "stream",
     "text": [
      "True\n",
      "True\n",
      "Dr Gelb is more successful if both parts are taken seperately\n"
     ]
    }
   ],
   "source": [
    "#compare heart ops\n",
    "print(DrGelb['SH']/(DrGelb['SH']+DrGelb['FH']) > DrBlau['SH']/(DrBlau['SH']+DrBlau['FH']))\n",
    "#compare band-aid ops\n",
    "print(DrGelb['SB']/(DrGelb['SB']+DrGelb['FB']) > DrBlau['SB']/(DrBlau['SB']+DrBlau['FB']))\n",
    "print('Dr Gelb is more successful if both parts are taken seperately')"
   ]
  },
  {
   "cell_type": "code",
   "execution_count": 124,
   "metadata": {},
   "outputs": [
    {
     "name": "stdout",
     "output_type": "stream",
     "text": [
      "False\n",
      "yet if we take Total Propabilies NOT so !\n"
     ]
    }
   ],
   "source": [
    "#compare all ops\n",
    "print((DrGelb['SH']+DrGelb['SB']) > (DrBlau['SH']+DrBlau['SB']))\n",
    "print('yet if we take Total Propabilies NOT so !')"
   ]
  },
  {
   "cell_type": "markdown",
   "metadata": {
    "lang": "en"
   },
   "source": [
    "# class: Distribution\n",
    "## similar to ProbDist yet NO normalization AND very versatile constructor"
   ]
  },
  {
   "cell_type": "code",
   "execution_count": 125,
   "metadata": {},
   "outputs": [],
   "source": [
    "class Dist(Counter): \n",
    "    \"A Distribution of {outcome: frequency} pairs.\""
   ]
  },
  {
   "cell_type": "code",
   "execution_count": 126,
   "metadata": {},
   "outputs": [
    {
     "data": {
      "text/plain": [
       "Dist({1: 1, 2: 1, 3: 1, 4: 1, 5: 1, 6: 1})"
      ]
     },
     "execution_count": 126,
     "metadata": {},
     "output_type": "execute_result"
    }
   ],
   "source": [
    "#test cases: \n",
    "## A set of equiprobable outcomes:\n",
    "Dist({1, 2, 3, 4, 5, 6})\n"
   ]
  },
  {
   "cell_type": "code",
   "execution_count": 127,
   "metadata": {},
   "outputs": [
    {
     "data": {
      "text/plain": [
       "Dist({'T': 4, 'H': 5})"
      ]
     },
     "execution_count": 127,
     "metadata": {},
     "output_type": "execute_result"
    }
   ],
   "source": [
    "#test cases: \n",
    "##A collection of outcomes, with repetition indicating frequency:\n",
    "Dist('THHHTTHHT')\n"
   ]
  },
  {
   "cell_type": "code",
   "execution_count": 128,
   "metadata": {},
   "outputs": [
    {
     "data": {
      "text/plain": [
       "Dist({1: 1, 2: 1, 3: 1, 4: 1, 5: 1, 6: 1})"
      ]
     },
     "execution_count": 128,
     "metadata": {},
     "output_type": "execute_result"
    }
   ],
   "source": [
    "#test cases: \n",
    "## A set of equiprobable outcomes:\n",
    "Dist({1, 2, 3, 4, 5, 6})\n"
   ]
  },
  {
   "cell_type": "code",
   "execution_count": 129,
   "metadata": {},
   "outputs": [
    {
     "data": {
      "text/plain": [
       "Dist({'H': 5, 'T': 4})"
      ]
     },
     "execution_count": 129,
     "metadata": {},
     "output_type": "execute_result"
    }
   ],
   "source": [
    "#test cases: \n",
    "## A mapping of {outcome: frequency} pairs:\n",
    "Dist({'H': 5, 'T': 4})"
   ]
  },
  {
   "cell_type": "code",
   "execution_count": 130,
   "metadata": {},
   "outputs": [
    {
     "data": {
      "text/plain": [
       "True"
      ]
     },
     "execution_count": 130,
     "metadata": {},
     "output_type": "execute_result"
    }
   ],
   "source": [
    "#test cases: \n",
    "## Keyword arguments:\n",
    "Dist(H=5, T=4) == Dist({'H': 5}, T=4) == Dist('TTTT', H=5)\n"
   ]
  },
  {
   "cell_type": "markdown",
   "metadata": {},
   "source": [
    "# function: P(event,space)"
   ]
  },
  {
   "cell_type": "code",
   "execution_count": 131,
   "metadata": {},
   "outputs": [],
   "source": [
    "def P(event, space): \n",
    "    \"\"\"The probability of an event, given a sample space of equiprobable outcomes. \n",
    "    event: a collection of outcomes, or a predicate that is true of outcomes in the event. \n",
    "    space: a set of outcomes or a probability distribution of {outcome: frequency}.\"\"\"\n",
    "    if callable(event):\n",
    "        event = such_that(event, space)\n",
    "    if isinstance(space, ProbDist):\n",
    "        return sum(space[o] for o in space if o in event)\n",
    "    else:\n",
    "        return Fraction(len(event & space), len(space))\n"
   ]
  },
  {
   "cell_type": "code",
   "execution_count": 132,
   "metadata": {},
   "outputs": [
    {
     "data": {
      "text/plain": [
       "Fraction(1, 2)"
      ]
     },
     "execution_count": 132,
     "metadata": {},
     "output_type": "execute_result"
    }
   ],
   "source": [
    "#test case for P(event,space)\n",
    "D     = {1, 2, 3, 4, 5, 6} # a sample space\n",
    "even  = {   2,    4,    6} # an event\n",
    "\n",
    "P(even, D)"
   ]
  },
  {
   "cell_type": "markdown",
   "metadata": {},
   "source": [
    "# such_that : outcomes in the sample space for which the predicate is true"
   ]
  },
  {
   "cell_type": "code",
   "execution_count": 133,
   "metadata": {},
   "outputs": [],
   "source": [
    "def such_that(predicate, space): \n",
    "    \"\"\"The outcomes in the sample space for which the predicate is true.\n",
    "    If space is a set, return a subset {outcome,...};\n",
    "    if space is a ProbDist, return a ProbDist {outcome: frequency,...};\n",
    "    in both cases only with outcomes where predicate(element) is true.\"\"\"\n",
    "    if isinstance(space, ProbDist):\n",
    "        return ProbDist({o:space[o] for o in space if predicate(o)})\n",
    "    else:\n",
    "        return {o for o in space if predicate(o)}"
   ]
  },
  {
   "cell_type": "code",
   "execution_count": 134,
   "metadata": {},
   "outputs": [],
   "source": [
    "#test case, \"B\"oys and \"G\"irls, first letter is OLDER\n",
    "#e.g. 'BG' to denote the outcome in which the older child is a boy and the younger a girl.\n",
    "\n",
    "S = {'BG', 'BB', 'GB', 'GG'}"
   ]
  },
  {
   "cell_type": "code",
   "execution_count": 135,
   "metadata": {},
   "outputs": [
    {
     "data": {
      "text/plain": [
       "Fraction(1, 2)"
      ]
     },
     "execution_count": 135,
     "metadata": {},
     "output_type": "execute_result"
    }
   ],
   "source": [
    "def two_boys(outcome): return outcome.count('B') == 2\n",
    "\n",
    "def older_is_a_boy(outcome): return outcome.startswith('B')\n",
    "\n",
    "P(two_boys, such_that(older_is_a_boy, S))"
   ]
  },
  {
   "cell_type": "code",
   "execution_count": 136,
   "metadata": {},
   "outputs": [
    {
     "data": {
      "text/plain": [
       "Fraction(1, 3)"
      ]
     },
     "execution_count": 136,
     "metadata": {},
     "output_type": "execute_result"
    }
   ],
   "source": [
    "def at_least_one_boy(outcome): return 'B' in outcome\n",
    "\n",
    "P(two_boys, such_that(at_least_one_boy, S))"
   ]
  },
  {
   "cell_type": "code",
   "execution_count": 137,
   "metadata": {},
   "outputs": [
    {
     "data": {
      "text/plain": [
       "{'BB', 'BG', 'GB'}"
      ]
     },
     "execution_count": 137,
     "metadata": {},
     "output_type": "execute_result"
    }
   ],
   "source": [
    "such_that(at_least_one_boy, S)"
   ]
  },
  {
   "cell_type": "markdown",
   "metadata": {},
   "source": [
    "# cross fct (cartesian product)"
   ]
  },
  {
   "cell_type": "code",
   "execution_count": 138,
   "metadata": {},
   "outputs": [],
   "source": [
    "def cross(A, B):\n",
    "    \"The set of ways of concatenating one item from collection A with one from B.\"\n",
    "    return {a + b \n",
    "            for a in A for b in B}\n"
   ]
  },
  {
   "cell_type": "code",
   "execution_count": 139,
   "metadata": {},
   "outputs": [
    {
     "name": "stdout",
     "output_type": "stream",
     "text": [
      "{'♥T', '♥2', '♠8', '♠A', '♠J', '♦7', '♥6', '♣T', '♣A', '♦5', '♠2', '♥A', '♣K', '♥J', '♠4', '♦6', '♠9', '♦2', '♥3', '♠7', '♦J', '♥5', '♠5', '♣8', '♥7', '♦K', '♦9', '♣3', '♣4', '♦A', '♣6', '♠K', '♥K', '♠Q', '♠6', '♣9', '♦4', '♣J', '♠3', '♦3', '♥4', '♥8', '♥9', '♦8', '♠T', '♦Q', '♣7', '♥Q', '♣2', '♣Q', '♣5', '♦T'}\n"
     ]
    }
   ],
   "source": [
    "#test case for \"cross\"\n",
    "suits = u'♥♠♦♣'\n",
    "ranks = u'AKQJT98765432'\n",
    "\n",
    "myDeck = cross(suits,ranks)\n",
    "print(myDeck)"
   ]
  },
  {
   "cell_type": "code",
   "execution_count": 140,
   "metadata": {},
   "outputs": [
    {
     "data": {
      "text/plain": [
       "13"
      ]
     },
     "execution_count": 140,
     "metadata": {},
     "output_type": "execute_result"
    }
   ],
   "source": [
    "#test case for \"cross\": find all cross\n",
    "mycross = {s for s in myDeck if s[0]==u'♣'}\n",
    "len(mycross)"
   ]
  },
  {
   "cell_type": "code",
   "execution_count": 141,
   "metadata": {},
   "outputs": [
    {
     "name": "stdout",
     "output_type": "stream",
     "text": [
      "{'G5', 'G3', 'G7', 'B3', 'B6', 'B5', 'G2', 'G1', 'G6', 'B4', 'B1', 'B7', 'G4', 'B2'}\n"
     ]
    }
   ],
   "source": [
    "#test case for \"cross\"\n",
    "bgbirthdays = cross('BG', '1234567')\n",
    "print(bgbirthdays)"
   ]
  },
  {
   "cell_type": "code",
   "execution_count": 142,
   "metadata": {},
   "outputs": [
    {
     "data": {
      "text/plain": [
       "196"
      ]
     },
     "execution_count": 142,
     "metadata": {},
     "output_type": "execute_result"
    }
   ],
   "source": [
    "#test case for \"cross\"\n",
    "S3 = cross(bgbirthdays, bgbirthdays);len(S3)"
   ]
  },
  {
   "cell_type": "markdown",
   "metadata": {},
   "source": [
    "# choose fct (binomial coefficient)"
   ]
  },
  {
   "cell_type": "code",
   "execution_count": 92,
   "metadata": {},
   "outputs": [],
   "source": [
    "def choose(n, c):\n",
    "    \"Number of ways to choose c items from a list of n items.\"\n",
    "    return factorial(n) // (factorial(n - c) * factorial(c))"
   ]
  },
  {
   "cell_type": "code",
   "execution_count": 93,
   "metadata": {},
   "outputs": [
    {
     "data": {
      "text/plain": [
       "84"
      ]
     },
     "execution_count": 93,
     "metadata": {},
     "output_type": "execute_result"
    }
   ],
   "source": [
    "choose(9, 6)"
   ]
  },
  {
   "cell_type": "markdown",
   "metadata": {},
   "source": [
    "# fill an urn : many balls "
   ]
  },
  {
   "cell_type": "code",
   "execution_count": 94,
   "metadata": {},
   "outputs": [],
   "source": [
    "def balls(color, n):\n",
    "    \"A set of n numbered balls of the given color.\"\n",
    "    return {color + str(i)\n",
    "            for i in range(1, n + 1)}\n"
   ]
  },
  {
   "cell_type": "code",
   "execution_count": 95,
   "metadata": {},
   "outputs": [
    {
     "name": "stdout",
     "output_type": "stream",
     "text": [
      "23\n"
     ]
    },
    {
     "data": {
      "text/plain": [
       "['B5', 'R5', 'W8', 'R9', 'R7', 'W3', 'W7']"
      ]
     },
     "execution_count": 95,
     "metadata": {},
     "output_type": "execute_result"
    }
   ],
   "source": [
    "#test case\n",
    "urn = balls('B', 6) | balls('R', 9) | balls('W', 8)\n",
    "print(len(urn))\n",
    "random.sample(urn,7)"
   ]
  },
  {
   "cell_type": "markdown",
   "metadata": {},
   "source": [
    "# combos => fully generate all combinations"
   ]
  },
  {
   "cell_type": "code",
   "execution_count": 96,
   "metadata": {},
   "outputs": [],
   "source": [
    "def combos(items, n):\n",
    "    \"All combinations of n items; each combo as a space-separated str.\"\n",
    "    return set(map(' '.join, itertools.combinations(items, n)))"
   ]
  },
  {
   "cell_type": "code",
   "execution_count": 97,
   "metadata": {},
   "outputs": [
    {
     "name": "stdout",
     "output_type": "stream",
     "text": [
      "2598960\n"
     ]
    },
    {
     "data": {
      "text/plain": [
       "['♠J ♥6 ♦J ♦3 ♦Q',\n",
       " '♠A ♦9 ♥4 ♦8 ♣2',\n",
       " '♥2 ♠4 ♥3 ♦4 ♠T',\n",
       " '♥6 ♥J ♠Q ♥4 ♠T',\n",
       " '♥2 ♠J ♦7 ♣K ♦J',\n",
       " '♣K ♦2 ♥K ♠T ♣Q',\n",
       " '♥J ♠9 ♥K ♣2 ♣Q']"
      ]
     },
     "execution_count": 97,
     "metadata": {},
     "output_type": "execute_result"
    }
   ],
   "source": [
    "#test case\n",
    "Hands = combos(myDeck, 5)\n",
    "print(len(Hands))\n",
    "random.sample(Hands,7)"
   ]
  },
  {
   "cell_type": "code",
   "execution_count": 99,
   "metadata": {},
   "outputs": [
    {
     "data": {
      "text/plain": [
       "Fraction(33, 16660)"
      ]
     },
     "execution_count": 99,
     "metadata": {},
     "output_type": "execute_result"
    }
   ],
   "source": [
    "#test case\n",
    "flush = {hand for hand in Hands if any(hand.count(suit) == 5 for suit in suits)}\n",
    "P(flush, Hands)"
   ]
  },
  {
   "cell_type": "code",
   "execution_count": 100,
   "metadata": {},
   "outputs": [
    {
     "data": {
      "text/plain": [
       "Fraction(1, 4165)"
      ]
     },
     "execution_count": 100,
     "metadata": {},
     "output_type": "execute_result"
    }
   ],
   "source": [
    "four_kind = {hand for hand in Hands if any(hand.count(rank) == 4 for rank in ranks)}\n",
    "\n",
    "P(four_kind, Hands)"
   ]
  },
  {
   "cell_type": "markdown",
   "metadata": {},
   "source": [
    "## use case: hands which contain 3 aces"
   ]
  },
  {
   "cell_type": "code",
   "execution_count": 146,
   "metadata": {},
   "outputs": [],
   "source": [
    "def _3aces(sample): return sample.count('A') == 3"
   ]
  },
  {
   "cell_type": "code",
   "execution_count": 147,
   "metadata": {},
   "outputs": [
    {
     "data": {
      "text/plain": [
       "Fraction(94, 54145)"
      ]
     },
     "execution_count": 147,
     "metadata": {},
     "output_type": "execute_result"
    }
   ],
   "source": [
    "P(_3aces, Hands)"
   ]
  },
  {
   "cell_type": "code",
   "execution_count": 158,
   "metadata": {},
   "outputs": [
    {
     "name": "stdout",
     "output_type": "stream",
     "text": [
      "184/54145\n"
     ]
    }
   ],
   "source": [
    "#test case 1\n",
    "Hands = combos(myDeck, 6)\n",
    "exact = P(_3aces, Hands)\n",
    "print(exact)"
   ]
  },
  {
   "cell_type": "code",
   "execution_count": 149,
   "metadata": {},
   "outputs": [
    {
     "name": "stdout",
     "output_type": "stream",
     "text": [
      "4\n"
     ]
    }
   ],
   "source": [
    "_3acesin4 = choose(4,3);print(_3acesin4)"
   ]
  },
  {
   "cell_type": "code",
   "execution_count": 152,
   "metadata": {},
   "outputs": [
    {
     "name": "stdout",
     "output_type": "stream",
     "text": [
      "17296\n"
     ]
    }
   ],
   "source": [
    "_3nonacesin48 = choose(48,3);print(_3nonacesin48)"
   ]
  },
  {
   "cell_type": "code",
   "execution_count": 171,
   "metadata": {},
   "outputs": [
    {
     "data": {
      "text/plain": [
       "['R4 R9 B4 R6 R3 B1',\n",
       " 'R4 W4 R9 R2 B5 R1',\n",
       " 'R6 R8 B5 W2 R7 R1',\n",
       " 'B6 B2 R6 R8 B3 B1',\n",
       " 'W3 R6 W2 W5 W8 R1']"
      ]
     },
     "execution_count": 171,
     "metadata": {},
     "output_type": "execute_result"
    }
   ],
   "source": [
    "#test case 2\n",
    "U6 = combos(urn, 6)\n",
    "random.sample(U6, 5)"
   ]
  },
  {
   "cell_type": "markdown",
   "metadata": {},
   "source": [
    "## function: select n balls of a given color in an urn"
   ]
  },
  {
   "cell_type": "code",
   "execution_count": 178,
   "metadata": {},
   "outputs": [],
   "source": [
    "def select(color, n, space=U6):\n",
    "    \"The subset of the sample space with exactly `n` balls of given `color`.\"\n",
    "    return {s for s in space if s.count(color) == n}"
   ]
  },
  {
   "cell_type": "code",
   "execution_count": 180,
   "metadata": {},
   "outputs": [],
   "source": [
    "#test case\n",
    "U6 = combos(urn, 6)\n",
    "N = len(U6)\n",
    "\n",
    "assert N * P(select('R', 6), U6) == choose(9, 6)"
   ]
  },
  {
   "cell_type": "code",
   "execution_count": 174,
   "metadata": {},
   "outputs": [
    {
     "data": {
      "text/plain": [
       "True"
      ]
     },
     "execution_count": 174,
     "metadata": {},
     "output_type": "execute_result"
    }
   ],
   "source": [
    "N * P(select('B', 3) & select('W', 2) & select('R', 1), U6) == choose(6, 3) * choose(8, 2) * choose(9, 1)"
   ]
  },
  {
   "cell_type": "code",
   "execution_count": 175,
   "metadata": {},
   "outputs": [
    {
     "data": {
      "text/plain": [
       "True"
      ]
     },
     "execution_count": 175,
     "metadata": {},
     "output_type": "execute_result"
    }
   ],
   "source": [
    "N * P(select('W', 4), U6) == choose(8, 4) * choose(6 + 9, 2)  # (6 + 9 non-white balls)"
   ]
  },
  {
   "cell_type": "code",
   "execution_count": 176,
   "metadata": {},
   "outputs": [
    {
     "data": {
      "text/plain": [
       "Fraction(3640, 14421)"
      ]
     },
     "execution_count": 176,
     "metadata": {},
     "output_type": "execute_result"
    }
   ],
   "source": [
    "P(select('W', 3), U6)"
   ]
  },
  {
   "cell_type": "markdown",
   "metadata": {},
   "source": [
    "## function: joint gives the distribution of two independent distributions."
   ]
  },
  {
   "cell_type": "code",
   "execution_count": 182,
   "metadata": {},
   "outputs": [],
   "source": [
    "def joint(A, B, combine='{}{}'.format):\n",
    "    \"\"\"The joint distribution of two independent distributions. \n",
    "    Result is all entries of the form {'ab': frequency(a) * frequency(b)}\"\"\"\n",
    "    return Dist({combine(a, b): A[a] * B[b]\n",
    "                 for a in A for b in B})"
   ]
  },
  {
   "cell_type": "code",
   "execution_count": 185,
   "metadata": {},
   "outputs": [
    {
     "data": {
      "text/plain": [
       "Dist({'66': 0.027777777777777776,\n",
       "      '6-': 0.1388888888888889,\n",
       "      '-6': 0.1388888888888889,\n",
       "      '--': 0.6944444444444445})"
      ]
     },
     "execution_count": 185,
     "metadata": {},
     "output_type": "execute_result"
    }
   ],
   "source": [
    "#test case\n",
    "die6 = Dist({6: 1/6, '-': 5/6})\n",
    "\n",
    "two6s = joint(die6, die6)\n",
    "two6s"
   ]
  },
  {
   "cell_type": "code",
   "execution_count": 186,
   "metadata": {},
   "outputs": [],
   "source": [
    "#bernoulli chain, length 2, p = 1/6"
   ]
  },
  {
   "cell_type": "code",
   "execution_count": 192,
   "metadata": {},
   "outputs": [
    {
     "name": "stdout",
     "output_type": "stream",
     "text": [
      "{'♠8', '♦Z', '♠A', '♠J', '♦7', '♣A', '♥A', '♣K', '♥J', '♠Z', '♠9', '♦J', '♠7', '♣8', '♥7', '♦K', '♦9', '♥Z', '♣D', '♦A', '♠K', '♥K', '♣9', '♣J', '♥D', '♦D', '♥8', '♥9', '♦8', '♣Z', '♣7', '♠D'}\n"
     ]
    }
   ],
   "source": [
    "suits = u'♥♠♦♣'\n",
    "skatranks = u'AKDJZ987'\n",
    "\n",
    "my32Deck = cross(suits,skatranks)\n",
    "print(my32Deck)"
   ]
  },
  {
   "cell_type": "code",
   "execution_count": 195,
   "metadata": {},
   "outputs": [],
   "source": [
    "my8Hands = combos(my32Deck,8)"
   ]
  },
  {
   "cell_type": "code",
   "execution_count": 197,
   "metadata": {},
   "outputs": [
    {
     "data": {
      "text/plain": [
       "10518300"
      ]
     },
     "execution_count": 197,
     "metadata": {},
     "output_type": "execute_result"
    }
   ],
   "source": [
    "len(my8Hands)"
   ]
  },
  {
   "cell_type": "code",
   "execution_count": 199,
   "metadata": {},
   "outputs": [
    {
     "data": {
      "text/plain": [
       "set"
      ]
     },
     "execution_count": 199,
     "metadata": {},
     "output_type": "execute_result"
    }
   ],
   "source": [
    "type(my8Hands)"
   ]
  },
  {
   "cell_type": "code",
   "execution_count": 200,
   "metadata": {
    "collapsed": true
   },
   "outputs": [
    {
     "name": "stdout",
     "output_type": "stream",
     "text": [
      "Help on class set in module builtins:\n",
      "\n",
      "class set(object)\n",
      " |  set() -> new empty set object\n",
      " |  set(iterable) -> new set object\n",
      " |  \n",
      " |  Build an unordered collection of unique elements.\n",
      " |  \n",
      " |  Methods defined here:\n",
      " |  \n",
      " |  __and__(self, value, /)\n",
      " |      Return self&value.\n",
      " |  \n",
      " |  __contains__(...)\n",
      " |      x.__contains__(y) <==> y in x.\n",
      " |  \n",
      " |  __eq__(self, value, /)\n",
      " |      Return self==value.\n",
      " |  \n",
      " |  __ge__(self, value, /)\n",
      " |      Return self>=value.\n",
      " |  \n",
      " |  __getattribute__(self, name, /)\n",
      " |      Return getattr(self, name).\n",
      " |  \n",
      " |  __gt__(self, value, /)\n",
      " |      Return self>value.\n",
      " |  \n",
      " |  __iand__(self, value, /)\n",
      " |      Return self&=value.\n",
      " |  \n",
      " |  __init__(self, /, *args, **kwargs)\n",
      " |      Initialize self.  See help(type(self)) for accurate signature.\n",
      " |  \n",
      " |  __ior__(self, value, /)\n",
      " |      Return self|=value.\n",
      " |  \n",
      " |  __isub__(self, value, /)\n",
      " |      Return self-=value.\n",
      " |  \n",
      " |  __iter__(self, /)\n",
      " |      Implement iter(self).\n",
      " |  \n",
      " |  __ixor__(self, value, /)\n",
      " |      Return self^=value.\n",
      " |  \n",
      " |  __le__(self, value, /)\n",
      " |      Return self<=value.\n",
      " |  \n",
      " |  __len__(self, /)\n",
      " |      Return len(self).\n",
      " |  \n",
      " |  __lt__(self, value, /)\n",
      " |      Return self<value.\n",
      " |  \n",
      " |  __ne__(self, value, /)\n",
      " |      Return self!=value.\n",
      " |  \n",
      " |  __new__(*args, **kwargs) from builtins.type\n",
      " |      Create and return a new object.  See help(type) for accurate signature.\n",
      " |  \n",
      " |  __or__(self, value, /)\n",
      " |      Return self|value.\n",
      " |  \n",
      " |  __rand__(self, value, /)\n",
      " |      Return value&self.\n",
      " |  \n",
      " |  __reduce__(...)\n",
      " |      Return state information for pickling.\n",
      " |  \n",
      " |  __repr__(self, /)\n",
      " |      Return repr(self).\n",
      " |  \n",
      " |  __ror__(self, value, /)\n",
      " |      Return value|self.\n",
      " |  \n",
      " |  __rsub__(self, value, /)\n",
      " |      Return value-self.\n",
      " |  \n",
      " |  __rxor__(self, value, /)\n",
      " |      Return value^self.\n",
      " |  \n",
      " |  __sizeof__(...)\n",
      " |      S.__sizeof__() -> size of S in memory, in bytes\n",
      " |  \n",
      " |  __sub__(self, value, /)\n",
      " |      Return self-value.\n",
      " |  \n",
      " |  __xor__(self, value, /)\n",
      " |      Return self^value.\n",
      " |  \n",
      " |  add(...)\n",
      " |      Add an element to a set.\n",
      " |      \n",
      " |      This has no effect if the element is already present.\n",
      " |  \n",
      " |  clear(...)\n",
      " |      Remove all elements from this set.\n",
      " |  \n",
      " |  copy(...)\n",
      " |      Return a shallow copy of a set.\n",
      " |  \n",
      " |  difference(...)\n",
      " |      Return the difference of two or more sets as a new set.\n",
      " |      \n",
      " |      (i.e. all elements that are in this set but not the others.)\n",
      " |  \n",
      " |  difference_update(...)\n",
      " |      Remove all elements of another set from this set.\n",
      " |  \n",
      " |  discard(...)\n",
      " |      Remove an element from a set if it is a member.\n",
      " |      \n",
      " |      If the element is not a member, do nothing.\n",
      " |  \n",
      " |  intersection(...)\n",
      " |      Return the intersection of two sets as a new set.\n",
      " |      \n",
      " |      (i.e. all elements that are in both sets.)\n",
      " |  \n",
      " |  intersection_update(...)\n",
      " |      Update a set with the intersection of itself and another.\n",
      " |  \n",
      " |  isdisjoint(...)\n",
      " |      Return True if two sets have a null intersection.\n",
      " |  \n",
      " |  issubset(...)\n",
      " |      Report whether another set contains this set.\n",
      " |  \n",
      " |  issuperset(...)\n",
      " |      Report whether this set contains another set.\n",
      " |  \n",
      " |  pop(...)\n",
      " |      Remove and return an arbitrary set element.\n",
      " |      Raises KeyError if the set is empty.\n",
      " |  \n",
      " |  remove(...)\n",
      " |      Remove an element from a set; it must be a member.\n",
      " |      \n",
      " |      If the element is not a member, raise a KeyError.\n",
      " |  \n",
      " |  symmetric_difference(...)\n",
      " |      Return the symmetric difference of two sets as a new set.\n",
      " |      \n",
      " |      (i.e. all elements that are in exactly one of the sets.)\n",
      " |  \n",
      " |  symmetric_difference_update(...)\n",
      " |      Update a set with the symmetric difference of itself and another.\n",
      " |  \n",
      " |  union(...)\n",
      " |      Return the union of sets as a new set.\n",
      " |      \n",
      " |      (i.e. all elements that are in either set.)\n",
      " |  \n",
      " |  update(...)\n",
      " |      Update a set with the union of itself and others.\n",
      " |  \n",
      " |  ----------------------------------------------------------------------\n",
      " |  Data and other attributes defined here:\n",
      " |  \n",
      " |  __hash__ = None\n",
      "\n"
     ]
    }
   ],
   "source": [
    "help(set)"
   ]
  },
  {
   "cell_type": "code",
   "execution_count": 202,
   "metadata": {},
   "outputs": [],
   "source": [
    "my1Ass = {s for s in my8Hands if s.count('A') == 1}"
   ]
  },
  {
   "cell_type": "code",
   "execution_count": 203,
   "metadata": {},
   "outputs": [
    {
     "data": {
      "text/plain": [
       "4736160"
      ]
     },
     "execution_count": 203,
     "metadata": {},
     "output_type": "execute_result"
    }
   ],
   "source": [
    "len(my1Ass)"
   ]
  },
  {
   "cell_type": "code",
   "execution_count": 204,
   "metadata": {},
   "outputs": [],
   "source": [
    "mysol = len(my1Ass)/len(my8Hands)*3/(32-8)"
   ]
  },
  {
   "cell_type": "code",
   "execution_count": 205,
   "metadata": {},
   "outputs": [
    {
     "data": {
      "text/plain": [
       "0.05628476084538376"
      ]
     },
     "execution_count": 205,
     "metadata": {},
     "output_type": "execute_result"
    }
   ],
   "source": [
    "mysol"
   ]
  },
  {
   "cell_type": "code",
   "execution_count": 206,
   "metadata": {},
   "outputs": [
    {
     "data": {
      "text/plain": [
       "0.05628476084538376"
      ]
     },
     "execution_count": 206,
     "metadata": {},
     "output_type": "execute_result"
    }
   ],
   "source": [
    "253/4495"
   ]
  },
  {
   "cell_type": "code",
   "execution_count": 207,
   "metadata": {},
   "outputs": [
    {
     "data": {
      "text/plain": [
       "18564"
      ]
     },
     "execution_count": 207,
     "metadata": {},
     "output_type": "execute_result"
    }
   ],
   "source": [
    "choose(18,6)\n"
   ]
  },
  {
   "cell_type": "code",
   "execution_count": 209,
   "metadata": {},
   "outputs": [],
   "source": [
    "Iknowit = Dist({1: 10/18, '-': 8/18})"
   ]
  },
  {
   "cell_type": "code",
   "execution_count": 210,
   "metadata": {},
   "outputs": [],
   "source": [
    "def YN(n, Iknowit):\n",
    "    \"Joint probability distribution from drawing  Y/N questions from n samples.\"\n",
    "    if n == 1:\n",
    "        return Iknowit\n",
    "    else:\n",
    "        return joint(Iknowit, YN(n - 1, Iknowit))"
   ]
  },
  {
   "cell_type": "code",
   "execution_count": 212,
   "metadata": {
    "scrolled": true
   },
   "outputs": [
    {
     "data": {
      "text/plain": [
       "Dist({'111111': 0.029401194111858146,\n",
       "      '11111-': 0.02352095528948651,\n",
       "      '1111-1': 0.02352095528948651,\n",
       "      '1111--': 0.018816764231589213,\n",
       "      '111-11': 0.02352095528948651,\n",
       "      '111-1-': 0.018816764231589206,\n",
       "      '111--1': 0.018816764231589206,\n",
       "      '111---': 0.015053411385271368,\n",
       "      '11-111': 0.02352095528948651,\n",
       "      '11-11-': 0.018816764231589206,\n",
       "      '11-1-1': 0.018816764231589206,\n",
       "      '11-1--': 0.015053411385271364,\n",
       "      '11--11': 0.018816764231589206,\n",
       "      '11--1-': 0.015053411385271363,\n",
       "      '11---1': 0.015053411385271363,\n",
       "      '11----': 0.012042729108217092,\n",
       "      '1-1111': 0.023520955289486518,\n",
       "      '1-111-': 0.018816764231589213,\n",
       "      '1-11-1': 0.018816764231589213,\n",
       "      '1-11--': 0.015053411385271368,\n",
       "      '1-1-11': 0.018816764231589213,\n",
       "      '1-1-1-': 0.015053411385271364,\n",
       "      '1-1--1': 0.015053411385271364,\n",
       "      '1-1---': 0.012042729108217092,\n",
       "      '1--111': 0.018816764231589213,\n",
       "      '1--11-': 0.015053411385271364,\n",
       "      '1--1-1': 0.015053411385271364,\n",
       "      '1--1--': 0.01204272910821709,\n",
       "      '1---11': 0.015053411385271364,\n",
       "      '1---1-': 0.012042729108217088,\n",
       "      '1----1': 0.012042729108217088,\n",
       "      '1-----': 0.009634183286573672,\n",
       "      '-11111': 0.023520955289486514,\n",
       "      '-1111-': 0.01881676423158921,\n",
       "      '-111-1': 0.01881676423158921,\n",
       "      '-111--': 0.015053411385271368,\n",
       "      '-11-11': 0.01881676423158921,\n",
       "      '-11-1-': 0.015053411385271364,\n",
       "      '-11--1': 0.015053411385271364,\n",
       "      '-11---': 0.012042729108217092,\n",
       "      '-1-111': 0.01881676423158921,\n",
       "      '-1-11-': 0.015053411385271364,\n",
       "      '-1-1-1': 0.015053411385271364,\n",
       "      '-1-1--': 0.012042729108217092,\n",
       "      '-1--11': 0.015053411385271364,\n",
       "      '-1--1-': 0.01204272910821709,\n",
       "      '-1---1': 0.01204272910821709,\n",
       "      '-1----': 0.009634183286573674,\n",
       "      '--1111': 0.01881676423158921,\n",
       "      '--111-': 0.015053411385271368,\n",
       "      '--11-1': 0.015053411385271368,\n",
       "      '--11--': 0.012042729108217092,\n",
       "      '--1-11': 0.015053411385271368,\n",
       "      '--1-1-': 0.012042729108217092,\n",
       "      '--1--1': 0.012042729108217092,\n",
       "      '--1---': 0.009634183286573674,\n",
       "      '---111': 0.015053411385271368,\n",
       "      '---11-': 0.012042729108217092,\n",
       "      '---1-1': 0.012042729108217092,\n",
       "      '---1--': 0.009634183286573672,\n",
       "      '----11': 0.012042729108217092,\n",
       "      '----1-': 0.00963418328657367,\n",
       "      '-----1': 0.00963418328657367,\n",
       "      '------': 0.007707346629258937})"
      ]
     },
     "execution_count": 212,
     "metadata": {},
     "output_type": "execute_result"
    }
   ],
   "source": [
    "mycur = YN(6,Iknowit)\n",
    "mycur"
   ]
  },
  {
   "cell_type": "code",
   "execution_count": 227,
   "metadata": {},
   "outputs": [
    {
     "name": "stdout",
     "output_type": "stream",
     "text": [
      "0.753846617028043\n"
     ]
    }
   ],
   "source": [
    "temp = 0.0;\n",
    "for s in mycur.keys():\n",
    "    if (s.count('1')==3):\n",
    "        temp = temp + mycur[s]\n",
    "    if (s.count('1')==4):\n",
    "        temp = temp + mycur[s]\n",
    "    if (s.count('1')==5):\n",
    "        temp = temp + mycur[s]\n",
    "    if (s.count('1')==6):\n",
    "        temp = temp + mycur[s]\n",
    "print(temp)"
   ]
  }
 ],
 "metadata": {
  "kernelspec": {
   "display_name": "Python 3",
   "language": "python",
   "name": "python3"
  },
  "language_info": {
   "codemirror_mode": {
    "name": "ipython",
    "version": 3
   },
   "file_extension": ".py",
   "mimetype": "text/x-python",
   "name": "python",
   "nbconvert_exporter": "python",
   "pygments_lexer": "ipython3",
   "version": "3.5.2"
  },
  "nbTranslate": {
   "displayLangs": [
    "de",
    "en"
   ],
   "hotkey": "alt-t",
   "langInMainMenu": true,
   "sourceLang": "en",
   "targetLang": "de",
   "useGoogleTranslate": true
  }
 },
 "nbformat": 4,
 "nbformat_minor": 2
}
