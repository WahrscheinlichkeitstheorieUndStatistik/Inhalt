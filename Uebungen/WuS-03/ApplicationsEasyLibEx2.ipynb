{
 "cells": [
  {
   "cell_type": "code",
   "execution_count": 33,
   "metadata": {},
   "outputs": [],
   "source": [
    "import EasyPropabilityLib as EPL"
   ]
  },
  {
   "cell_type": "markdown",
   "metadata": {},
   "source": [
    "# Ulrich Krengel, Task §1.2\n",
    "\n",
    "Through a die 7 times.\n",
    "\n",
    "How likely is it, that all faces 1,2,3,4,5,6 show up at least once?"
   ]
  },
  {
   "cell_type": "code",
   "execution_count": 34,
   "metadata": {},
   "outputs": [
    {
     "name": "stdout",
     "output_type": "stream",
     "text": [
      "279936\n",
      "279936\n"
     ]
    }
   ],
   "source": [
    "# construct the sample space\n",
    "\n",
    "myD={1,2,3,4,5,6}\n",
    "\n",
    "#my7trials = EPL.cross(myD,myD) #not doing the expected\n",
    "\n",
    "#my7trials = EPL.combos(\"123456\",3) #not doing the expected\n",
    "\n",
    "#NOW:by hand as in chuck a luck\n",
    "\n",
    "# construct all tuples of length 8\n",
    "my7trials = {(a,b,c,d,e,f,g) \n",
    "             for a in myD \n",
    "             for b in myD \n",
    "             for c in myD \n",
    "             for d in myD \n",
    "             for e in myD \n",
    "             for f in myD \n",
    "             for g in myD}\n",
    "\n",
    "\n",
    "print(len(my7trials))\n",
    "print(6**7)"
   ]
  },
  {
   "cell_type": "code",
   "execution_count": 35,
   "metadata": {},
   "outputs": [
    {
     "data": {
      "text/plain": [
       "[(1, 4, 2, 5, 3, 6, 5),\n",
       " (2, 4, 3, 3, 5, 1, 6),\n",
       " (6, 4, 1, 3, 5, 2, 6),\n",
       " (2, 1, 3, 3, 4, 5, 6),\n",
       " (6, 4, 2, 5, 3, 1, 2)]"
      ]
     },
     "execution_count": 35,
     "metadata": {},
     "output_type": "execute_result"
    }
   ],
   "source": [
    "#CHECK THE LOOKS\n",
    "import random\n",
    "random.sample(allin,5)"
   ]
  },
  {
   "cell_type": "code",
   "execution_count": 40,
   "metadata": {},
   "outputs": [
    {
     "name": "stdout",
     "output_type": "stream",
     "text": [
      "15120\n"
     ]
    }
   ],
   "source": [
    "#build a filter: the tuple should contain all numbers\n",
    "#thus a set build from this tuple should be equal to the die itself\n",
    "\n",
    "allin = {a for a in my7trials if set(a)==myD}\n",
    "print(len(allin))"
   ]
  },
  {
   "cell_type": "code",
   "execution_count": 53,
   "metadata": {},
   "outputs": [
    {
     "name": "stdout",
     "output_type": "stream",
     "text": [
      "35/648\n"
     ]
    }
   ],
   "source": [
    "#build the Probabilty\n",
    "\n",
    "myresu = EPL.P(allin,my7trials)\n",
    "print(myresu)"
   ]
  },
  {
   "cell_type": "code",
   "execution_count": 45,
   "metadata": {},
   "outputs": [],
   "source": [
    "# construct a test function\n",
    "def myresult(s_space,wanted):\n",
    "\n",
    "# get exactly those which ar wanted\n",
    "    allin = {a for a in s_space if set(a)==wanted}\n",
    "    print(len(allin))\n",
    "# calculte the prob\n",
    "    myresu = EPL.P(allin,s_space)\n",
    "    return myresu"
   ]
  },
  {
   "cell_type": "code",
   "execution_count": 46,
   "metadata": {},
   "outputs": [],
   "source": [
    "import math"
   ]
  },
  {
   "cell_type": "code",
   "execution_count": 47,
   "metadata": {},
   "outputs": [
    {
     "name": "stdout",
     "output_type": "stream",
     "text": [
      "15120\n",
      "CPU times: user 135 ms, sys: 3.85 ms, total: 139 ms\n",
      "Wall time: 137 ms\n",
      "35/648\n"
     ]
    }
   ],
   "source": [
    "%time myresu = myresult(my7trials,myD)\n",
    "print(myresu)"
   ]
  },
  {
   "cell_type": "code",
   "execution_count": 48,
   "metadata": {},
   "outputs": [],
   "source": [
    "assert math.isclose(myresu,0.05401234567901234)"
   ]
  },
  {
   "cell_type": "markdown",
   "metadata": {},
   "source": [
    "# QUESTION:\n",
    "\n",
    "Can you validate this number via a classical (\"by-hand\") reasoning?"
   ]
  },
  {
   "cell_type": "code",
   "execution_count": null,
   "metadata": {},
   "outputs": [],
   "source": []
  }
 ],
 "metadata": {
  "kernelspec": {
   "display_name": "Python 3",
   "language": "python",
   "name": "python3"
  },
  "language_info": {
   "codemirror_mode": {
    "name": "ipython",
    "version": 3
   },
   "file_extension": ".py",
   "mimetype": "text/x-python",
   "name": "python",
   "nbconvert_exporter": "python",
   "pygments_lexer": "ipython3",
   "version": "3.5.2"
  },
  "nbTranslate": {
   "displayLangs": [
    "de",
    "en"
   ],
   "hotkey": "alt-t",
   "langInMainMenu": true,
   "sourceLang": "en",
   "targetLang": "de",
   "useGoogleTranslate": true
  }
 },
 "nbformat": 4,
 "nbformat_minor": 2
}
