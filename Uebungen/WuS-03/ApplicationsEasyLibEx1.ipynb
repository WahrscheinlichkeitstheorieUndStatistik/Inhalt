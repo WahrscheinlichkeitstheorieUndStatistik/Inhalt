{
 "cells": [
  {
   "cell_type": "code",
   "execution_count": 1,
   "metadata": {},
   "outputs": [],
   "source": [
    "import EasyPropabilityLib as EPL"
   ]
  },
  {
   "cell_type": "markdown",
   "metadata": {},
   "source": [
    "# Ulrich Krengel, Task §1.3\n",
    "\n",
    "In a deck of 32 cards (suits = u'♥♠♦♣', skatranks = u'AKDJZ987') there are 4 aces. The cards are well shuffeled. \n",
    "\n",
    "You draw 9 cards one-by-one. What is the likelyhood that the ninth open card shows the second ace?\n"
   ]
  },
  {
   "cell_type": "code",
   "execution_count": 2,
   "metadata": {},
   "outputs": [
    {
     "name": "stdout",
     "output_type": "stream",
     "text": [
      "{'♣8', '♠8', '♦8', '♣Z', '♠J', '♠K', '♥A', '♦J', '♦D', '♥Z', '♥9', '♦Z', '♠9', '♣J', '♠7', '♥7', '♥8', '♠Z', '♦A', '♥D', '♣9', '♠A', '♣K', '♦7', '♦9', '♥J', '♥K', '♠D', '♣D', '♦K', '♣A', '♣7'}\n"
     ]
    }
   ],
   "source": [
    "# construct the sample space\n",
    "suits = u'♥♠♦♣'\n",
    "skatranks = u'AKDJZ987'\n",
    "\n",
    "my32Deck = EPL.cross(suits,skatranks)\n",
    "print(my32Deck)"
   ]
  },
  {
   "cell_type": "code",
   "execution_count": 9,
   "metadata": {},
   "outputs": [],
   "source": [
    "# construct all tuples of length 8\n",
    "def nth_is_second_ace(s_space,nth):\n",
    "    my8Hands = EPL.combos(s_space,nth-1)\n",
    "    print(len(my8Hands))\n",
    "    print(type(my8Hands))\n",
    "\n",
    "# get exactly those with ONE ace\n",
    "\n",
    "    my1Ass = {s for s in my8Hands if s.count('A') == 1}\n",
    "    print(len(my1Ass))\n",
    "\n",
    "# there are 3 more aces in the rest of the deck. calculate to get one of those \n",
    "    get2ndace= 3.0/(32-(nth-1))\n",
    "\n",
    "# independ events => build product\n",
    "    myresu = len(my1Ass) / len(my8Hands) * get2ndace\n",
    "    print(myresu)\n",
    "    return myresu"
   ]
  },
  {
   "cell_type": "code",
   "execution_count": 10,
   "metadata": {},
   "outputs": [],
   "source": [
    "import math"
   ]
  },
  {
   "cell_type": "code",
   "execution_count": 13,
   "metadata": {},
   "outputs": [
    {
     "name": "stdout",
     "output_type": "stream",
     "text": [
      "10518300\n",
      "<class 'set'>\n",
      "4736160\n",
      "0.05628476084538376\n",
      "CPU times: user 12.4 s, sys: 3.58 s, total: 15.9 s\n",
      "Wall time: 16.3 s\n",
      "0.05628476084538376\n"
     ]
    }
   ],
   "source": [
    "%time myresu = nth_is_second_ace(my32Deck,9)\n",
    "print(myresu)"
   ]
  },
  {
   "cell_type": "code",
   "execution_count": 14,
   "metadata": {},
   "outputs": [],
   "source": [
    "assert math.isclose(myresu,253.0/4495)"
   ]
  },
  {
   "cell_type": "code",
   "execution_count": null,
   "metadata": {},
   "outputs": [],
   "source": []
  }
 ],
 "metadata": {
  "kernelspec": {
   "display_name": "Python 3",
   "language": "python",
   "name": "python3"
  },
  "language_info": {
   "codemirror_mode": {
    "name": "ipython",
    "version": 3
   },
   "file_extension": ".py",
   "mimetype": "text/x-python",
   "name": "python",
   "nbconvert_exporter": "python",
   "pygments_lexer": "ipython3",
   "version": "3.5.2"
  },
  "nbTranslate": {
   "displayLangs": [
    "de",
    "en"
   ],
   "hotkey": "alt-t",
   "langInMainMenu": true,
   "sourceLang": "en",
   "targetLang": "de",
   "useGoogleTranslate": true
  }
 },
 "nbformat": 4,
 "nbformat_minor": 2
}
