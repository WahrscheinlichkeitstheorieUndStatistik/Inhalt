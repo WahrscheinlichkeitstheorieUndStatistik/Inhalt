{
 "cells": [
  {
   "cell_type": "markdown",
   "metadata": {
    "lang": "en"
   },
   "source": [
    "<div class=\"alert alert-block alert-success\">\n",
    "\n",
    "<h1>Boolean variables and Propability</h1>\n",
    "\n",
    "<h2>Topics:</h2>\n",
    "\n",
    "<h2>basic Kolmogoroff axioms, foundations of Bayesian Networks</h2>\n",
    "\n",
    "</div>"
   ]
  },
  {
   "cell_type": "markdown",
   "metadata": {
    "lang": "en"
   },
   "source": [
    "Assume, that -on average- you will have a good day ***GD*** ONLY if some events have happend which are necesssary to be true (or false). These are a sort of atomic events. Each event will only hold true with a certain probabilty.\n",
    "\n",
    "E.a. you need to have a good breakfast ***B*** , which is true, if your coffee ***C*** tastes perfect (i.e. no rotten bean ***RB*** in it). Also your morning fruits ***F*** must all be perfect.\n",
    "\n",
    "This would get modeled as: GOOD_BREAKFAST = NO ROTTEN_BEAN AND FRUITS_GOOD\n",
    "\n",
    "On top your daily work must proceeded as wanted ***W***. \n",
    "\n",
    "Then in the evening ***E*** your favorit soccer team ***SW*** could win, which is almost always true except when they are playing Bayern München ***PBM***, the win is fairly unlikely, akak BM wins ***BMW***. The winning will compensate for a bad morning and a bad work day.\n",
    "\n",
    "We want to model this situation, by taking all events as boolean variables (***GD,RB,B,C,F,W,SW,PBM,BMW***), all of which hold true with a certain probability.\n",
    "\n",
    "In our example:"
   ]
  },
  {
   "cell_type": "markdown",
   "metadata": {},
   "source": [
    "\\begin{align}\n",
    " x_{GD} &= \\left( x_B \\wedge x_W \\right) \\vee x_{E} \\\\\n",
    " &= \\left( \\left(\\overline{x_{RB}} \\wedge x_F \\right) \\wedge x_W \\right) \\vee  \n",
    " \\left( x_{SW} \\wedge \\overline{x_{PBM}} \\right) \\vee \\overline{x_{BMW}} \\label{eq1} \\\\\n",
    "\\end{align}"
   ]
  },
  {
   "cell_type": "markdown",
   "metadata": {},
   "source": [
    "Question: \n",
    "\n",
    "How many times will you have good working day (assume: every evening there is a game) ?\n",
    "\n",
    "---\n",
    "\n",
    "Answer:\n",
    "\n",
    "Now in SW we model all boolean variables as (name, value) tuples, value is the probabilty that they happen to be true.\n"
   ]
  },
  {
   "cell_type": "code",
   "execution_count": 3,
   "metadata": {},
   "outputs": [
    {
     "name": "stdout",
     "output_type": "stream",
     "text": [
      "('RottenBean', 0.001)\n",
      "('FruitsOK', 0.9)\n"
     ]
    }
   ],
   "source": [
    "#import numpy as np\n",
    "\n",
    "xRB = ('RottenBean',0.001); #MY NEW data type prob.boolean vars: tuple(value, probability)\n",
    "xF = ('FruitsOK',0.9)\n",
    "\n",
    "print(xRB)\n",
    "print(xF)"
   ]
  },
  {
   "cell_type": "markdown",
   "metadata": {},
   "source": [
    "We have negated variables, so better write program, which is the ***complement*** operator:"
   ]
  },
  {
   "cell_type": "code",
   "execution_count": 5,
   "metadata": {},
   "outputs": [],
   "source": [
    "def myCOMPLEMENT(myVar):\n",
    "    '''Returns the compement of the boolean variable\n",
    "\n",
    "    Keyword arguments:\n",
    "    mVar -- tuple : (Name, prob.)\n",
    "    \n",
    "    returns (Name, 1-prob)\n",
    "    '''\n",
    "    ### BEGIN SOLUTION\n",
    "    \n",
    "    return (myVar[0],1-myVar[1])"
   ]
  },
  {
   "cell_type": "code",
   "execution_count": 15,
   "metadata": {},
   "outputs": [
    {
     "data": {
      "text/plain": [
       "('RottenBean', 0.999)"
      ]
     },
     "execution_count": 15,
     "metadata": {},
     "output_type": "execute_result"
    }
   ],
   "source": [
    "myNew = myCOMPLEMENT(xRB)\n",
    "myNew"
   ]
  },
  {
   "cell_type": "code",
   "execution_count": 16,
   "metadata": {},
   "outputs": [],
   "source": [
    "myNewNew = myCOMPLEMENT(myNew)"
   ]
  },
  {
   "cell_type": "code",
   "execution_count": 17,
   "metadata": {},
   "outputs": [
    {
     "data": {
      "text/plain": [
       "False"
      ]
     },
     "execution_count": 17,
     "metadata": {},
     "output_type": "execute_result"
    }
   ],
   "source": [
    "xRB  == myNewNew\n"
   ]
  },
  {
   "cell_type": "markdown",
   "metadata": {},
   "source": [
    "This is strange, can you find the reason ? Hint: print both boolean vars! Then goto the web and seek ```python isclose```\n",
    "\n",
    "Second way to deal with this: use the number type ```Fractions```insted of reals. Thus check an import like <p> ```from fractions import Fraction```\n"
   ]
  },
  {
   "cell_type": "code",
   "execution_count": 18,
   "metadata": {},
   "outputs": [
    {
     "data": {
      "text/plain": [
       "True"
      ]
     },
     "execution_count": 18,
     "metadata": {},
     "output_type": "execute_result"
    }
   ],
   "source": [
    "from math import isclose\n",
    "isclose(xRB[1],myNewNew[1])"
   ]
  },
  {
   "cell_type": "code",
   "execution_count": 19,
   "metadata": {},
   "outputs": [],
   "source": [
    "def myAND(myVar1,myVar2):\n",
    "    '''Returns a probalistic AND on two boolean variable\n",
    "\n",
    "    Keyword arguments:\n",
    "    myVar1,myVar2 -- two tuples : (Name, prob.)\n",
    "    \n",
    "    returns:: the probabilty tuple of both being true (on average)\n",
    "    '''\n",
    "    ### BEGIN SOLUTION\n",
    "    \n",
    "    return (myVar1[0] + '_A_'+ myVar2[0],myVar1[1]*myVar2[1])\n",
    "\n",
    "def myOR(myVar1,myVar2):\n",
    "    '''Returns a probalistic OR of two boolean variable\n",
    "\n",
    "    Keyword arguments:\n",
    "    myVar1,myVar2 -- two tuples : (Name, prob.)\n",
    "    \n",
    "    returns:: the probabilty tuple of ONE of them being true\n",
    "    '''\n",
    "    ### BEGIN SOLUTION\n",
    "    return (myVar1[0] + '_O_' + myVar2[0],myVar1[1] + myVar2[1] - myVar1[1]*myVar2[1])\n",
    "#    else:\n",
    "#        raise AttributeError()\n"
   ]
  },
  {
   "cell_type": "code",
   "execution_count": 20,
   "metadata": {},
   "outputs": [
    {
     "data": {
      "text/plain": [
       "('RottenBean_A_FruitsOK', 0.0009000000000000001)"
      ]
     },
     "execution_count": 20,
     "metadata": {},
     "output_type": "execute_result"
    }
   ],
   "source": [
    "mytemp = myAND(xRB,xF)\n",
    "mytemp"
   ]
  },
  {
   "cell_type": "code",
   "execution_count": 21,
   "metadata": {},
   "outputs": [
    {
     "data": {
      "text/plain": [
       "('RottenBean_O_FruitsOK', 0.9001)"
      ]
     },
     "execution_count": 21,
     "metadata": {},
     "output_type": "execute_result"
    }
   ],
   "source": [
    "mytemp = myOR(xRB,xF)\n",
    "mytemp"
   ]
  },
  {
   "cell_type": "code",
   "execution_count": 22,
   "metadata": {},
   "outputs": [
    {
     "name": "stdout",
     "output_type": "stream",
     "text": [
      "('Sure', 0.0)\n"
     ]
    }
   ],
   "source": [
    "x1 = ('Sure',1.0); #MY NEW data type prob.boolean vars: tuple(value, probability)\n",
    "x2 = ('Impossible',0.0)\n",
    "mytemp = myCOMPLEMENT(x1)\n",
    "print(mytemp)"
   ]
  },
  {
   "cell_type": "markdown",
   "metadata": {},
   "source": [
    "This looks bizzare: an event called 'Sure', which is never true. Should we CHANGE our implentation to respect this?\n",
    "\n",
    "How? \n",
    "\n",
    "Before you ***CHANGE*** things better have some unit-test cases at hand..."
   ]
  },
  {
   "cell_type": "code",
   "execution_count": 23,
   "metadata": {
    "scrolled": true
   },
   "outputs": [
    {
     "name": "stdout",
     "output_type": "stream",
     "text": [
      "case 0,0 :  ('Sure_A_Impossible', 0.0)\n",
      "case -,0 :  ('Sure_A_Impossible', 0.0)\n",
      "case 0,- :  ('Sure_A_Impossible', 1.0)\n",
      "case -,- :  ('Sure_A_Impossible', 0.0)\n"
     ]
    }
   ],
   "source": [
    "mytemp = myAND(x1,x2);print(\"case 0,0 : \",mytemp)\n",
    "mytemp = myAND(myCOMPLEMENT(x1),x2);print(\"case -,0 : \",mytemp)\n",
    "mytemp = myAND(x1,myCOMPLEMENT(x2));print(\"case 0,- : \",mytemp)\n",
    "mytemp = myAND(myCOMPLEMENT(x1),myCOMPLEMENT(x2));print(\"case -,- : \",mytemp)"
   ]
  },
  {
   "cell_type": "markdown",
   "metadata": {},
   "source": [
    "Are all these results PLAUSIBLE / correct? The naming convention are really ugly...\n",
    "\n",
    "Let's go back to the original problem: have a luck day..."
   ]
  },
  {
   "cell_type": "code",
   "execution_count": 25,
   "metadata": {},
   "outputs": [],
   "source": [
    "xW = ('WorkedGood',0.74)\n",
    "xSW = ('SoccerWin(NotBayern)',0.66)\n",
    "xPBM = ('PlayBM',2.0/34.0)\n",
    "xBMW = ('BMWins',25.0/34.0)\n",
    "\n",
    "part1 = myAND(myAND(myCOMPLEMENT(xRB),xF),xW)\n",
    "part2 = myAND(xSW,myCOMPLEMENT(xPBM))\n",
    "part3 = myCOMPLEMENT(xBMW)\n",
    "\n",
    "myall = myOR(myOR(part1,part2),part3)"
   ]
  },
  {
   "cell_type": "code",
   "execution_count": 1,
   "metadata": {},
   "outputs": [
    {
     "ename": "NameError",
     "evalue": "name 'myall' is not defined",
     "output_type": "error",
     "traceback": [
      "\u001b[0;31m---------------------------------------------------------------------------\u001b[0m",
      "\u001b[0;31mNameError\u001b[0m                                 Traceback (most recent call last)",
      "\u001b[0;32m<ipython-input-1-36e53b7b94c4>\u001b[0m in \u001b[0;36m<module>\u001b[0;34m()\u001b[0m\n\u001b[0;32m----> 1\u001b[0;31m \u001b[0mmyall\u001b[0m\u001b[0;34m\u001b[0m\u001b[0m\n\u001b[0m",
      "\u001b[0;31mNameError\u001b[0m: name 'myall' is not defined"
     ]
    }
   ],
   "source": [
    "myall"
   ]
  },
  {
   "cell_type": "markdown",
   "metadata": {},
   "source": [
    "So many times you would have a good day, what is the reason for this, what is the most dominat factor? See in the string: the full boolean euation is almost reproduced, thus debugging can be easy. Still it's not perfect...\n",
    "\n",
    "NB: if we change the naming id would become perfect.."
   ]
  },
  {
   "cell_type": "markdown",
   "metadata": {},
   "source": [
    "TASKS:\n",
    "\n",
    "* generalize it to ALL boolean operations\n",
    "* the result string does not fully represent the boolean expression:: fix the complement operation: it should ADD an \"N\" in front of the varibale name (and remove it when appearing TWICE!)\n",
    "* OPTIONAL write a parser which parses a boolean expression and the vlaues of the atoms and then reproduces the results by starting from boolean equation See (\\ref{eq1})\n",
    "* OPTIONAL change the implementation : use numpy arrays (or own classes) instead"
   ]
  },
  {
   "cell_type": "markdown",
   "metadata": {},
   "source": [
    "---\n",
    "\n",
    "TASKS:\n",
    "\n",
    "* apply the above mentioned functions to calculate the reliabilities for a series / parallel graph\n",
    "* assume the boxes are like switches which have a certain realibility to work i.e. to conduct.\n",
    "* two boxes in a sequence are modeled by \"myAND\", two in parallel by \"myOR\".\n",
    "* taking \n",
    "  * P_K1 = 0.99 \n",
    "  * P_K2 = 0.95 \n",
    "  * P_K3 = 0.05 \n",
    "  * P_K4 = 0.56 \n",
    "* how propable is a connection from a to b ?"
   ]
  },
  {
   "attachments": {
    "image.png": {
     "image/png": "[encoded data removed]"
    }
   },
   "cell_type": "markdown",
   "metadata": {},
   "source": [
    "![image.png](attachment:image.png)"
   ]
  },
  {
   "cell_type": "markdown",
   "metadata": {},
   "source": [
    "---\n",
    "\n",
    "NEW NEW NEW NEW (additional on top)\n",
    "\n",
    "TASK:\n",
    "\n",
    "* program a dice as a function call :: myDice(NumFaces,repeatCount), where NumFaces is 4,6,8,10,12,20, returning a tupple of length repeatCount containig the sequence of ourcomes.\n",
    "* print a statistic: for NumFaces = 6 and repeatCount =1200 all numbers appear roughly 1/6 of the times\n",
    "* extend the experiment: use 2,3,4,5,6 die and define as the outcome the SUM on all faces (e.g. for 2 die the sample space is now {2,3,..., 11,12}\n",
    "* build some new statistics: how likely are all the outcomes when using N dice?\n",
    "* draw all statistics in ONE diagram, compare the functions\n",
    "* can you find a relation between the outcomes? Hint: Wiki Faltung"
   ]
  },
  {
   "cell_type": "code",
   "execution_count": null,
   "metadata": {},
   "outputs": [],
   "source": []
  }
 ],
 "metadata": {
  "kernelspec": {
   "display_name": "Python 3",
   "language": "python",
   "name": "python3"
  },
  "language_info": {
   "codemirror_mode": {
    "name": "ipython",
    "version": 3
   },
   "file_extension": ".py",
   "mimetype": "text/x-python",
   "name": "python",
   "nbconvert_exporter": "python",
   "pygments_lexer": "ipython3",
   "version": "3.6.5"
  },
  "nbTranslate": {
   "displayLangs": [
    "en",
    "de"
   ],
   "hotkey": "alt-t",
   "langInMainMenu": true,
   "sourceLang": "en",
   "targetLang": "de",
   "useGoogleTranslate": true
  }
 },
 "nbformat": 4,
 "nbformat_minor": 2
}
