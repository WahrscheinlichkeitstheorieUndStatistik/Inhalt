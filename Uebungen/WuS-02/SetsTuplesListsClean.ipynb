{
 "cells": [
  {
   "cell_type": "markdown",
   "metadata": {},
   "source": [
    "<div class=\"alert alert-block alert-success\">\n",
    "\n",
    "<h1>Sample Spaces and Counting</h1>\n",
    "\n",
    "<h2>Topics:</h2>\n",
    "\n",
    "<h2>implement basic Terms of Prob theory using python</h2>\n",
    "<h2>e.g. use sets for uniqueness and counting, cross products, urns, combinations of items </h2>\n",
    "\n",
    "</div>"
   ]
  },
  {
   "cell_type": "markdown",
   "metadata": {},
   "source": [
    "We want to ***build*** all sorts of sample spaces such that we can EXPLICITLY ***validate some counting results*** about the samples spaces by really enumerating all events and counting the favorable ones.\n",
    "\n",
    "We will start with an example use of sets, tuples and lists. This will show limitations which will be addressed by ***YOU*** at the end.\n",
    "\n",
    "Let's start simple with the omni-present die and the face \"6\"."
   ]
  },
  {
   "cell_type": "code",
   "execution_count": 65,
   "metadata": {},
   "outputs": [],
   "source": [
    "myD = {1,2,3,4,5,6}\n",
    "my6 = {6}"
   ]
  },
  {
   "cell_type": "markdown",
   "metadata": {},
   "source": [
    "These are set because of the \"{}\".\n",
    "\n",
    "Set operations in python are written like boolean operators in other languages.\n",
    "\n",
    "The OR operator \"|\" denotes union, the AND \"&\" operator denotes interection. "
   ]
  },
  {
   "cell_type": "code",
   "execution_count": 66,
   "metadata": {
    "collapsed": true
   },
   "outputs": [
    {
     "name": "stdout",
     "output_type": "stream",
     "text": []
    }
   ],
   "source": [
    "myAll = my6 | myD\n",
    "myBoth = my6 & myD\n",
    "\n",
    "print(myD)\n",
    "print(myAll)\n",
    "print(myBoth)\n"
   ]
  },
  {
   "cell_type": "markdown",
   "metadata": {},
   "source": [
    "No surprise: we are trying to ADD something to the set which was contained already => thus the union set is ***NOT*** getting larger\n",
    "\n",
    "And the intersection is just \"6\""
   ]
  },
  {
   "cell_type": "code",
   "execution_count": 67,
   "metadata": {
    "collapsed": true
   },
   "outputs": [
    {
     "data": {
      "text/plain": []
     },
     "execution_count": 67,
     "metadata": {},
     "output_type": "execute_result"
    }
   ],
   "source": [
    "myBoth = my6.intersection(myD)\n",
    "\n",
    "myBoth"
   ]
  },
  {
   "cell_type": "markdown",
   "metadata": {},
   "source": [
    "We get the same result but have used a different notation\n",
    "\n",
    "Some more experiments on the notation of set operators."
   ]
  },
  {
   "cell_type": "code",
   "execution_count": 68,
   "metadata": {
    "collapsed": true
   },
   "outputs": [
    {
     "data": {
      "text/plain": []
     },
     "execution_count": 68,
     "metadata": {},
     "output_type": "execute_result"
    }
   ],
   "source": [
    "maT = myAll - my6\n",
    "maT"
   ]
  },
  {
   "cell_type": "code",
   "execution_count": 69,
   "metadata": {
    "collapsed": true
   },
   "outputs": [
    {
     "ename": "TypeError",
     "evalue": "unsupported operand type(s) for +: 'set' and 'set'",
     "output_type": "error",
     "traceback": []
    }
   ],
   "source": [
    "my7 = {7}\n",
    "\n",
    "myT = my7 + myD"
   ]
  },
  {
   "cell_type": "markdown",
   "metadata": {},
   "source": [
    "Minus \"-\" works as expected \"+\" does not.  "
   ]
  },
  {
   "cell_type": "code",
   "execution_count": 70,
   "metadata": {},
   "outputs": [],
   "source": [
    "myDice = {1,2,3,4,5,6}"
   ]
  },
  {
   "cell_type": "markdown",
   "metadata": {},
   "source": [
    "Now build the cartesian product using a set '{}' of tuples"
   ]
  },
  {
   "cell_type": "code",
   "execution_count": 71,
   "metadata": {
    "collapsed": true
   },
   "outputs": [
    {
     "name": "stdout",
     "output_type": "stream",
     "text": []
    }
   ],
   "source": [
    "cart3 = {(a,b,c) for a in myDice for b in myDice for c in myDice}\n",
    "print(cart3)"
   ]
  },
  {
   "cell_type": "markdown",
   "metadata": {},
   "source": [
    "We are now interested in all possible different tuples since in the game \"chuck-a-luck\" \n",
    "some tuples produce the same win: e.g.you bet on a {1} then (1,1,6) has the same winn as (6,1,1) (AKA no sequencing).\n",
    "\n",
    "We only need the actual count of each number, their respective order is irrelevant. \n",
    "\n",
    "Now according to the above: sets will always contain UNIQUE elements, thus if we construct a set from each tuple, it will contain each numer just one time. "
   ]
  },
  {
   "cell_type": "code",
   "execution_count": 72,
   "metadata": {
    "collapsed": true
   },
   "outputs": [
    {
     "data": {
      "text/plain": []
     },
     "execution_count": 72,
     "metadata": {},
     "output_type": "execute_result"
    }
   ],
   "source": [
    "cartnew = (set(myT) for myT in cart3)\n",
    "cartnew"
   ]
  },
  {
   "cell_type": "markdown",
   "metadata": {},
   "source": [
    "OOPs , python is just giving an iterator, yet we'll need an real object instance. So build a list from it, use the iterator in a list constructor ```[]```. "
   ]
  },
  {
   "cell_type": "code",
   "execution_count": 73,
   "metadata": {
    "collapsed": true
   },
   "outputs": [
    {
     "name": "stdout",
     "output_type": "stream",
     "text": []
    }
   ],
   "source": [
    "cartnew = [set(myT) for myT in cart3]\n",
    "print(type(cartnew))\n",
    "print(type(cartnew[1]))\n",
    "#mylist = set(cartnew)"
   ]
  },
  {
   "cell_type": "markdown",
   "metadata": {},
   "source": [
    "In this list of sets NO set can contain dublicate numbers since the Set constructor will ***NOT*** allow this. <br>To validate this we printing and check by hand"
   ]
  },
  {
   "cell_type": "code",
   "execution_count": 27,
   "metadata": {
    "collapsed": true
   },
   "outputs": [
    {
     "data": {
      "text/plain": []
     },
     "execution_count": 27,
     "metadata": {},
     "output_type": "execute_result"
    }
   ],
   "source": [
    "cartnew"
   ]
  },
  {
   "cell_type": "code",
   "execution_count": 28,
   "metadata": {
    "collapsed": true
   },
   "outputs": [
    {
     "data": {
      "text/plain": []
     },
     "execution_count": 28,
     "metadata": {},
     "output_type": "execute_result"
    }
   ],
   "source": [
    "len(cartnew)"
   ]
  },
  {
   "cell_type": "markdown",
   "metadata": {},
   "source": [
    "So far so good, yet now the LIST of sets has duplicates! Since we want to count, we have to remove the duplicates. HOW?\n",
    "\n",
    "Again we use the set constructor: we convert the sets back to tuples and then add the tuples as elements of new set. If two tupels are identical, the second one will not be add since we build a set, where all elements are unique (see above)!"
   ]
  },
  {
   "cell_type": "code",
   "execution_count": 74,
   "metadata": {
    "collapsed": true
   },
   "outputs": [
    {
     "data": {
      "text/plain": []
     },
     "execution_count": 74,
     "metadata": {},
     "output_type": "execute_result"
    }
   ],
   "source": [
    "cart2 = {tuple(x) for x in cartnew}\n",
    "type(cart2)"
   ]
  },
  {
   "cell_type": "code",
   "execution_count": 75,
   "metadata": {
    "collapsed": true
   },
   "outputs": [
    {
     "name": "stdout",
     "output_type": "stream",
     "text": []
    }
   ],
   "source": [
    "print(cart2)"
   ]
  },
  {
   "cell_type": "code",
   "execution_count": 33,
   "metadata": {},
   "outputs": [],
   "source": [
    "myl = list(cart2)"
   ]
  },
  {
   "cell_type": "markdown",
   "metadata": {},
   "source": [
    "In this list of tuples we now look for tuples of length 1 (these are pasches!), the length 2 (we call then duplos) and 3 (we call them trios). "
   ]
  },
  {
   "cell_type": "code",
   "execution_count": 85,
   "metadata": {},
   "outputs": [],
   "source": [
    "pasch = set(i for i in myl if len(i) == 1)"
   ]
  },
  {
   "cell_type": "code",
   "execution_count": 86,
   "metadata": {},
   "outputs": [],
   "source": [
    "duplos = set(i for i in myl if len(i) == 2)"
   ]
  },
  {
   "cell_type": "code",
   "execution_count": 87,
   "metadata": {},
   "outputs": [],
   "source": [
    "trios = set(i for i in myl if len(i) == 3)"
   ]
  },
  {
   "cell_type": "code",
   "execution_count": 88,
   "metadata": {
    "collapsed": true
   },
   "outputs": [
    {
     "name": "stdout",
     "output_type": "stream",
     "text": []
    }
   ],
   "source": [
    "print(pasch)"
   ]
  },
  {
   "cell_type": "code",
   "execution_count": 89,
   "metadata": {
    "collapsed": true
   },
   "outputs": [
    {
     "name": "stdout",
     "output_type": "stream",
     "text": []
    }
   ],
   "source": [
    "print(duplos)"
   ]
  },
  {
   "cell_type": "code",
   "execution_count": 90,
   "metadata": {
    "collapsed": true
   },
   "outputs": [
    {
     "name": "stdout",
     "output_type": "stream",
     "text": []
    }
   ],
   "source": [
    "print(trios)"
   ]
  },
  {
   "cell_type": "markdown",
   "metadata": {},
   "source": [
    "Now when counting all outcomes we get all the different trials in chuck-a-luck; all pasches are uniqe, yet the duplos need to be counted twice since the set {1,2} represents all outcomes which contain two \"2\"'s and one \"1\" as well as one \"1\" and two \"2\"'s"
   ]
  },
  {
   "cell_type": "code",
   "execution_count": 82,
   "metadata": {
    "collapsed": true
   },
   "outputs": [
    {
     "data": {
      "text/plain": []
     },
     "execution_count": 82,
     "metadata": {},
     "output_type": "execute_result"
    }
   ],
   "source": [
    "len(trios) + len(duplos)+len(duplos) + len(pasch)"
   ]
  },
  {
   "cell_type": "markdown",
   "metadata": {},
   "source": [
    "compare this to the formula given in the lecture: with repetiton, without order, objects = 6,trials = 3"
   ]
  },
  {
   "cell_type": "markdown",
   "metadata": {},
   "source": [
    "$$\n",
    "\\left( \n",
    "\\begin{array}{c} 6+3-1 \\\\ 3 \n",
    "\\end{array} \n",
    "\\right) = \\frac{8!}{5!3!} = \\frac{8 \\cdot 7 \\cdot 6}{6} = 56\n",
    "$$"
   ]
  },
  {
   "cell_type": "markdown",
   "metadata": {},
   "source": [
    "Althought this worked out using ***JUST*** ***PLAIN*** sets, it looks like a very \"queer\" way to do the counting. We should have a systematic way to do it. Thus we need some cleaner way to do so. This way is already implemented in the methods of the python module ```import itertools```. Check the help page, section DESCRIPTION, subsection combinatoric generators. As you see, all cases covered in class (combinations, permutation, w/o replacement) are covered. All what remains to do is, wrap the libary call into a \"nice\" probabalistic API. See Examples and Tasks below."
   ]
  },
  {
   "cell_type": "code",
   "execution_count": 83,
   "metadata": {
    "collapsed": true
   },
   "outputs": [
    {
     "data": {
      "text/plain": []
     },
     "execution_count": 83,
     "metadata": {},
     "output_type": "execute_result"
    }
   ],
   "source": [
    "list(itertools.combinations(myD,3))"
   ]
  },
  {
   "cell_type": "code",
   "execution_count": 84,
   "metadata": {
    "collapsed": true
   },
   "outputs": [
    {
     "data": {
      "text/plain": []
     },
     "execution_count": 84,
     "metadata": {},
     "output_type": "execute_result"
    }
   ],
   "source": [
    "list(itertools.combinations_with_replacement(myD,3))"
   ]
  },
  {
   "cell_type": "code",
   "execution_count": 64,
   "metadata": {
    "collapsed": true
   },
   "outputs": [
    {
     "data": {
      "text/plain": []
     },
     "execution_count": 64,
     "metadata": {},
     "output_type": "execute_result"
    }
   ],
   "source": [
    "len(list(itertools.combinations_with_replacement(myD,3)))"
   ]
  },
  {
   "cell_type": "markdown",
   "metadata": {},
   "source": [
    "Our task can now be solved in a single line. All the rest of this notebook now deployes the itertools module and defines some functions mainly using strings to represent the sample space and its elements"
   ]
  },
  {
   "cell_type": "markdown",
   "metadata": {},
   "source": [
    "TASK (in class)::\n",
    "\n",
    "We want to build a small set of python functions, to do probability theory and combinatorics on small discrete sample spaces.\n",
    "\n",
    "Please implement some helper functions first:\n",
    "\n",
    "* GLOBAL hint: you will need the following includes, put this as first lines:<br>```import itertools #for combos\n",
    "from fractions import Fraction #for resutls of P\n",
    "from math import factorial #for choose\n",
    "import random #to pick randomly```\n",
    "* implement a function ```choose(n,c)``` \n",
    "<br>which returns the number of ways to choose c items from a list of n items. \n",
    "<br>HINT ```from math import factorial```.\n",
    "<br>Test cases: see above. \n",
    "<br>Use the statement ```assert RESULT == EXPECTED_RESULT``` for **ALL** your test cases.\n",
    "* implement a function ```cross(A,B)``` \n",
    "<br>which returns a set of ways of concatenating one item from collection A with one from B. <br>Test case: A='BG' (which means boy or girl) B='1234567' (which means day of the week, Sunday = 1), then <br>```bgbirthdays = cross('BG', '1234567')``` should return a 14 element set and <br>```S3 = cross(bgbirthdays, bgbirthdays);len(S3)``` a set with 196 elements. \n",
    "<br>If you use test case ```suits = u'♥♠♦♣'; ranks = u'AKQJT98765432'; pokerdeck = cross(suits,ranks)``` this should output a full card deck (52 elements).\n",
    "* implement a function ``` P(event, space)``` \n",
    "<br>which returns the probability of an event, given a sample space. Here take events and space as sets. Return value should be a fraction. \n",
    "<br>HINT: use ```from fractions import Fraction```, for the favorable outcomes use the set intersection, counting the cases use the built-in python function ```len(object)```. \n",
    "<br>Test case: sample space = die, event = all even events.\n",
    "* for card games or urn experiments you will need hands: e.g. in Poker all 5-card combinations from a deck. \n",
    "<br>So write a function ```combos(items, n)``` \n",
    "<br>which returns all combinations of n items; each combination is a space-separated string. <br>HINT: the function ```import itertools; itertools.combinations(items,number)``` does most of the work. The return values should be a (large) set strings which all use space ' ' as seperators. You can get this by using the construct \n",
    "<br>```set(map(' '.join, itertools.combinations(items,number)))```. \n",
    "<br>Tests: use a poker deck: \n",
    "<br>```Hands = combos(pokerdeck,5)```. There should be 2598960 hands. \n",
    "<br>Then you may use these Hands to check how likely one can get a flush (i.e. five cards all having the same suits):\n",
    "<br>```flush = {hand for hand in Hands if any(hand.count(suit) == 5 for suit in suits)}```. <br>The odds should be 33/16660.\n",
    "* implement a function ```balls(color,n)``` \n",
    "<br>which returns a set of n numbered balls of the given color. \n",
    "<br>Test case ```urn = balls('B', 6) | balls('R', 9) | balls('W', 8)``` should \n",
    "return \"{'B1', 'B2', 'B3', 'B4', 'B5', 'B6', 'R1', 'R2', 'R3', 'R4', 'R5', 'R6', 'R7', 'R8', 'R9', 'W1', 'W2', 'W3', 'W4', 'W5', 'W6', 'W7', 'W8'}\"\n",
    "* implement a function ```select(color, n, space)``` \n",
    "<br>which returns subset of the sample space with exactly ```n``` balls of given ```color```\n",
    "<br>Test case:\n",
    "<br>```U6=['W1 R4 W3 R7 R2 W7',\n",
    " 'R3 W1 B6 W3 R2 W7',\n",
    " 'R3 W5 B4 B2 W8 W7',\n",
    " 'W2 B1 R3 B2 R8 B5',\n",
    " 'B1 R5 W6 R9 R7 B5']\n",
    " P(select('W', 3,U6), U6)```\n",
    "should return \n",
    "<br>```Fraction(3, 5)```\n"
   ]
  },
  {
   "cell_type": "markdown",
   "metadata": {},
   "source": [
    "YOUR ANSWERS HERE"
   ]
  },
  {
   "cell_type": "code",
   "execution_count": null,
   "metadata": {},
   "outputs": [],
   "source": [
    "def choose(n,c):\n",
    "    '''returns the number of ways to choose c items from a list of n items. '''\n",
    "    ### write your code here ###\n",
    "    raise NotImplementedError()\n",
    "    ### your code ends here ###"
   ]
  }
 ],
 "metadata": {
  "kernelspec": {
   "display_name": "Python 3",
   "language": "python",
   "name": "python3"
  },
  "language_info": {
   "codemirror_mode": {
    "name": "ipython",
    "version": 3
   },
   "file_extension": ".py",
   "mimetype": "text/x-python",
   "name": "python",
   "nbconvert_exporter": "python",
   "pygments_lexer": "ipython3",
   "version": "3.6.5"
  },
  "nbTranslate": {
   "displayLangs": [
    "de",
    "en"
   ],
   "hotkey": "alt-t",
   "langInMainMenu": true,
   "sourceLang": "en",
   "targetLang": "de",
   "useGoogleTranslate": true
  }
 },
 "nbformat": 4,
 "nbformat_minor": 2
}
